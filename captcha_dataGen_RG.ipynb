{
 "cells": [
  {
   "cell_type": "markdown",
   "metadata": {},
   "source": [
    "### 由于之前`captcha_dataGen.ipynb`中用captcha库生成的验证码会有倾斜\n",
    "### 为了先简化问题难度，本项目打算自己写验证码生成，生成工整排列的验证码"
   ]
  },
  {
   "cell_type": "markdown",
   "metadata": {},
   "source": [
    "[python模块之PIL模块（生成随机验证码图片)](https://www.cnblogs.com/fu-yong/p/8811851.html) --- 主要看一下pillow的基本用法"
   ]
  },
  {
   "cell_type": "code",
   "execution_count": 53,
   "metadata": {},
   "outputs": [],
   "source": [
    "import os\n",
    "import numpy as np \n",
    "import pandas as pd \n",
    "from cv2 import cv2 as cv\n",
    "import matplotlib\n",
    "import matplotlib.pyplot as plt \n",
    "from PIL import Image, ImageDraw, ImageFont\n",
    "import random\n",
    "import string\n",
    "\n",
    "ROOT_DIR = os.getcwd()\n",
    "DATA_DIR = os.path.join(ROOT_DIR, 'data_via_RG')\n",
    "FONT = [r'/System/Library/Fonts/Avenir Next.ttc'] "
   ]
  },
  {
   "cell_type": "code",
   "execution_count": 54,
   "metadata": {},
   "outputs": [
    {
     "output_type": "execute_result",
     "data": {
      "text/plain": "'0123456789'"
     },
     "metadata": {},
     "execution_count": 54
    }
   ],
   "source": [
    "character_set_digit = string.digits\n",
    "character_set_digit"
   ]
  },
  {
   "cell_type": "code",
   "execution_count": 55,
   "metadata": {},
   "outputs": [],
   "source": [
    "def gen_rand_text(character_set:str, length=4):\n",
    "    '''\n",
    "    生成len长度的随机字符串，字符来自于指定字符集\n",
    "    character_set: 字符集\n",
    "    length: 生成的字符串长度，默认为4\n",
    "    '''\n",
    "    return ''.join([ random.choice(character_set) for i in range(length)])\n",
    "\n",
    "# gen_rand_text(character_set_digit, length=4)"
   ]
  },
  {
   "cell_type": "markdown",
   "metadata": {},
   "source": [
    "上面函数可以被下面的lambda表达式替代"
   ]
  },
  {
   "cell_type": "code",
   "execution_count": 56,
   "metadata": {},
   "outputs": [],
   "source": [
    "f = lambda character_set, length: ''.join([ random.choice(character_set) for i in range(length)])\n",
    "# f(character_set_digit, 4)"
   ]
  },
  {
   "cell_type": "code",
   "execution_count": 57,
   "metadata": {},
   "outputs": [],
   "source": [
    "def background_rnd_fill(background_img, fill_range=(32,127)):\n",
    "    '''\n",
    "    将背景画布按像素随机填充颜色\n",
    "    background_img: pillow的Image对象\n",
    "    fill_range: tuple类型，每个像素的颜色范围0~255，默认(32,127)\n",
    "    '''\n",
    "    background_filled = background_img.copy() # 为了不破坏原背景，这里用copy\n",
    "    drawer = ImageDraw.Draw(background_filled) # 在Image对象上创建画笔对象\n",
    "    width, height = background_img.size # 获取背景画布的尺寸\n",
    "    for x in range(width):\n",
    "        for y in range(height):\n",
    "            drawer.point( (x,y), fill=(\n",
    "                random.randint(fill_range[0], fill_range[1]),\n",
    "                random.randint(fill_range[0], fill_range[1]),\n",
    "                random.randint(fill_range[0], fill_range[1])\n",
    "            ) )# 每个像素填充随机颜色\n",
    "    return background_filled\n",
    "\n",
    "# background_rnd_fill(background_img, fill_range=(32,127))"
   ]
  },
  {
   "cell_type": "code",
   "execution_count": 58,
   "metadata": {},
   "outputs": [],
   "source": [
    "def draw_text(background_img, text:str, font=None, fill=(255,0,0)):\n",
    "    '''\n",
    "    在背景画布上画图，我进行了位置计算，使得字符在画布中能居中显示\n",
    "    background_img: pillow的Image对象\n",
    "    text: 要画的字符\n",
    "    font: str类型，字体路径，默认为None\n",
    "    fill: 画的字符的填充色，默认为(255,0,0)=red\n",
    "    '''\n",
    "    width, height = background_img.size # 获取背景画布的尺寸\n",
    "    img = background_img.copy() # 为了不破坏原背景，这里用copy\n",
    "    drawer = ImageDraw.Draw(img) # 在Image对象上创建画笔对象\n",
    "    i = 0\n",
    "    for character in text:\n",
    "        drawer.text( (5 + i * width//4, (height - font.size - 8) // 2), character, fill=fill,font=font) \n",
    "        # 5 、8 是我试出来的，我猜测字体本身会有偏移，这里可能当 验证码字符不是4的时候还需要调整\n",
    "        i += 1\n",
    "    return img\n",
    "\n",
    "# draw_text(background_img, 'abcd', font=my_font, fill=(255,0,0))"
   ]
  },
  {
   "cell_type": "code",
   "execution_count": 59,
   "metadata": {},
   "outputs": [],
   "source": [
    "def captcha_generator(character_set:str, font_set=None, save_path='./', size=(150,60),\n",
    "                         style=((255, 0, 0), (255, 255, 255), 40, False, (32,127)), captcha_len=4):\n",
    "    '''\n",
    "    R.G.的验证码生成器\n",
    "    character_set: 用于生成验证码的字符集，字符集以str类型传入\n",
    "    font_set: 字体集，str类型，本机的字体路径，如'path/to/font.ttf'\n",
    "    save_path: 验证码图片的保存位置，默认为当前文件夹\n",
    "    size: 生成验证码图片的尺寸，tuple类型，格式：（长，宽)，默认（150, 60）\n",
    "    style: 生成验证码的样式，tuple类型，格式：(text_color, background_color, text_size, rnd_background, fill_range), \n",
    "            _color均为三元tuple, text_size为int, rnd_background为bool用于控制是否把背景随机填色，默认不随机填色\n",
    "            fill_range: tuple类型，每个像素的颜色范围0~255，默认(32,127)【fill_range仅当rnd_background=True时起作用】\n",
    "    captcha_len: 要生成的验证码长度，即验证码字符个数\n",
    "    '''\n",
    "    # captcha_text = ''.join(random.sample(character_set, captcha_len)) # 这样生成的验证码中不会出现相同字符\n",
    "    captcha_text = ''.join([ random.choice(character_set) for i in range(captcha_len)]) # 验证码中可能出现相同字符\n",
    "    background_img = Image.new('RGB', size, style[1]) # 创建一个Image对象，new(mode, size, color=0) \n",
    "    my_font = ImageFont.truetype(font=font_set, size=style[2]) # 创建字体对象\n",
    "    # 注意一点，之前用captcha库时候，font传入的是list类型，而这里传入的要是一个str类型\n",
    "    if style[3]:\n",
    "        background_img = background_rnd_fill(background_img, fill_range=style[4])\n",
    "    captcha_img = draw_text(background_img, captcha_text, font=my_font, fill=style[0])\n",
    "    if not os.path.exists(save_path):\n",
    "        os.makedirs(save_path)\n",
    "    captcha_img.save(os.path.join(save_path, '{}.png'.format(captcha_text)), 'png')\n",
    "    print('Captcha {} generated!'.format(captcha_text))\n",
    "    return captcha_text\n",
    "\n",
    "# captcha_generator(character_set_digit, font_set=FONT[0], captcha_len=4)"
   ]
  },
  {
   "cell_type": "code",
   "execution_count": 61,
   "metadata": {},
   "outputs": [
    {
     "output_type": "stream",
     "name": "stdout",
     "text": "Captcha 7160 generated!\nCaptcha 2393 generated!\nCaptcha 9789 generated!\nCaptcha 8524 generated!\nCaptcha 8225 generated!\nCaptcha 4070 generated!\nCaptcha 0290 generated!\nCaptcha 5261 generated!\nCaptcha 4088 generated!\nCaptcha 4300 generated!\n"
    }
   ],
   "source": [
    "amount = 10\n",
    "for i in range(amount): #  如果一个验证码随机的时候重复出现了，那么只会被保存一次\n",
    "    captcha_generator(character_set_digit, captcha_len=4, font_set=FONT[0], save_path=DATA_DIR)\n"
   ]
  }
 ],
 "metadata": {
  "language_info": {
   "codemirror_mode": {
    "name": "ipython",
    "version": 3
   },
   "file_extension": ".py",
   "mimetype": "text/x-python",
   "name": "python",
   "nbconvert_exporter": "python",
   "pygments_lexer": "ipython3",
   "version": "3.7.5-final"
  },
  "orig_nbformat": 2,
  "kernelspec": {
   "name": "python37564bit7864ce697006450d81c3f54dae018d4c",
   "display_name": "Python 3.7.5 64-bit"
  }
 },
 "nbformat": 4,
 "nbformat_minor": 2
}