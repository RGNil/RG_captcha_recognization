{
 "cells": [
  {
   "cell_type": "markdown",
   "metadata": {},
   "source": [
    "参考资料：\n",
    "+ https://blog.csdn.net/shebao3333/article/details/78808066 - 好\n",
    "+ https://blog.csdn.net/xdzhangzhenhao/article/details/81147838\n",
    "+ "
   ]
  },
  {
   "cell_type": "code",
   "execution_count": 336,
   "metadata": {},
   "outputs": [],
   "source": [
    "import os\n",
    "import numpy as np \n",
    "import pandas as pd \n",
    "from cv2 import cv2 as cv\n",
    "import matplotlib\n",
    "import matplotlib.pyplot as plt \n",
    "\n",
    "\n",
    "ROOT_DIR = os.getcwd()\n",
    "DATA_DTR = os.path.join(ROOT_DIR, 'captcha_test_data')"
   ]
  },
  {
   "cell_type": "markdown",
   "metadata": {},
   "source": [
    "下面的一个cell的代码是分割captha"
   ]
  },
  {
   "cell_type": "code",
   "execution_count": null,
   "metadata": {},
   "outputs": [],
   "source": [
    "# 为了方便图片直接显示在jupyter中，cv的imshow不能直接在jupyter中显示\n",
    "# 为了用matplotlib显示（ 不能用plt.show()，要用plt.imshow() ）\n",
    "# 由于CV的通道是BGR顺序，而matpotlib是 RGB顺序，这里要做通道转换\n",
    "# 方法一\n",
    "def bgr2rgb_v2(img):\n",
    "    # 用cv自带的分割和合并函数\n",
    "    B,G,R = cv.split(img)\n",
    "    return cv.merge([R,G,B])\n",
    "# 方法二\n",
    "def bgr2rgb(img):\n",
    "    # 直接用python切片特性，[start: end: step], 这里start end为空，则默认遍历全部，step为-1则倒序遍历\n",
    "    return img[:, :, ::-1]\n",
    "\n",
    "def genNeedImg(img_path, img_type='binary', binary_therhold=127, \n",
    "               binary_revese=False, size=None, save=False, path='./'):\n",
    "    '''\n",
    "    用于生成指定大小的灰度图或二值图, img_path为图像路径\n",
    "    type为标志转换类型，默认为binary，可选的值为binary或gray\n",
    "    binary_therhold为二值图划分阈值，默认127（即大于127的像素设置为255，否则置0）\n",
    "    binary_revese默认为False，True时黑白颠倒（即大于127的像素设置为0，否则置255）\n",
    "    size为tuple类型，用于指定生成图像的尺寸, 如：(512,512)，默认为None表示输出原图像尺寸\n",
    "    save为保存标志，默认为False，为true时将生成的图保存到path(默认为当前文件夹)\n",
    "    '''\n",
    "    img_raw = cv.imread(img_path)\n",
    "    if size != None: # 调整图像尺寸\n",
    "        img_raw= cv.resize(img_raw,size)\n",
    "    img_gray = cv.cvtColor(img_raw,cv.COLOR_RGB2GRAY) # 转换颜色空间为灰度\n",
    "    # Add some extra padding around the image\n",
    "    # img_gray = cv.copyMakeBorder(img_gray, 8, 8, 8, 8, cv.BORDER_REPLICATE)\n",
    "    img_name = img_path[9:].split('.')[0] # 获取图像原始名称\n",
    "    if img_type == 'gray': # 生成灰度图\n",
    "        if save:\n",
    "            cv.imwrite(os.path.join(path,'{}_gray.bmp'.format(img_name)),img_gray)\n",
    "            print('Gray image saved at {}'.format(os.path.join(path,'{}_gray.bmp'.format(img_name))))\n",
    "        else:\n",
    "            print('Gray image generated!')\n",
    "            return img_gray\n",
    "    else: # 生成二值图\n",
    "        if binary_revese:\n",
    "            ret, img_binary = cv.threshold(img_gray,binary_therhold,255,cv.THRESH_BINARY_INV) #反二进制阈值化\n",
    "        else:\n",
    "            ret, img_binary = cv.threshold(img_gray,binary_therhold,255,cv.THRESH_BINARY)# 二进制阈值化\n",
    "        if save:\n",
    "            cv.imwrite(os.path.join(path,'{}_binary.bmp'.format(img_name)),img_binary)\n",
    "            print('threshold:{}'.format(ret)) # 输出转换阈值\n",
    "            print('Binary image savd at {}'.format(os.path.join(path,'{}_binary.bmp'.format(img_name))))\n",
    "        else:\n",
    "            print('Binary image generated!')\n",
    "            print('threshold:{}'.format(ret)) # 输出转换阈值\n",
    "            return img_binary\n",
    "\n",
    "def captcha_character_detach(captcha_img_path, save_flag=False, characters_save_path='./', captcha_len=4):\n",
    "    captcha_img_basename = os.path.basename(captcha_img_path) # 从路径中提取带后缀文件名，如 '0415.png'\n",
    "    captcha_text = os.path.splitext(captcha_img_basename)[0] # ['0415', 'png']\n",
    "    img_gray = cv.imread(captcha_img_path, cv.IMREAD_GRAYSCALE) # 灰度图读入\n",
    "    img_binary = genNeedImg(captcha_img_path, img_type='binary', binary_therhold=127, binary_revese=True) # 直接调用genNeedImg生成二值图\n",
    "    contours, hierarchy = cv.findContours(img_binary, cv.RETR_EXTERNAL, cv.CHAIN_APPROX_SIMPLE) # 划分字符轮廓\n",
    "    # 由于直接划分的轮廓太多了（我换了字体后好像不会划分很多），这里考虑记录每个每个轮廓的数据，然后取 wxh （长x宽，即面积）的top4\n",
    "    boundings = [cv.boundingRect(contour) for contour in contours] # 获取每个轮廓的信息，(x,y,width,height) x,y为轮廓最左上角坐标\n",
    "    boundings.sort(key=lambda tuple_x: tuple_x[2]*tuple_x[3], reverse=True) # lamdba传入的就是计算每个轮廓的面积，然后按面积大小降序排序\n",
    "    if len(boundings) < captcha_len: # 获取到的轮廓小于4，则说明没有把4个字符都区分开来\n",
    "        print('Bondings less then 4, captcha discarded!')\n",
    "        return # 直接结束，丢弃这个验证码样本\n",
    "    '''\n",
    "    # 下面开始画矩形分割框，这部分其实用不到，只是为了调试看画的样子\n",
    "    # -----------------------------------------------------------------------------------------\n",
    "    temp_img = cv.imread(captcha_img_path, cv.IMREAD_UNCHANGED) # 以原始格式读入图片\n",
    "    temp_img = bgr2rgb(temp_img) # 通道转换\n",
    "    for bounding in boundings[:4]: # 取面积最大的前4个轮廓\n",
    "        x, y, width, height = bounding\n",
    "        img_addBox = cv.rectangle(temp_img, (x,y), (x + width, y + height), (0, 255, 0), 1)\n",
    "    plt.imshow(img_addBox, cmap='gray')\n",
    "    # ------------------------------------------------------------------------------------------\n",
    "    '''\n",
    "    boundings_save = sorted(boundings[:captcha_len], key=lambda tuple_x: tuple_x[0]) # 按轮廓的x坐标大小排序，tuple_x=(x,y,width,height) \n",
    "    character_splited = []\n",
    "    for character_bounding, character_text in zip(boundings_save, captcha_text):\n",
    "        x, y, width, height = character_bounding\n",
    "        margin = 2 # 提取单个字符的时候，在获取的轮廓拓宽margin个像素，因为findContours()的轮廓可能很紧凑\n",
    "        character_img = img_gray[y - margin:y + height + margin, x - margin:x + width + margin]\n",
    "        if save_flag:\n",
    "            if not os.path.exists(characters_save_path): # 如果要保存的路径不存在就创建该路径目录\n",
    "                os.makedirs(characters_save_path)\n",
    "            character_path = os.path.join(characters_save_path, '{}_0.png'.format(character_text))\n",
    "            i = 0\n",
    "            while True:\n",
    "                i += 1\n",
    "                if os.path.exists(character_path): # 该字符已经有样本，则在正确标签后面加_i, i标记重复次数\n",
    "                    character_path = os.path.join(characters_save_path, '{}_{}.png'.format(character_text, i))\n",
    "                else: # 不存在重名路径，则跳出\n",
    "                    break\n",
    "            cv.imwrite(character_path, character_img)\n",
    "            print('Character detached from captcha, character has been saved at {}'.format(characters_save_path))\n",
    "        character_splited.append(character_img)\n",
    "    return character_splited"
   ]
  },
  {
   "cell_type": "code",
   "execution_count": 337,
   "metadata": {},
   "outputs": [
    {
     "output_type": "execute_result",
     "data": {
      "text/plain": "'/Users/rgmax/Desktop/Ex2_验证码识别/characters/0.png'"
     },
     "metadata": {},
     "execution_count": 337
    }
   ],
   "source": [
    "target_imgs = [ os.path.join(DATA, img_name) for img_name in os.listdir(DATA)] \n",
    "target_imgs.sort() # 升序，注意不能 listA = listA.sort(), sort没有返回值\n",
    "target_imgs[0]"
   ]
  },
  {
   "cell_type": "code",
   "execution_count": 340,
   "metadata": {},
   "outputs": [
    {
     "output_type": "execute_result",
     "data": {
      "text/plain": "(32, 26, 3)"
     },
     "metadata": {},
     "execution_count": 340
    }
   ],
   "source": [
    "captcha_imgs_folder = DATA\n",
    "target_imgs = [ os.path.join(captcha_imgs_folder, img_name) \n",
    "                    for img_name in os.listdir(captcha_imgs_folder)] \n",
    "target_imgs.sort() # 升序，注意不能 listA = listA.sort(), sort没有返回值\n",
    "\n",
    "img = cv.imread(target_imgs[0])\n",
    "img.shape"
   ]
  },
  {
   "cell_type": "code",
   "execution_count": 341,
   "metadata": {},
   "outputs": [
    {
     "output_type": "execute_result",
     "data": {
      "text/plain": "(32, 26)"
     },
     "metadata": {},
     "execution_count": 341
    }
   ],
   "source": [
    "img_gray = cv.cvtColor(img, cv.COLOR_BGR2GRAY)\n",
    "img_gray.shape"
   ]
  },
  {
   "cell_type": "code",
   "execution_count": 342,
   "metadata": {},
   "outputs": [
    {
     "output_type": "execute_result",
     "data": {
      "text/plain": "(32, 26)"
     },
     "metadata": {},
     "execution_count": 342
    }
   ],
   "source": [
    "img_gray0 = cv.imread(target_imgs[0], cv.IMREAD_GRAYSCALE)\n",
    "img_gray0.shape"
   ]
  },
  {
   "cell_type": "code",
   "execution_count": 349,
   "metadata": {},
   "outputs": [],
   "source": [
    "def gen_data_set(captcha_imgs_folder):\n",
    "    '''\n",
    "    此函数用于创建 样本集和对应标签集合,返回的数据集是np.array类型\n",
    "    '''\n",
    "    target_imgs = [ os.path.join(captcha_imgs_folder, img_name) \n",
    "                    for img_name in os.listdir(captcha_imgs_folder)] \n",
    "    target_imgs.sort() # 升序，注意不能 listA = listA.sort(), sort没有返回值\n",
    "    data_set, label_set = [], []\n",
    "    for captcha in target_imgs:\n",
    "        img = cv.imread(captcha, cv.IMREAD_GRAYSCALE) # 以灰度图读入验证码/单个字符的图\n",
    "        img = cv.resize(img, (20,20)) # 调整尺寸到20x20\n",
    "        img = img.reshape(400,)  # reshape成一维数组（sklearn用kNN时需要的格式）\n",
    "        data_set.append(img)\n",
    "        label_set.append(os.path.basename(captcha)[0])\n",
    "    return np.array(data_set), np.array(label_set)\n",
    "\n",
    "data_set, label_set = gen_data_set(DATA)\n",
    "# data_set[0]\n",
    "# plt.imshow(data_set[8])"
   ]
  },
  {
   "cell_type": "markdown",
   "metadata": {},
   "source": [
    "### 下面用sklearn的工具分割数据集"
   ]
  },
  {
   "cell_type": "code",
   "execution_count": 350,
   "metadata": {},
   "outputs": [
    {
     "output_type": "execute_result",
     "data": {
      "text/plain": "(0.3333333333333333, 0.3333333333333333)"
     },
     "metadata": {},
     "execution_count": 350
    }
   ],
   "source": [
    "from sklearn.model_selection import train_test_split\n",
    "\n",
    "X_train, X_test, y_train, y_test = train_test_split(data_set, label_set, test_size=0.25, random_state=40)\n",
    "len(X_test) / len(X_train) , len(y_test) / len(y_train)"
   ]
  },
  {
   "cell_type": "markdown",
   "metadata": {},
   "source": [
    "### 下面用sklearn的kNN工具来做训练和预测"
   ]
  },
  {
   "cell_type": "code",
   "execution_count": 351,
   "metadata": {},
   "outputs": [
    {
     "output_type": "execute_result",
     "data": {
      "text/plain": "KNeighborsClassifier(algorithm='auto', leaf_size=30, metric='minkowski',\n                     metric_params=None, n_jobs=None, n_neighbors=3, p=2,\n                     weights='uniform')"
     },
     "metadata": {},
     "execution_count": 351
    }
   ],
   "source": [
    "from sklearn.neighbors import KNeighborsClassifier\n",
    "\n",
    "kNN_classifier = KNeighborsClassifier(n_neighbors=3)\n",
    "kNN_classifier"
   ]
  },
  {
   "cell_type": "code",
   "execution_count": 352,
   "metadata": {},
   "outputs": [
    {
     "output_type": "execute_result",
     "data": {
      "text/plain": "KNeighborsClassifier(algorithm='auto', leaf_size=30, metric='minkowski',\n                     metric_params=None, n_jobs=None, n_neighbors=3, p=2,\n                     weights='uniform')"
     },
     "metadata": {},
     "execution_count": 352
    }
   ],
   "source": [
    "kNN_classifier.fit(X_train, y_train)"
   ]
  },
  {
   "cell_type": "code",
   "execution_count": 353,
   "metadata": {},
   "outputs": [],
   "source": [
    "predicted_result = kNN_classifier.predict(X_test)\n",
    "predicted_result = pd.Series(predicted_result)"
   ]
  },
  {
   "cell_type": "code",
   "execution_count": 354,
   "metadata": {},
   "outputs": [],
   "source": [
    "actual_result = pd.Series(y_test)\n",
    "# actual_result"
   ]
  },
  {
   "cell_type": "code",
   "execution_count": 355,
   "metadata": {},
   "outputs": [
    {
     "output_type": "execute_result",
     "data": {
      "text/plain": "0     True\n1     True\n2     True\n3     True\n4     True\n      ... \n93    True\n94    True\n95    True\n96    True\n97    True\nLength: 98, dtype: bool"
     },
     "metadata": {},
     "execution_count": 355
    }
   ],
   "source": [
    "predicted_result == actual_result"
   ]
  },
  {
   "cell_type": "code",
   "execution_count": 356,
   "metadata": {},
   "outputs": [],
   "source": [
    "def prediction_accuracy(predicted_results, actual_results):\n",
    "    '''\n",
    "    预测结果的正确率计算\n",
    "    predicted_results, actual_results都需要是pandas的Series对象\n",
    "    '''\n",
    "    compare = predicted_results == actual_results # 返回一个Series对象\n",
    "    return compare.value_counts().loc[True] /  compare.count() # 预测和实际值匹配的占所有的比例"
   ]
  },
  {
   "cell_type": "code",
   "execution_count": 357,
   "metadata": {},
   "outputs": [
    {
     "output_type": "execute_result",
     "data": {
      "text/plain": "1.0"
     },
     "metadata": {},
     "execution_count": 357
    }
   ],
   "source": [
    "prediction_accuracy(predicted_result, actual_result)"
   ]
  },
  {
   "cell_type": "markdown",
   "metadata": {},
   "source": [
    "这是100%正确率是可以理解的，因为我自己生成的验证码分割出来的每个字符实际上都是一模一样的"
   ]
  },
  {
   "cell_type": "markdown",
   "metadata": {},
   "source": [
    "### 下面我尝试自己实现一下kNN算法"
   ]
  },
  {
   "cell_type": "code",
   "execution_count": 358,
   "metadata": {},
   "outputs": [
    {
     "output_type": "execute_result",
     "data": {
      "text/plain": "array([ 100,  400,  900, 1600, 2500, 3600, 4900])"
     },
     "metadata": {},
     "execution_count": 358
    }
   ],
   "source": [
    "a = np.array(\n",
    "    [1,2,3,4,5,6,7]\n",
    ")\n",
    "b = np.array(\n",
    "    [11,22,33,44,55,66,77]\n",
    ")\n",
    "np.square(b-a)"
   ]
  },
  {
   "cell_type": "code",
   "execution_count": 359,
   "metadata": {},
   "outputs": [
    {
     "output_type": "execute_result",
     "data": {
      "text/plain": "(2, [(0, 0), (1, 1), (2, 2), (3, 3), (4, 2)])"
     },
     "metadata": {},
     "execution_count": 359
    }
   ],
   "source": [
    "a = [ 0, 1, 2, 3, 2]\n",
    "a.index(2), list(enumerate(a))"
   ]
  },
  {
   "cell_type": "code",
   "execution_count": 360,
   "metadata": {},
   "outputs": [
    {
     "output_type": "execute_result",
     "data": {
      "text/plain": "(array([0, 1, 2, 2, 3]), array([0, 1, 2, 4, 3]))"
     },
     "metadata": {},
     "execution_count": 360
    }
   ],
   "source": [
    "# 获取list中最大的n个数的索引位置, 可以有重复的值\n",
    "a = np.array([0,1,2,3,2])\n",
    "np.sort(a), np.argsort([0,1,2,3,2]) # 用np的sort可以升序排序，argsort在升序排序后返回原来的索引"
   ]
  },
  {
   "cell_type": "code",
   "execution_count": 361,
   "metadata": {},
   "outputs": [
    {
     "output_type": "execute_result",
     "data": {
      "text/plain": "array([3, 4, 2])"
     },
     "metadata": {},
     "execution_count": 361
    }
   ],
   "source": [
    "np.argsort(a)[-3:][::-1]"
   ]
  },
  {
   "cell_type": "code",
   "execution_count": 362,
   "metadata": {},
   "outputs": [
    {
     "output_type": "execute_result",
     "data": {
      "text/plain": "array([2, 2])"
     },
     "metadata": {},
     "execution_count": 362
    }
   ],
   "source": [
    "a[[2,4]]"
   ]
  },
  {
   "cell_type": "code",
   "execution_count": 363,
   "metadata": {},
   "outputs": [],
   "source": [
    "def judger(k_prediction):\n",
    "    '''\n",
    "    判决器，k_prediction是有权重的，索引最小代表该预测值和实际值相似度最大\n",
    "    但是，可能出现如：k=5，k_prediction=（7, 1, 2, 2, 2），这样的情况，我定预测结果为2\n",
    "    也就是，重复预测值个数 >= 预测值总数的2/3，则取该重复预测值\n",
    "    '''\n",
    "    k = len(k_prediction)\n",
    "    tmp = list(k_prediction)\n",
    "    [tmp.remove(i) for i in list(set(tmp))]\n",
    "    duplication = set(tmp) # 找出预测值中重复元素\n",
    "    if k_prediction[0] not in duplication: # 最接近的预测值不再重复出现的\n",
    "        top_dupli = tmp[ min([ tmp.index(d) for d in duplication]) ]# 找出重复预测值中接近程度最高的值\n",
    "        count = sum([ 1 for i in k_prediction if i==top_dupli]) # 统计较高相似度的重复预测值出现次数\n",
    "        if count >= int(2/3 * k): # 如果较高相似度的中伏预测值出现次数 >= 预测值总数的2/3，则取该预测值\n",
    "            return top_dupli    \n",
    "    return k_prediction[0]\n",
    "\n",
    "# judger( (5,2,2,3,3,3) )"
   ]
  },
  {
   "cell_type": "code",
   "execution_count": 364,
   "metadata": {},
   "outputs": [],
   "source": [
    "def RG_kNN_classifier(feature_set_train, label_set_train, feature_set_test, k=3):\n",
    "    '''\n",
    "    所有的feature集合中的图像矩阵需要reshape成一维数组（传入前特征工程需要把图像先resize成20x20再reshape成（400,））\n",
    "    feature_set_train, label_set_train, feature_set_test都必须是np.array\n",
    "    '''\n",
    "    label_set_Kpredict = []\n",
    "    for test_feature in feature_set_test:\n",
    "        distances = []\n",
    "        for train_feature in feature_set_train:\n",
    "            distances.append(\n",
    "                np.sqrt(np.sum(np.square(test_feature - train_feature)))\n",
    "            )\n",
    "        topK = np.argsort(distances)[-k:][::-1] # [-k:]是提取最后k个（因为argsort是升序排序）,[::-1]则是将其反序\n",
    "        label_set_Kpredict.append(\n",
    "            tuple(label_set_train[list(topK)]) # 保存最接近的k个预测值\n",
    "        )\n",
    "    # return label_set_Kpredict\n",
    "    # k个最接近的值，做一个投票器，利用投票器选出最终预测值\n",
    "    label_set_single = [ judger(labels) for labels in label_set_Kpredict]\n",
    "    return label_set_single, label_set_Kpredict\n"
   ]
  },
  {
   "cell_type": "code",
   "execution_count": 365,
   "metadata": {},
   "outputs": [
    {
     "output_type": "execute_result",
     "data": {
      "text/plain": "6"
     },
     "metadata": {},
     "execution_count": 365
    }
   ],
   "source": [
    "k = 9\n",
    "int(2/3 * k)"
   ]
  },
  {
   "cell_type": "code",
   "execution_count": 366,
   "metadata": {},
   "outputs": [
    {
     "output_type": "execute_result",
     "data": {
      "text/plain": "{1, 2, 5}"
     },
     "metadata": {},
     "execution_count": 366
    }
   ],
   "source": [
    "# 找出list中重复元素的方法\n",
    "a = [5,5, 5, 1, 1, 1, 2, 2, 3, 4]\n",
    "b = list(set(a))\n",
    "[a.remove(i) for i in b]\n",
    "set(a)"
   ]
  },
  {
   "cell_type": "code",
   "execution_count": 367,
   "metadata": {},
   "outputs": [
    {
     "output_type": "execute_result",
     "data": {
      "text/plain": "['4',\n '5',\n '4',\n '8',\n '3',\n '8',\n '8',\n '4',\n '8',\n '4',\n '5',\n '4',\n '4',\n '3',\n '3',\n '5',\n '4',\n '3',\n '9',\n '8',\n '3',\n '9',\n '4',\n '8',\n '7',\n '4',\n '8',\n '4',\n '9',\n '4',\n '7',\n '8',\n '7',\n '4',\n '4',\n '8',\n '8',\n '7',\n '9',\n '5',\n '9',\n '3',\n '4',\n '3',\n '5',\n '4',\n '4',\n '7',\n '5',\n '5',\n '3',\n '4',\n '4',\n '8',\n '7',\n '4',\n '8',\n '5',\n '8',\n '7',\n '3',\n '4',\n '4',\n '4',\n '8',\n '3',\n '4',\n '8',\n '8',\n '9',\n '4',\n '9',\n '7',\n '7',\n '8',\n '8',\n '4',\n '4',\n '9',\n '9',\n '7',\n '4',\n '4',\n '5',\n '7',\n '8',\n '5',\n '3',\n '7',\n '8',\n '9',\n '3',\n '5',\n '8',\n '4',\n '3',\n '3',\n '7']"
     },
     "metadata": {},
     "execution_count": 367
    }
   ],
   "source": [
    "RG_kNN_classifier(X_train,y_train,X_test, k=3)"
   ]
  }
 ],
 "metadata": {
  "language_info": {
   "codemirror_mode": {
    "name": "ipython",
    "version": 3
   },
   "file_extension": ".py",
   "mimetype": "text/x-python",
   "name": "python",
   "nbconvert_exporter": "python",
   "pygments_lexer": "ipython3",
   "version": "3.7.5-final"
  },
  "orig_nbformat": 2,
  "kernelspec": {
   "name": "python37564bit7864ce697006450d81c3f54dae018d4c",
   "display_name": "Python 3.7.5 64-bit"
  }
 },
 "nbformat": 4,
 "nbformat_minor": 2
}