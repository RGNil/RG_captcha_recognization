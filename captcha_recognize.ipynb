{
 "cells": [
  {
   "cell_type": "markdown",
   "metadata": {},
   "source": [
    "参考资料：\n",
    "+ https://blog.csdn.net/shebao3333/article/details/78808066 - 好\n",
    "+ https://blog.csdn.net/xdzhangzhenhao/article/details/81147838\n",
    "+ "
   ]
  },
  {
   "cell_type": "code",
   "execution_count": 225,
   "metadata": {},
   "outputs": [],
   "source": [
    "import os\n",
    "import numpy as np \n",
    "import pandas as pd \n",
    "from cv2 import cv2 as cv\n",
    "import matplotlib\n",
    "import matplotlib.pyplot as plt \n",
    "\n",
    "\n",
    "ROOT_DIR = os.getcwd()\n",
    "TRAIN_DATA = os.path.join(ROOT_DIR, 'digits_data')\n",
    "TEST_DATA_CAP = os.path.join(ROOT_DIR, 'captcha_test_data')\n",
    "TEST_DATA_CHAR = os.path.join(ROOT_DIR, 'character_test_data')"
   ]
  },
  {
   "cell_type": "markdown",
   "metadata": {},
   "source": [
    "下面的一个cell的代码是分割captha"
   ]
  },
  {
   "cell_type": "code",
   "execution_count": 226,
   "metadata": {},
   "outputs": [],
   "source": [
    "# 为了方便图片直接显示在jupyter中，cv的imshow不能直接在jupyter中显示\n",
    "# 为了用matplotlib显示（ 不能用plt.show()，要用plt.imshow() ）\n",
    "# 由于CV的通道是BGR顺序，而matpotlib是 RGB顺序，这里要做通道转换\n",
    "# 方法一\n",
    "def bgr2rgb_v2(img):\n",
    "    # 用cv自带的分割和合并函数\n",
    "    B,G,R = cv.split(img)\n",
    "    return cv.merge([R,G,B])\n",
    "# 方法二\n",
    "def bgr2rgb(img):\n",
    "    # 直接用python切片特性，[start: end: step], 这里start end为空，则默认遍历全部，step为-1则倒序遍历\n",
    "    return img[:, :, ::-1]\n",
    "\n",
    "def genNeedImg(img_path, img_type='binary', binary_therhold=127, \n",
    "               binary_reverse=False, size=None, save=False, path='./'):\n",
    "    '''\n",
    "    用于生成指定大小的灰度图或二值图, img_path为图像路径\n",
    "    type为标志转换类型，默认为binary，可选的值为binary或gray\n",
    "    binary_therhold为二值图划分阈值，默认127（即大于127的像素设置为255，否则置0）\n",
    "    binary_reverse默认为False，True时黑白颠倒（即大于127的像素设置为0，否则置255）\n",
    "    size为tuple类型，用于指定生成图像的尺寸, 如：(512,512)，默认为None表示输出原图像尺寸\n",
    "    save为保存标志，默认为False，为true时将生成的图保存到path(默认为当前文件夹)\n",
    "    '''\n",
    "    img_raw = cv.imread(img_path)\n",
    "    if size != None: # 调整图像尺寸\n",
    "        img_raw= cv.resize(img_raw,size)\n",
    "    img_gray = cv.cvtColor(img_raw,cv.COLOR_RGB2GRAY) # 转换颜色空间为灰度\n",
    "    # Add some extra padding around the image\n",
    "    # img_gray = cv.copyMakeBorder(img_gray, 8, 8, 8, 8, cv.BORDER_REPLICATE)\n",
    "    img_name = img_path[9:].split('.')[0] # 获取图像原始名称\n",
    "    if img_type == 'gray': # 生成灰度图\n",
    "        if save:\n",
    "            cv.imwrite(os.path.join(path,'{}_gray.bmp'.format(img_name)),img_gray)\n",
    "            print('Gray image saved at {}'.format(os.path.join(path,'{}_gray.bmp'.format(img_name))))\n",
    "        else:\n",
    "            print('Gray image generated!')\n",
    "            return img_gray\n",
    "    else: # 生成二值图\n",
    "        if binary_reverse:\n",
    "            ret, img_binary = cv.threshold(img_gray,binary_therhold,255,cv.THRESH_BINARY_INV) #反二进制阈值化\n",
    "        else:\n",
    "            ret, img_binary = cv.threshold(img_gray,binary_therhold,255,cv.THRESH_BINARY)# 二进制阈值化\n",
    "        if save:\n",
    "            cv.imwrite(os.path.join(path,'{}_binary.bmp'.format(img_name)),img_binary)\n",
    "            print('threshold:{}'.format(ret)) # 输出转换阈值\n",
    "            print('Binary image savd at {}'.format(os.path.join(path,'{}_binary.bmp'.format(img_name))))\n",
    "        else:\n",
    "            print('Binary image generated!')\n",
    "            print('threshold:{}'.format(ret)) # 输出转换阈值\n",
    "            return img_binary\n",
    "\n",
    "def captcha_character_detach(captcha_img_path, save_flag=False, characters_save_path='./', captcha_len=4):\n",
    "    captcha_img_basename = os.path.basename(captcha_img_path) # 从路径中提取带后缀文件名，如 '0415.png'\n",
    "    captcha_text = os.path.splitext(captcha_img_basename)[0] # ['0415', 'png']\n",
    "    img_gray = cv.imread(captcha_img_path, cv.IMREAD_GRAYSCALE) # 灰度图读入\n",
    "    img_binary = genNeedImg(captcha_img_path, img_type='binary', binary_therhold=127, binary_revese=True) # 直接调用genNeedImg生成二值图\n",
    "    contours, hierarchy = cv.findContours(img_binary, cv.RETR_EXTERNAL, cv.CHAIN_APPROX_SIMPLE) # 划分字符轮廓\n",
    "    # 由于直接划分的轮廓太多了（我换了字体后好像不会划分很多），这里考虑记录每个每个轮廓的数据，然后取 wxh （长x宽，即面积）的top4\n",
    "    boundings = [cv.boundingRect(contour) for contour in contours] # 获取每个轮廓的信息，(x,y,width,height) x,y为轮廓最左上角坐标\n",
    "    boundings.sort(key=lambda tuple_x: tuple_x[2]*tuple_x[3], reverse=True) # lamdba传入的就是计算每个轮廓的面积，然后按面积大小降序排序\n",
    "    if len(boundings) < captcha_len: # 获取到的轮廓小于4，则说明没有把4个字符都区分开来\n",
    "        print('Bondings less then 4, captcha discarded!')\n",
    "        return # 直接结束，丢弃这个验证码样本\n",
    "    '''\n",
    "    # 下面开始画矩形分割框，这部分其实用不到，只是为了调试看画的样子\n",
    "    # -----------------------------------------------------------------------------------------\n",
    "    temp_img = cv.imread(captcha_img_path, cv.IMREAD_UNCHANGED) # 以原始格式读入图片\n",
    "    temp_img = bgr2rgb(temp_img) # 通道转换\n",
    "    for bounding in boundings[:4]: # 取面积最大的前4个轮廓\n",
    "        x, y, width, height = bounding\n",
    "        img_addBox = cv.rectangle(temp_img, (x,y), (x + width, y + height), (0, 255, 0), 1)\n",
    "    plt.imshow(img_addBox, cmap='gray')\n",
    "    # ------------------------------------------------------------------------------------------\n",
    "    '''\n",
    "    boundings_save = sorted(boundings[:captcha_len], key=lambda tuple_x: tuple_x[0]) # 按轮廓的x坐标大小排序，tuple_x=(x,y,width,height) \n",
    "    character_splited = []\n",
    "    for character_bounding, character_text in zip(boundings_save, captcha_text):\n",
    "        x, y, width, height = character_bounding\n",
    "        margin = 2 # 提取单个字符的时候，在获取的轮廓拓宽margin个像素，因为findContours()的轮廓可能很紧凑\n",
    "        character_img = img_gray[y - margin:y + height + margin, x - margin:x + width + margin]\n",
    "        if save_flag:\n",
    "            if not os.path.exists(characters_save_path): # 如果要保存的路径不存在就创建该路径目录\n",
    "                os.makedirs(characters_save_path)\n",
    "            character_path = os.path.join(characters_save_path, '{}_0.png'.format(character_text))\n",
    "            i = 0\n",
    "            while True:\n",
    "                i += 1\n",
    "                if os.path.exists(character_path): # 该字符已经有样本，则在正确标签后面加_i, i标记重复次数\n",
    "                    character_path = os.path.join(characters_save_path, '{}_{}.png'.format(character_text, i))\n",
    "                else: # 不存在重名路径，则跳出\n",
    "                    break\n",
    "            cv.imwrite(character_path, character_img)\n",
    "            print('Character detached from captcha, character has been saved at {}'.format(characters_save_path))\n",
    "        character_splited.append(character_img)\n",
    "    return character_splited"
   ]
  },
  {
   "cell_type": "code",
   "execution_count": 227,
   "metadata": {},
   "outputs": [
    {
     "output_type": "stream",
     "name": "stdout",
     "text": "Binary image generated!\nthreshold:127.0\n"
    },
    {
     "output_type": "execute_result",
     "data": {
      "text/plain": "array([[255, 255, 255, 255, 255, 255, 255, 255, 255, 255, 255, 255, 255,\n        255, 255, 255, 255, 255, 255, 255],\n       [255, 255, 255, 255, 255, 255, 255, 198,  26,  26,  26,  26, 198,\n        255, 255, 255, 255, 255, 255, 255],\n       [255, 255, 255, 255, 210, 128,   6,   0,   0,   0,   0,   0,   0,\n          6, 128, 210, 255, 255, 255, 255],\n       [255, 255, 255, 218,   0,   0,   0,   0,   0,   0,   0,   0,   0,\n          0,   0,   0, 242, 255, 255, 255],\n       [255, 255, 255,   0,   0,   0,   0,   0,   0,   0,   0,   0,   0,\n          0,   0,   0,  73, 255, 255, 255],\n       [255, 255,  64,   0,   0,   0,   0,  19, 174, 255, 255, 174,  19,\n          0,   0,   0,   0, 198, 255, 255],\n       [255, 255,  64,   0,   0,   0,   0, 236, 255, 255, 255, 255,  64,\n          0,   0,   0,   0,  64, 255, 255],\n       [255, 140,   0,   0,   0,   0,   0, 255, 255, 255, 255, 255, 255,\n          0,   0,   0,   0,  32, 198, 255],\n       [255, 140,   0,   0,   0,   0,   0, 255, 255, 255, 255, 255, 255,\n          0,   0,   0,   0,   0, 140, 255],\n       [255, 140,   0,   0,   0,   0,   0, 255, 255, 255, 255, 255, 255,\n          0,   0,   0,   0,   0, 140, 255],\n       [255, 140,   0,   0,   0,   0,   0, 255, 255, 255, 255, 255, 255,\n          0,   0,   0,   0,   0, 140, 255],\n       [255, 140,   0,   0,   0,   0,   0, 255, 255, 255, 255, 255, 255,\n          0,   0,   0,   0,   0, 140, 255],\n       [255, 198,  32,   0,   0,   0,   0, 255, 255, 255, 255, 255, 255,\n          0,   0,   0,   0,  64, 255, 255],\n       [255, 255,  64,   0,   0,   0,   0, 236, 255, 255, 255, 255,  64,\n          0,   0,   0,   0,  64, 255, 255],\n       [255, 255,  64,   0,   0,   0,   0,  19, 174, 255, 255, 174,  19,\n          0,   0,   0,   0, 198, 255, 255],\n       [255, 255, 255,   0,   0,   0,   0,   0,   0,   0,   0,   0,   0,\n          0,   0,   0,  73, 255, 255, 255],\n       [255, 255, 255, 218,   0,   0,   0,   0,   0,   0,   0,   0,   0,\n          0,   0,   0, 242, 255, 255, 255],\n       [255, 255, 255, 255, 210, 128,   6,   0,   0,   0,   0,   0,   0,\n          6, 128, 210, 255, 255, 255, 255],\n       [255, 255, 255, 255, 255, 255, 255, 198,  26,  26,  26,  26, 198,\n        255, 255, 255, 255, 255, 255, 255],\n       [255, 255, 255, 255, 255, 255, 255, 255, 255, 255, 255, 255, 255,\n        255, 255, 255, 255, 255, 255, 255]], dtype=uint8)"
     },
     "metadata": {},
     "execution_count": 227
    }
   ],
   "source": [
    "d = os.listdir(TRAIN_DATA)\n",
    "d.sort()\n",
    "test = os.path.join(TRAIN_DATA, d[0])\n",
    "img = cv.imread(test, cv.IMREAD_GRAYSCALE)\n",
    "img_bin = genNeedImg(test)\n",
    "img_bin\n",
    "img_bin = cv.resize(img_bin, (20,20))\n",
    "img_bin # 发现一个问题，如果先变成二值图，再进行resize会导致出现非0、255的像素"
   ]
  },
  {
   "cell_type": "code",
   "execution_count": 228,
   "metadata": {},
   "outputs": [
    {
     "output_type": "stream",
     "name": "stdout",
     "text": "Binary image generated!\nthreshold:127.0\n"
    },
    {
     "output_type": "execute_result",
     "data": {
      "text/plain": "((20, 20),\n array([[255, 255, 255, 255, 255, 255, 255, 255, 255, 255, 255, 255, 255,\n         255, 255, 255, 255, 255, 255, 255],\n        [255, 255, 255, 255, 255, 255, 255, 255,   0,   0,   0,   0, 255,\n         255, 255, 255, 255, 255, 255, 255],\n        [255, 255, 255, 255, 255, 255,   0,   0,   0,   0,   0,   0,   0,\n           0, 255, 255, 255, 255, 255, 255],\n        [255, 255, 255, 255,   0,   0,   0,   0,   0,   0,   0,   0,   0,\n           0,   0,   0, 255, 255, 255, 255],\n        [255, 255, 255,   0,   0,   0,   0,   0,   0,   0,   0,   0,   0,\n           0,   0,   0,   0, 255, 255, 255],\n        [255, 255, 255,   0,   0,   0,   0,   0, 255, 255, 255, 255,   0,\n           0,   0,   0,   0, 255, 255, 255],\n        [255, 255,   0,   0,   0,   0,   0, 255, 255, 255, 255, 255, 255,\n           0,   0,   0,   0,   0, 255, 255],\n        [255, 255,   0,   0,   0,   0,   0, 255, 255, 255, 255, 255, 255,\n           0,   0,   0,   0,   0, 255, 255],\n        [255, 255,   0,   0,   0,   0,   0, 255, 255, 255, 255, 255, 255,\n           0,   0,   0,   0,   0, 255, 255],\n        [255, 255,   0,   0,   0,   0,   0, 255, 255, 255, 255, 255, 255,\n           0,   0,   0,   0,   0, 255, 255],\n        [255, 255,   0,   0,   0,   0,   0, 255, 255, 255, 255, 255, 255,\n           0,   0,   0,   0,   0, 255, 255],\n        [255, 255,   0,   0,   0,   0,   0, 255, 255, 255, 255, 255, 255,\n           0,   0,   0,   0,   0, 255, 255],\n        [255, 255,   0,   0,   0,   0,   0, 255, 255, 255, 255, 255, 255,\n           0,   0,   0,   0,   0, 255, 255],\n        [255, 255,   0,   0,   0,   0,   0, 255, 255, 255, 255, 255, 255,\n           0,   0,   0,   0,   0, 255, 255],\n        [255, 255, 255,   0,   0,   0,   0,   0, 255, 255, 255, 255,   0,\n           0,   0,   0,   0, 255, 255, 255],\n        [255, 255, 255,   0,   0,   0,   0,   0,   0,   0,   0,   0,   0,\n           0,   0,   0,   0, 255, 255, 255],\n        [255, 255, 255, 255,   0,   0,   0,   0,   0,   0,   0,   0,   0,\n           0,   0,   0, 255, 255, 255, 255],\n        [255, 255, 255, 255, 255, 255,   0,   0,   0,   0,   0,   0,   0,\n           0, 255, 255, 255, 255, 255, 255],\n        [255, 255, 255, 255, 255, 255, 255, 255,   0,   0,   0,   0, 255,\n         255, 255, 255, 255, 255, 255, 255],\n        [255, 255, 255, 255, 255, 255, 255, 255, 255, 255, 255, 255, 255,\n         255, 255, 255, 255, 255, 255, 255]], dtype=uint8))"
     },
     "metadata": {},
     "execution_count": 228
    }
   ],
   "source": [
    "binary_0 = genNeedImg(test, size=(20,20))\n",
    "binary_0.shape, binary_0"
   ]
  },
  {
   "cell_type": "code",
   "execution_count": 229,
   "metadata": {},
   "outputs": [
    {
     "output_type": "stream",
     "name": "stdout",
     "text": "Binary image generated!\nthreshold:127.0\nBinary image generated!\nthreshold:127.0\nBinary image generated!\nthreshold:127.0\nBinary image generated!\nthreshold:127.0\nBinary image generated!\nthreshold:127.0\nBinary image generated!\nthreshold:127.0\nBinary image generated!\nthreshold:127.0\nBinary image generated!\nthreshold:127.0\nBinary image generated!\nthreshold:127.0\nBinary image generated!\nthreshold:127.0\nBinary image generated!\nthreshold:127.0\nBinary image generated!\nthreshold:127.0\nBinary image generated!\nthreshold:127.0\nBinary image generated!\nthreshold:127.0\nBinary image generated!\nthreshold:127.0\nBinary image generated!\nthreshold:127.0\nBinary image generated!\nthreshold:127.0\nBinary image generated!\nthreshold:127.0\nBinary image generated!\nthreshold:127.0\nBinary image generated!\nthreshold:127.0\nBinary image generated!\nthreshold:127.0\nBinary image generated!\nthreshold:127.0\nBinary image generated!\nthreshold:127.0\nBinary image generated!\nthreshold:127.0\nBinary image generated!\nthreshold:127.0\nBinary image generated!\nthreshold:127.0\nBinary image generated!\nthreshold:127.0\nBinary image generated!\nthreshold:127.0\nBinary image generated!\nthreshold:127.0\nBinary image generated!\nthreshold:127.0\nBinary image generated!\nthreshold:127.0\nBinary image generated!\nthreshold:127.0\nBinary image generated!\nthreshold:127.0\nBinary image generated!\nthreshold:127.0\nBinary image generated!\nthreshold:127.0\nBinary image generated!\nthreshold:127.0\nBinary image generated!\nthreshold:127.0\nBinary image generated!\nthreshold:127.0\nBinary image generated!\nthreshold:127.0\nBinary image generated!\nthreshold:127.0\nBinary image generated!\nthreshold:127.0\nBinary image generated!\nthreshold:127.0\nBinary image generated!\nthreshold:127.0\nBinary image generated!\nthreshold:127.0\nBinary image generated!\nthreshold:127.0\nBinary image generated!\nthreshold:127.0\nBinary image generated!\nthreshold:127.0\nBinary image generated!\nthreshold:127.0\nBinary image generated!\nthreshold:127.0\nBinary image generated!\nthreshold:127.0\nBinary image generated!\nthreshold:127.0\nBinary image generated!\nthreshold:127.0\nBinary image generated!\nthreshold:127.0\nBinary image generated!\nthreshold:127.0\nBinary image generated!\nthreshold:127.0\nBinary image generated!\nthreshold:127.0\nBinary image generated!\nthreshold:127.0\nBinary image generated!\nthreshold:127.0\nBinary image generated!\nthreshold:127.0\nBinary image generated!\nthreshold:127.0\nBinary image generated!\nthreshold:127.0\nBinary image generated!\nthreshold:127.0\nBinary image generated!\nthreshold:127.0\nBinary image generated!\nthreshold:127.0\nBinary image generated!\nthreshold:127.0\nBinary image generated!\nthreshold:127.0\nBinary image generated!\nthreshold:127.0\nBinary image generated!\nthreshold:127.0\nBinary image generated!\nthreshold:127.0\nBinary image generated!\nthreshold:127.0\nBinary image generated!\nthreshold:127.0\nBinary image generated!\nthreshold:127.0\nBinary image generated!\nthreshold:127.0\nBinary image generated!\nthreshold:127.0\nBinary image generated!\nthreshold:127.0\nBinary image generated!\nthreshold:127.0\nBinary image generated!\nthreshold:127.0\nBinary image generated!\nthreshold:127.0\nBinary image generated!\nthreshold:127.0\nBinary image generated!\nthreshold:127.0\nBinary image generated!\nthreshold:127.0\nBinary image generated!\nthreshold:127.0\nBinary image generated!\nthreshold:127.0\nBinary image generated!\nthreshold:127.0\nBinary image generated!\nthreshold:127.0\nBinary image generated!\nthreshold:127.0\nBinary image generated!\nthreshold:127.0\nBinary image generated!\nthreshold:127.0\nBinary image generated!\nthreshold:127.0\nBinary image generated!\nthreshold:127.0\nBinary image generated!\nthreshold:127.0\nBinary image generated!\nthreshold:127.0\nBinary image generated!\nthreshold:127.0\nBinary image generated!\nthreshold:127.0\nBinary image generated!\nthreshold:127.0\nBinary image generated!\nthreshold:127.0\nBinary image generated!\nthreshold:127.0\nBinary image generated!\nthreshold:127.0\nBinary image generated!\nthreshold:127.0\nBinary image generated!\nthreshold:127.0\nBinary image generated!\nthreshold:127.0\nBinary image generated!\nthreshold:127.0\nBinary image generated!\nthreshold:127.0\nBinary image generated!\nthreshold:127.0\nBinary image generated!\nthreshold:127.0\nBinary image generated!\nthreshold:127.0\nBinary image generated!\nthreshold:127.0\nBinary image generated!\nthreshold:127.0\nBinary image generated!\nthreshold:127.0\nBinary image generated!\nthreshold:127.0\nBinary image generated!\nthreshold:127.0\nBinary image generated!\nthreshold:127.0\nBinary image generated!\nthreshold:127.0\nBinary image generated!\nthreshold:127.0\nBinary image generated!\nthreshold:127.0\nBinary image generated!\nthreshold:127.0\nBinary image generated!\nthreshold:127.0\nBinary image generated!\nthreshold:127.0\nBinary image generated!\nthreshold:127.0\nBinary image generated!\nthreshold:127.0\nBinary image generated!\nthreshold:127.0\nBinary image generated!\nthreshold:127.0\nBinary image generated!\nthreshold:127.0\nBinary image generated!\nthreshold:127.0\nBinary image generated!\nthreshold:127.0\nBinary image generated!\nthreshold:127.0\nBinary image generated!\nthreshold:127.0\nBinary image generated!\nthreshold:127.0\nBinary image generated!\nthreshold:127.0\nBinary image generated!\nthreshold:127.0\nBinary image generated!\nthreshold:127.0\nBinary image generated!\nthreshold:127.0\nBinary image generated!\nthreshold:127.0\nBinary image generated!\nthreshold:127.0\nBinary image generated!\nthreshold:127.0\nBinary image generated!\nthreshold:127.0\nBinary image generated!\nthreshold:127.0\nBinary image generated!\nthreshold:127.0\nBinary image generated!\nthreshold:127.0\nBinary image generated!\nthreshold:127.0\nBinary image generated!\nthreshold:127.0\nBinary image generated!\nthreshold:127.0\nBinary image generated!\nthreshold:127.0\nBinary image generated!\nthreshold:127.0\nBinary image generated!\nthreshold:127.0\nBinary image generated!\nthreshold:127.0\nBinary image generated!\nthreshold:127.0\nBinary image generated!\nthreshold:127.0\nBinary image generated!\nthreshold:127.0\nBinary image generated!\nthreshold:127.0\nBinary image generated!\nthreshold:127.0\nBinary image generated!\nthreshold:127.0\nBinary image generated!\nthreshold:127.0\nBinary image generated!\nthreshold:127.0\nBinary image generated!\nthreshold:127.0\nBinary image generated!\nthreshold:127.0\nBinary image generated!\nthreshold:127.0\nBinary image generated!\nthreshold:127.0\nBinary image generated!\nthreshold:127.0\nBinary image generated!\nthreshold:127.0\nBinary image generated!\nthreshold:127.0\nBinary image generated!\nthreshold:127.0\nBinary image generated!\nthreshold:127.0\nBinary image generated!\nthreshold:127.0\nBinary image generated!\nthreshold:127.0\nBinary image generated!\nthreshold:127.0\nBinary image generated!\nthreshold:127.0\nBinary image generated!\nthreshold:127.0\nBinary image generated!\nthreshold:127.0\nBinary image generated!\nthreshold:127.0\nBinary image generated!\nthreshold:127.0\nBinary image generated!\nthreshold:127.0\nBinary image generated!\nthreshold:127.0\nBinary image generated!\nthreshold:127.0\nBinary image generated!\nthreshold:127.0\nBinary image generated!\nthreshold:127.0\nBinary image generated!\nthreshold:127.0\nBinary image generated!\nthreshold:127.0\nBinary image generated!\nthreshold:127.0\nBinary image generated!\nthreshold:127.0\nBinary image generated!\nthreshold:127.0\nBinary image generated!\nthreshold:127.0\nBinary image generated!\nthreshold:127.0\nBinary image generated!\nthreshold:127.0\nBinary image generated!\nthreshold:127.0\nBinary image generated!\nthreshold:127.0\nBinary image generated!\nthreshold:127.0\nBinary image generated!\nthreshold:127.0\nBinary image generated!\nthreshold:127.0\nBinary image generated!\nthreshold:127.0\nBinary image generated!\nthreshold:127.0\nBinary image generated!\nthreshold:127.0\nBinary image generated!\nthreshold:127.0\nBinary image generated!\nthreshold:127.0\nBinary image generated!\nthreshold:127.0\nBinary image generated!\nthreshold:127.0\nBinary image generated!\nthreshold:127.0\nBinary image generated!\nthreshold:127.0\nBinary image generated!\nthreshold:127.0\nBinary image generated!\nthreshold:127.0\nBinary image generated!\nthreshold:127.0\nBinary image generated!\nthreshold:127.0\nBinary image generated!\nthreshold:127.0\nBinary image generated!\nthreshold:127.0\nBinary image generated!\nthreshold:127.0\nBinary image generated!\nthreshold:127.0\nBinary image generated!\nthreshold:127.0\nBinary image generated!\nthreshold:127.0\nBinary image generated!\nthreshold:127.0\nBinary image generated!\nthreshold:127.0\nBinary image generated!\nthreshold:127.0\nBinary image generated!\nthreshold:127.0\nBinary image generated!\nthreshold:127.0\nBinary image generated!\nthreshold:127.0\nBinary image generated!\nthreshold:127.0\nBinary image generated!\nthreshold:127.0\nBinary image generated!\nthreshold:127.0\nBinary image generated!\nthreshold:127.0\nBinary image generated!\nthreshold:127.0\nBinary image generated!\nthreshold:127.0\nBinary image generated!\nthreshold:127.0\nBinary image generated!\nthreshold:127.0\nBinary image generated!\nthreshold:127.0\nBinary image generated!\nthreshold:127.0\nBinary image generated!\nthreshold:127.0\nBinary image generated!\nthreshold:127.0\nBinary image generated!\nthreshold:127.0\nBinary image generated!\nthreshold:127.0\nBinary image generated!\nthreshold:127.0\nBinary image generated!\nthreshold:127.0\nBinary image generated!\nthreshold:127.0\nBinary image generated!\nthreshold:127.0\nBinary image generated!\nthreshold:127.0\nBinary image generated!\nthreshold:127.0\nBinary image generated!\nthreshold:127.0\nBinary image generated!\nthreshold:127.0\nBinary image generated!\nthreshold:127.0\nBinary image generated!\nthreshold:127.0\nBinary image generated!\nthreshold:127.0\nBinary image generated!\nthreshold:127.0\nBinary image generated!\nthreshold:127.0\nBinary image generated!\nthreshold:127.0\nBinary image generated!\nthreshold:127.0\nBinary image generated!\nthreshold:127.0\nBinary image generated!\nthreshold:127.0\nBinary image generated!\nthreshold:127.0\nBinary image generated!\nthreshold:127.0\nBinary image generated!\nthreshold:127.0\nBinary image generated!\nthreshold:127.0\nBinary image generated!\nthreshold:127.0\n"
    }
   ],
   "source": [
    "def gen_data_set(captcha_imgs_folder, binary=False, binary_reverse=True):\n",
    "    '''\n",
    "    此函数用于创建 样本集和对应标签集合,返回的数据集是np.array类型\n",
    "    binary: 用于控制是否生成二值样本\n",
    "    '''\n",
    "    target_imgs = [ os.path.join(captcha_imgs_folder, img_name) \n",
    "                    for img_name in os.listdir(captcha_imgs_folder)] \n",
    "    target_imgs.sort() # 升序，注意不能 listA = listA.sort(), sort没有返回值\n",
    "    data_set, label_set = [], []\n",
    "    # 发现一个问题，如果先变成二值图，再进行resize会导致出现非0、255的像素，见上一个cell测试\n",
    "    # 故这里再genNeedImg时候，指定20x20尺寸\n",
    "    for captcha in target_imgs:\n",
    "        if binary:\n",
    "            img = genNeedImg(captcha, size=(20,20), binary_reverse=binary_reverse) # 生成20x20大小的二值图\n",
    "        else:\n",
    "            img = cv.imread(captcha, cv.IMREAD_GRAYSCALE) # 以灰度图读入验证码/单个字符的图\n",
    "            img = cv.resize(img, (20,20)) # 调整尺寸到20x20\n",
    "        img = img.reshape(400,)  # reshape成一维数组（sklearn用kNN时需要的格式）\n",
    "        data_set.append(img)\n",
    "        label_set.append(os.path.basename(captcha)[0])\n",
    "    return np.array(data_set), np.array(label_set)\n",
    "\n",
    "data_set, label_set = gen_data_set(TRAIN_DATA, binary=True)\n",
    "# label_set\n",
    "# plt.imshow(data_set[8])\n",
    "# data_set[0]"
   ]
  },
  {
   "cell_type": "markdown",
   "metadata": {},
   "source": [
    "### 下面用sklearn的kNN工具来做训练和预测"
   ]
  },
  {
   "cell_type": "code",
   "execution_count": 230,
   "metadata": {},
   "outputs": [
    {
     "output_type": "execute_result",
     "data": {
      "text/plain": "KNeighborsClassifier(algorithm='auto', leaf_size=30, metric='minkowski',\n                     metric_params=None, n_jobs=None, n_neighbors=3, p=2,\n                     weights='uniform')"
     },
     "metadata": {},
     "execution_count": 230
    }
   ],
   "source": [
    "from sklearn.neighbors import KNeighborsClassifier\n",
    "\n",
    "kNN_classifier = KNeighborsClassifier(n_neighbors=3)\n",
    "kNN_classifier"
   ]
  },
  {
   "cell_type": "code",
   "execution_count": 231,
   "metadata": {},
   "outputs": [
    {
     "output_type": "execute_result",
     "data": {
      "text/plain": "KNeighborsClassifier(algorithm='auto', leaf_size=30, metric='minkowski',\n                     metric_params=None, n_jobs=None, n_neighbors=3, p=2,\n                     weights='uniform')"
     },
     "metadata": {},
     "execution_count": 231
    }
   ],
   "source": [
    "X_train, y_train = data_set, label_set\n",
    "kNN_classifier.fit(X_train, y_train)"
   ]
  },
  {
   "cell_type": "code",
   "execution_count": 232,
   "metadata": {},
   "outputs": [
    {
     "output_type": "stream",
     "name": "stdout",
     "text": "Binary image generated!\nthreshold:127.0\nBinary image generated!\nthreshold:127.0\nBinary image generated!\nthreshold:127.0\nBinary image generated!\nthreshold:127.0\nBinary image generated!\nthreshold:127.0\nBinary image generated!\nthreshold:127.0\nBinary image generated!\nthreshold:127.0\nBinary image generated!\nthreshold:127.0\nBinary image generated!\nthreshold:127.0\nBinary image generated!\nthreshold:127.0\nBinary image generated!\nthreshold:127.0\nBinary image generated!\nthreshold:127.0\nBinary image generated!\nthreshold:127.0\nBinary image generated!\nthreshold:127.0\nBinary image generated!\nthreshold:127.0\nBinary image generated!\nthreshold:127.0\nBinary image generated!\nthreshold:127.0\nBinary image generated!\nthreshold:127.0\nBinary image generated!\nthreshold:127.0\nBinary image generated!\nthreshold:127.0\nBinary image generated!\nthreshold:127.0\nBinary image generated!\nthreshold:127.0\nBinary image generated!\nthreshold:127.0\nBinary image generated!\nthreshold:127.0\nBinary image generated!\nthreshold:127.0\nBinary image generated!\nthreshold:127.0\nBinary image generated!\nthreshold:127.0\nBinary image generated!\nthreshold:127.0\nBinary image generated!\nthreshold:127.0\nBinary image generated!\nthreshold:127.0\nBinary image generated!\nthreshold:127.0\nBinary image generated!\nthreshold:127.0\nBinary image generated!\nthreshold:127.0\nBinary image generated!\nthreshold:127.0\nBinary image generated!\nthreshold:127.0\nBinary image generated!\nthreshold:127.0\nBinary image generated!\nthreshold:127.0\nBinary image generated!\nthreshold:127.0\nBinary image generated!\nthreshold:127.0\nBinary image generated!\nthreshold:127.0\nBinary image generated!\nthreshold:127.0\nBinary image generated!\nthreshold:127.0\nBinary image generated!\nthreshold:127.0\nBinary image generated!\nthreshold:127.0\nBinary image generated!\nthreshold:127.0\nBinary image generated!\nthreshold:127.0\nBinary image generated!\nthreshold:127.0\nBinary image generated!\nthreshold:127.0\nBinary image generated!\nthreshold:127.0\nBinary image generated!\nthreshold:127.0\nBinary image generated!\nthreshold:127.0\nBinary image generated!\nthreshold:127.0\nBinary image generated!\nthreshold:127.0\nBinary image generated!\nthreshold:127.0\nBinary image generated!\nthreshold:127.0\nBinary image generated!\nthreshold:127.0\nBinary image generated!\nthreshold:127.0\nBinary image generated!\nthreshold:127.0\nBinary image generated!\nthreshold:127.0\nBinary image generated!\nthreshold:127.0\nBinary image generated!\nthreshold:127.0\nBinary image generated!\nthreshold:127.0\nBinary image generated!\nthreshold:127.0\nBinary image generated!\nthreshold:127.0\nBinary image generated!\nthreshold:127.0\nBinary image generated!\nthreshold:127.0\nBinary image generated!\nthreshold:127.0\nBinary image generated!\nthreshold:127.0\nBinary image generated!\nthreshold:127.0\nBinary image generated!\nthreshold:127.0\nBinary image generated!\nthreshold:127.0\nBinary image generated!\nthreshold:127.0\nBinary image generated!\nthreshold:127.0\nBinary image generated!\nthreshold:127.0\nBinary image generated!\nthreshold:127.0\nBinary image generated!\nthreshold:127.0\nBinary image generated!\nthreshold:127.0\nBinary image generated!\nthreshold:127.0\nBinary image generated!\nthreshold:127.0\nBinary image generated!\nthreshold:127.0\nBinary image generated!\nthreshold:127.0\nBinary image generated!\nthreshold:127.0\nBinary image generated!\nthreshold:127.0\nBinary image generated!\nthreshold:127.0\nBinary image generated!\nthreshold:127.0\nBinary image generated!\nthreshold:127.0\nBinary image generated!\nthreshold:127.0\nBinary image generated!\nthreshold:127.0\nBinary image generated!\nthreshold:127.0\nBinary image generated!\nthreshold:127.0\nBinary image generated!\nthreshold:127.0\nBinary image generated!\nthreshold:127.0\nBinary image generated!\nthreshold:127.0\nBinary image generated!\nthreshold:127.0\nBinary image generated!\nthreshold:127.0\nBinary image generated!\nthreshold:127.0\nBinary image generated!\nthreshold:127.0\nBinary image generated!\nthreshold:127.0\nBinary image generated!\nthreshold:127.0\nBinary image generated!\nthreshold:127.0\nBinary image generated!\nthreshold:127.0\nBinary image generated!\nthreshold:127.0\nBinary image generated!\nthreshold:127.0\nBinary image generated!\nthreshold:127.0\nBinary image generated!\nthreshold:127.0\nBinary image generated!\nthreshold:127.0\nBinary image generated!\nthreshold:127.0\nBinary image generated!\nthreshold:127.0\nBinary image generated!\nthreshold:127.0\nBinary image generated!\nthreshold:127.0\nBinary image generated!\nthreshold:127.0\nBinary image generated!\nthreshold:127.0\nBinary image generated!\nthreshold:127.0\nBinary image generated!\nthreshold:127.0\nBinary image generated!\nthreshold:127.0\nBinary image generated!\nthreshold:127.0\nBinary image generated!\nthreshold:127.0\nBinary image generated!\nthreshold:127.0\nBinary image generated!\nthreshold:127.0\nBinary image generated!\nthreshold:127.0\nBinary image generated!\nthreshold:127.0\nBinary image generated!\nthreshold:127.0\nBinary image generated!\nthreshold:127.0\nBinary image generated!\nthreshold:127.0\nBinary image generated!\nthreshold:127.0\nBinary image generated!\nthreshold:127.0\nBinary image generated!\nthreshold:127.0\nBinary image generated!\nthreshold:127.0\nBinary image generated!\nthreshold:127.0\nBinary image generated!\nthreshold:127.0\nBinary image generated!\nthreshold:127.0\nBinary image generated!\nthreshold:127.0\nBinary image generated!\nthreshold:127.0\nBinary image generated!\nthreshold:127.0\nBinary image generated!\nthreshold:127.0\nBinary image generated!\nthreshold:127.0\nBinary image generated!\nthreshold:127.0\nBinary image generated!\nthreshold:127.0\nBinary image generated!\nthreshold:127.0\nBinary image generated!\nthreshold:127.0\nBinary image generated!\nthreshold:127.0\nBinary image generated!\nthreshold:127.0\nBinary image generated!\nthreshold:127.0\nBinary image generated!\nthreshold:127.0\nBinary image generated!\nthreshold:127.0\nBinary image generated!\nthreshold:127.0\nBinary image generated!\nthreshold:127.0\nBinary image generated!\nthreshold:127.0\nBinary image generated!\nthreshold:127.0\nBinary image generated!\nthreshold:127.0\nBinary image generated!\nthreshold:127.0\nBinary image generated!\nthreshold:127.0\nBinary image generated!\nthreshold:127.0\nBinary image generated!\nthreshold:127.0\nBinary image generated!\nthreshold:127.0\nBinary image generated!\nthreshold:127.0\nBinary image generated!\nthreshold:127.0\nBinary image generated!\nthreshold:127.0\nBinary image generated!\nthreshold:127.0\nBinary image generated!\nthreshold:127.0\nBinary image generated!\nthreshold:127.0\nBinary image generated!\nthreshold:127.0\nBinary image generated!\nthreshold:127.0\nBinary image generated!\nthreshold:127.0\nBinary image generated!\nthreshold:127.0\nBinary image generated!\nthreshold:127.0\nBinary image generated!\nthreshold:127.0\nBinary image generated!\nthreshold:127.0\nBinary image generated!\nthreshold:127.0\nBinary image generated!\nthreshold:127.0\nBinary image generated!\nthreshold:127.0\nBinary image generated!\nthreshold:127.0\nBinary image generated!\nthreshold:127.0\nBinary image generated!\nthreshold:127.0\nBinary image generated!\nthreshold:127.0\nBinary image generated!\nthreshold:127.0\nBinary image generated!\nthreshold:127.0\nBinary image generated!\nthreshold:127.0\nBinary image generated!\nthreshold:127.0\nBinary image generated!\nthreshold:127.0\nBinary image generated!\nthreshold:127.0\nBinary image generated!\nthreshold:127.0\nBinary image generated!\nthreshold:127.0\nBinary image generated!\nthreshold:127.0\nBinary image generated!\nthreshold:127.0\nBinary image generated!\nthreshold:127.0\nBinary image generated!\nthreshold:127.0\nBinary image generated!\nthreshold:127.0\nBinary image generated!\nthreshold:127.0\nBinary image generated!\nthreshold:127.0\nBinary image generated!\nthreshold:127.0\nBinary image generated!\nthreshold:127.0\nBinary image generated!\nthreshold:127.0\nBinary image generated!\nthreshold:127.0\nBinary image generated!\nthreshold:127.0\nBinary image generated!\nthreshold:127.0\nBinary image generated!\nthreshold:127.0\nBinary image generated!\nthreshold:127.0\nBinary image generated!\nthreshold:127.0\nBinary image generated!\nthreshold:127.0\nBinary image generated!\nthreshold:127.0\nBinary image generated!\nthreshold:127.0\nBinary image generated!\nthreshold:127.0\nBinary image generated!\nthreshold:127.0\nBinary image generated!\nthreshold:127.0\nBinary image generated!\nthreshold:127.0\nBinary image generated!\nthreshold:127.0\nBinary image generated!\nthreshold:127.0\nBinary image generated!\nthreshold:127.0\nBinary image generated!\nthreshold:127.0\nBinary image generated!\nthreshold:127.0\nBinary image generated!\nthreshold:127.0\nBinary image generated!\nthreshold:127.0\nBinary image generated!\nthreshold:127.0\nBinary image generated!\nthreshold:127.0\nBinary image generated!\nthreshold:127.0\nBinary image generated!\nthreshold:127.0\nBinary image generated!\nthreshold:127.0\nBinary image generated!\nthreshold:127.0\nBinary image generated!\nthreshold:127.0\nBinary image generated!\nthreshold:127.0\nBinary image generated!\nthreshold:127.0\nBinary image generated!\nthreshold:127.0\nBinary image generated!\nthreshold:127.0\nBinary image generated!\nthreshold:127.0\nBinary image generated!\nthreshold:127.0\nBinary image generated!\nthreshold:127.0\nBinary image generated!\nthreshold:127.0\nBinary image generated!\nthreshold:127.0\nBinary image generated!\nthreshold:127.0\nBinary image generated!\nthreshold:127.0\nBinary image generated!\nthreshold:127.0\nBinary image generated!\nthreshold:127.0\nBinary image generated!\nthreshold:127.0\nBinary image generated!\nthreshold:127.0\nBinary image generated!\nthreshold:127.0\nBinary image generated!\nthreshold:127.0\nBinary image generated!\nthreshold:127.0\nBinary image generated!\nthreshold:127.0\nBinary image generated!\nthreshold:127.0\nBinary image generated!\nthreshold:127.0\nBinary image generated!\nthreshold:127.0\nBinary image generated!\nthreshold:127.0\nBinary image generated!\nthreshold:127.0\nBinary image generated!\nthreshold:127.0\nBinary image generated!\nthreshold:127.0\nBinary image generated!\nthreshold:127.0\nBinary image generated!\nthreshold:127.0\nBinary image generated!\nthreshold:127.0\nBinary image generated!\nthreshold:127.0\nBinary image generated!\nthreshold:127.0\nBinary image generated!\nthreshold:127.0\nBinary image generated!\nthreshold:127.0\nBinary image generated!\nthreshold:127.0\nBinary image generated!\nthreshold:127.0\nBinary image generated!\nthreshold:127.0\nBinary image generated!\nthreshold:127.0\nBinary image generated!\nthreshold:127.0\nBinary image generated!\nthreshold:127.0\nBinary image generated!\nthreshold:127.0\nBinary image generated!\nthreshold:127.0\nBinary image generated!\nthreshold:127.0\nBinary image generated!\nthreshold:127.0\nBinary image generated!\nthreshold:127.0\nBinary image generated!\nthreshold:127.0\nBinary image generated!\nthreshold:127.0\nBinary image generated!\nthreshold:127.0\nBinary image generated!\nthreshold:127.0\nBinary image generated!\nthreshold:127.0\nBinary image generated!\nthreshold:127.0\nBinary image generated!\nthreshold:127.0\nBinary image generated!\nthreshold:127.0\nBinary image generated!\nthreshold:127.0\nBinary image generated!\nthreshold:127.0\nBinary image generated!\nthreshold:127.0\nBinary image generated!\nthreshold:127.0\nBinary image generated!\nthreshold:127.0\nBinary image generated!\nthreshold:127.0\nBinary image generated!\nthreshold:127.0\nBinary image generated!\nthreshold:127.0\nBinary image generated!\nthreshold:127.0\nBinary image generated!\nthreshold:127.0\nBinary image generated!\nthreshold:127.0\nBinary image generated!\nthreshold:127.0\nBinary image generated!\nthreshold:127.0\nBinary image generated!\nthreshold:127.0\nBinary image generated!\nthreshold:127.0\nBinary image generated!\nthreshold:127.0\nBinary image generated!\nthreshold:127.0\nBinary image generated!\nthreshold:127.0\nBinary image generated!\nthreshold:127.0\nBinary image generated!\nthreshold:127.0\nBinary image generated!\nthreshold:127.0\nBinary image generated!\nthreshold:127.0\nBinary image generated!\nthreshold:127.0\nBinary image generated!\nthreshold:127.0\nBinary image generated!\nthreshold:127.0\nBinary image generated!\nthreshold:127.0\nBinary image generated!\nthreshold:127.0\nBinary image generated!\nthreshold:127.0\nBinary image generated!\nthreshold:127.0\nBinary image generated!\nthreshold:127.0\nBinary image generated!\nthreshold:127.0\nBinary image generated!\nthreshold:127.0\nBinary image generated!\nthreshold:127.0\nBinary image generated!\nthreshold:127.0\nBinary image generated!\nthreshold:127.0\nBinary image generated!\nthreshold:127.0\nBinary image generated!\nthreshold:127.0\nBinary image generated!\nthreshold:127.0\nBinary image generated!\nthreshold:127.0\nBinary image generated!\nthreshold:127.0\nBinary image generated!\nthreshold:127.0\nBinary image generated!\nthreshold:127.0\nBinary image generated!\nthreshold:127.0\nBinary image generated!\nthreshold:127.0\nBinary image generated!\nthreshold:127.0\nBinary image generated!\nthreshold:127.0\nBinary image generated!\nthreshold:127.0\nBinary image generated!\nthreshold:127.0\nBinary image generated!\nthreshold:127.0\nBinary image generated!\nthreshold:127.0\nBinary image generated!\nthreshold:127.0\nBinary image generated!\nthreshold:127.0\nBinary image generated!\nthreshold:127.0\nBinary image generated!\nthreshold:127.0\nBinary image generated!\nthreshold:127.0\nBinary image generated!\nthreshold:127.0\nBinary image generated!\nthreshold:127.0\nBinary image generated!\nthreshold:127.0\nBinary image generated!\nthreshold:127.0\nBinary image generated!\nthreshold:127.0\nBinary image generated!\nthreshold:127.0\nBinary image generated!\nthreshold:127.0\nBinary image generated!\nthreshold:127.0\nBinary image generated!\nthreshold:127.0\nBinary image generated!\nthreshold:127.0\nBinary image generated!\nthreshold:127.0\nBinary image generated!\nthreshold:127.0\nBinary image generated!\nthreshold:127.0\nBinary image generated!\nthreshold:127.0\nBinary image generated!\nthreshold:127.0\nBinary image generated!\nthreshold:127.0\nBinary image generated!\nthreshold:127.0\nBinary image generated!\nthreshold:127.0\nBinary image generated!\nthreshold:127.0\nBinary image generated!\nthreshold:127.0\nBinary image generated!\nthreshold:127.0\nBinary image generated!\nthreshold:127.0\nBinary image generated!\nthreshold:127.0\nBinary image generated!\nthreshold:127.0\nBinary image generated!\nthreshold:127.0\nBinary image generated!\nthreshold:127.0\nBinary image generated!\nthreshold:127.0\nBinary image generated!\nthreshold:127.0\nBinary image generated!\nthreshold:127.0\nBinary image generated!\nthreshold:127.0\nBinary image generated!\nthreshold:127.0\nBinary image generated!\nthreshold:127.0\nBinary image generated!\nthreshold:127.0\nBinary image generated!\nthreshold:127.0\nBinary image generated!\nthreshold:127.0\nBinary image generated!\nthreshold:127.0\nBinary image generated!\nthreshold:127.0\nBinary image generated!\nthreshold:127.0\nBinary image generated!\nthreshold:127.0\nBinary image generated!\nthreshold:127.0\nBinary image generated!\nthreshold:127.0\nBinary image generated!\nthreshold:127.0\nBinary image generated!\nthreshold:127.0\nBinary image generated!\nthreshold:127.0\nBinary image generated!\nthreshold:127.0\nBinary image generated!\nthreshold:127.0\nBinary image generated!\nthreshold:127.0\nBinary image generated!\nthreshold:127.0\nBinary image generated!\nthreshold:127.0\nBinary image generated!\nthreshold:127.0\nBinary image generated!\nthreshold:127.0\nBinary image generated!\nthreshold:127.0\nBinary image generated!\nthreshold:127.0\nBinary image generated!\nthreshold:127.0\nBinary image generated!\nthreshold:127.0\nBinary image generated!\nthreshold:127.0\nBinary image generated!\nthreshold:127.0\nBinary image generated!\nthreshold:127.0\nBinary image generated!\nthreshold:127.0\nBinary image generated!\nthreshold:127.0\nBinary image generated!\nthreshold:127.0\nBinary image generated!\nthreshold:127.0\nBinary image generated!\nthreshold:127.0\nBinary image generated!\nthreshold:127.0\nBinary image generated!\nthreshold:127.0\nBinary image generated!\nthreshold:127.0\nBinary image generated!\nthreshold:127.0\nBinary image generated!\nthreshold:127.0\nBinary image generated!\nthreshold:127.0\n"
    },
    {
     "output_type": "execute_result",
     "data": {
      "text/plain": "0      0\n1      0\n2      0\n3      0\n4      0\n      ..\n391    9\n392    9\n393    9\n394    9\n395    9\nLength: 396, dtype: object"
     },
     "metadata": {},
     "execution_count": 232
    }
   ],
   "source": [
    "X_test, y_test = gen_data_set(TEST_DATA_CHAR, binary=True)\n",
    "predicted_result = kNN_classifier.predict(X_test)\n",
    "predicted_result = pd.Series(predicted_result)\n",
    "predicted_result"
   ]
  },
  {
   "cell_type": "code",
   "execution_count": 233,
   "metadata": {},
   "outputs": [
    {
     "output_type": "execute_result",
     "data": {
      "text/plain": "0      0\n1      0\n2      0\n3      0\n4      0\n      ..\n391    9\n392    9\n393    9\n394    9\n395    9\nLength: 396, dtype: object"
     },
     "metadata": {},
     "execution_count": 233
    }
   ],
   "source": [
    "actual_result = pd.Series(y_test)\n",
    "actual_result"
   ]
  },
  {
   "cell_type": "code",
   "execution_count": 234,
   "metadata": {},
   "outputs": [],
   "source": [
    "def prediction_accuracy(predicted_results, actual_results):\n",
    "    '''\n",
    "    预测结果的正确率计算\n",
    "    predicted_results, actual_results都需要是pandas的Series对象\n",
    "    '''\n",
    "    compare = predicted_results == actual_results # 返回一个Series对象\n",
    "    return compare.value_counts().loc[True] /  compare.count() # 预测和实际值匹配的占所有的比例"
   ]
  },
  {
   "cell_type": "code",
   "execution_count": 235,
   "metadata": {},
   "outputs": [
    {
     "output_type": "execute_result",
     "data": {
      "text/plain": "0.9848484848484849"
     },
     "metadata": {},
     "execution_count": 235
    }
   ],
   "source": [
    "prediction_accuracy(predicted_result, actual_result)"
   ]
  },
  {
   "cell_type": "markdown",
   "metadata": {},
   "source": [
    "### 下面我尝试自己实现一下kNN算法"
   ]
  },
  {
   "cell_type": "code",
   "execution_count": 236,
   "metadata": {},
   "outputs": [],
   "source": [
    "def judger(k_prediction):\n",
    "    '''\n",
    "    判决器，k_prediction是有权重的，索引最小代表该预测值和实际值相似度最大\n",
    "    但是，可能出现如：k=5，k_prediction=（7, 1, 2, 2, 2），这样的情况，我定预测结果为2\n",
    "    也就是，重复预测值个数 >= 预测值总数的2/3，则取该重复预测值\n",
    "    '''\n",
    "    k = len(k_prediction)\n",
    "    tmp = list(k_prediction)\n",
    "    [tmp.remove(i) for i in list(set(tmp))]\n",
    "    duplication = set(tmp) # 找出预测值中重复元素\n",
    "    if len(duplication) == 0:\n",
    "        return k_prediction[0] \n",
    "    if k_prediction[0] not in duplication: # 最接近的预测值不再重复出现的\n",
    "        top_dupli = tmp[ min([ tmp.index(d) for d in duplication]) ]# 找出重复预测值中接近程度最高的值\n",
    "        count = sum([ 1 for i in k_prediction if i==top_dupli]) # 统计较高相似度的重复预测值出现次数\n",
    "        if count >= int(2/3 * k): # 如果较高相似度的中伏预测值出现次数 >= 预测值总数的2/3，则取该预测值\n",
    "            return top_dupli    \n",
    "    return k_prediction[0]\n",
    "\n",
    "# judger( (5,2,2,3,3,3) )"
   ]
  },
  {
   "cell_type": "code",
   "execution_count": 237,
   "metadata": {},
   "outputs": [
    {
     "output_type": "execute_result",
     "data": {
      "text/plain": "0"
     },
     "metadata": {},
     "execution_count": 237
    }
   ],
   "source": [
    "k_prediction = [ 1,2 ,3 ]\n",
    "k = len(k_prediction)\n",
    "tmp = list(k_prediction)\n",
    "[tmp.remove(i) for i in list(set(tmp))]\n",
    "duplication = set(tmp) # 找出预测值中重复元素\n",
    "len(duplication)"
   ]
  },
  {
   "cell_type": "code",
   "execution_count": 238,
   "metadata": {},
   "outputs": [
    {
     "output_type": "execute_result",
     "data": {
      "text/plain": "array([5])"
     },
     "metadata": {},
     "execution_count": 238
    }
   ],
   "source": [
    "a = np.array([1,2,3,4,5])\n",
    "l = np.argsort(a)[-1:]\n",
    "a[l]"
   ]
  },
  {
   "cell_type": "code",
   "execution_count": 244,
   "metadata": {},
   "outputs": [],
   "source": [
    "def RG_kNN_classifier(feature_set_train, label_set_train, feature_set_test, k=3):\n",
    "    '''\n",
    "    所有的feature集合中的图像矩阵需要reshape成一维数组（传入前特征工程需要把图像先resize成20x20再reshape成（400,））\n",
    "    feature_set_train, label_set_train, feature_set_test都必须是np.array\n",
    "    '''\n",
    "    label_set_Kpredict, topK_list = [],[] # 增加topK_list记录最接近的图像编号\n",
    "    for test_feature in feature_set_test:\n",
    "        distances = []\n",
    "        for train_feature in feature_set_train:\n",
    "            distances.append(\n",
    "                np.sqrt(np.sum(np.square(test_feature - train_feature)))\n",
    "            )\n",
    "        # topK = np.argsort(distances)[-k:][::-1] # [-k:]是提取最后k个（因为argsort是升序排序）,[::-1]则是将其反序\n",
    "        topK = np.argsort(distances)[:k] # ummmm, 我感觉我昨天写代码脑袋写坏了，应该取距离最小的，我上面那句取了距离最大的k个\n",
    "        if k != 1:\n",
    "            label_set_Kpredict.append(\n",
    "                tuple(label_set_train[list(topK)]) # 保存最接近的k个预测值\n",
    "            )\n",
    "            topK_list.append(tuple(topK))\n",
    "        else:\n",
    "            label_set_Kpredict.append(\n",
    "                tuple(label_set_train[list(topK)])[0] # 保存最接近的k个预测值\n",
    "            )\n",
    "            topK_list.append(tuple(topK))\n",
    "    if k==1:\n",
    "        return label_set_Kpredict, topK_list\n",
    "    else:\n",
    "        # k个最接近的值，做一个投票器，利用投票器选出最终预测值\n",
    "        label_set_single = [ judger(labels) for labels in label_set_Kpredict]\n",
    "        return label_set_single, label_set_Kpredict, topK_list"
   ]
  },
  {
   "cell_type": "code",
   "execution_count": 249,
   "metadata": {},
   "outputs": [
    {
     "output_type": "execute_result",
     "data": {
      "text/plain": "0      0\n1      0\n2      0\n3      0\n4      0\n      ..\n391    9\n392    9\n393    9\n394    9\n395    9\nLength: 396, dtype: object"
     },
     "metadata": {},
     "execution_count": 249
    }
   ],
   "source": [
    "predicted_result_0 = pd.Series(RG_kNN_classifier(X_train,y_train,X_test, k=3)[0])\n",
    "predicted_result_0\n",
    "# t = RG_kNN_classifier(X_train,y_train,X_test, k=3)"
   ]
  },
  {
   "cell_type": "code",
   "execution_count": 250,
   "metadata": {},
   "outputs": [
    {
     "output_type": "execute_result",
     "data": {
      "text/plain": "0.9924242424242424"
     },
     "metadata": {},
     "execution_count": 250
    }
   ],
   "source": [
    "prediction_accuracy(predicted_result_0 , actual_result)"
   ]
  },
  {
   "cell_type": "markdown",
   "metadata": {},
   "source": [
    "下面是调试的时候的代码，因为我脑袋抽风, 写成了距离最大：    \n",
    "`# topK = np.argsort(distances)[-k:][::-1] # [-k:]是提取最后k个（因为argsort是升序排序）,[::-1]则是将其反序`    \n",
    "然后在用下面的方法，看为啥0会识别成4"
   ]
  },
  {
   "cell_type": "code",
   "execution_count": null,
   "metadata": {},
   "outputs": [],
   "source": [
    "t[1][0]"
   ]
  },
  {
   "cell_type": "code",
   "execution_count": 246,
   "metadata": {},
   "outputs": [
    {
     "output_type": "execute_result",
     "data": {
      "text/plain": "(14, 23, 22)"
     },
     "metadata": {},
     "execution_count": 246
    }
   ],
   "source": [
    "t[2][0]"
   ]
  },
  {
   "cell_type": "code",
   "execution_count": 247,
   "metadata": {},
   "outputs": [
    {
     "output_type": "stream",
     "name": "stdout",
     "text": "[[  0   0   0   0   0   0   0   0   0   0   0   0   0   0   0   0   0   0\n    0   0]\n [  0   0   0   0   0   0   0   0 255 255 255 255   0   0   0   0   0   0\n    0   0]\n [  0   0   0   0   0 255 255 255 255   0   0 255 255 255 255   0   0   0\n    0   0]\n [  0   0   0   0 255 255   0   0   0   0   0   0   0   0 255 255   0   0\n    0   0]\n [  0   0   0 255 255   0   0   0   0   0   0   0   0   0   0 255 255   0\n    0   0]\n [  0   0   0 255 255   0   0   0   0   0   0   0   0   0   0 255 255   0\n    0   0]\n [  0   0 255 255   0   0   0   0   0   0   0   0   0   0   0   0 255 255\n    0   0]\n [  0   0 255 255   0   0   0   0   0   0   0   0   0   0   0   0 255 255\n    0   0]\n [  0   0 255 255   0   0   0   0   0   0   0   0   0   0   0   0 255 255\n    0   0]\n [  0   0 255 255   0   0   0   0   0   0   0   0   0   0   0   0 255 255\n    0   0]\n [  0   0 255 255   0   0   0   0   0   0   0   0   0   0   0   0 255 255\n    0   0]\n [  0   0 255 255   0   0   0   0   0   0   0   0   0   0   0   0 255 255\n    0   0]\n [  0   0 255 255   0   0   0   0   0   0   0   0   0   0   0   0 255 255\n    0   0]\n [  0   0 255 255   0   0   0   0   0   0   0   0   0   0   0   0 255 255\n    0   0]\n [  0   0 255 255   0   0   0   0   0   0   0   0   0   0   0   0 255 255\n    0   0]\n [  0   0   0 255 255   0   0   0   0   0   0   0   0   0   0 255 255   0\n    0   0]\n [  0   0   0   0 255 255   0   0   0   0   0   0   0   0 255 255   0   0\n    0   0]\n [  0   0   0   0   0 255 255 255   0   0   0   0 255 255 255   0   0   0\n    0   0]\n [  0   0   0   0   0   0   0 255 255 255 255 255 255   0   0   0   0   0\n    0   0]\n [  0   0   0   0   0   0   0   0   0   0   0   0   0   0   0   0   0   0\n    0   0]]\n"
    }
   ],
   "source": [
    "print(X_test[0].reshape(20,20))"
   ]
  },
  {
   "cell_type": "code",
   "execution_count": 243,
   "metadata": {},
   "outputs": [
    {
     "output_type": "stream",
     "name": "stdout",
     "text": "[[  0   0   0   0   0   0   0   0   0   0   0   0   0   0   0   0   0   0\n    0   0]\n [  0   0   0   0   0   0   0   0   0   0   0 255 255 255 255 255   0   0\n    0   0]\n [  0   0   0   0   0   0   0   0   0   0 255 255 255 255 255 255   0   0\n    0   0]\n [  0   0   0   0   0   0   0   0   0 255 255 255 255 255 255 255   0   0\n    0   0]\n [  0   0   0   0   0   0   0   0 255 255 255 255 255 255 255 255   0   0\n    0   0]\n [  0   0   0   0   0   0   0 255 255 255 255 255 255 255 255 255   0   0\n    0   0]\n [  0   0   0   0   0   0 255 255 255 255 255 255 255 255 255 255   0   0\n    0   0]\n [  0   0   0   0   0 255 255 255 255 255   0 255 255 255 255 255   0   0\n    0   0]\n [  0   0   0   0 255 255 255 255 255   0   0 255 255 255 255 255   0   0\n    0   0]\n [  0   0   0 255 255 255 255 255   0   0   0 255 255 255 255 255   0   0\n    0   0]\n [  0   0 255 255 255 255 255   0   0   0   0 255 255 255 255 255   0   0\n    0   0]\n [  0 255 255 255 255 255 255   0   0   0   0 255 255 255 255 255   0   0\n  255   0]\n [  0 255 255 255 255 255 255 255 255 255 255 255 255 255 255 255 255 255\n  255   0]\n [  0 255 255 255 255 255 255 255 255 255 255 255 255 255 255 255 255 255\n  255   0]\n [  0 255 255 255 255 255 255 255 255 255 255 255 255 255 255 255 255 255\n  255   0]\n [  0   0   0   0   0   0   0   0   0   0   0 255 255 255 255 255   0   0\n    0   0]\n [  0   0   0   0   0   0   0   0   0   0   0 255 255 255 255 255   0   0\n    0   0]\n [  0   0   0   0   0   0   0   0   0   0   0 255 255 255 255 255   0   0\n    0   0]\n [  0   0   0   0   0   0   0   0   0   0   0 255 255 255 255 255   0   0\n    0   0]\n [  0   0   0   0   0   0   0   0   0   0   0   0   0   0   0   0   0   0\n    0   0]]\n"
    }
   ],
   "source": [
    "print(X_train[106].reshape(20,20))"
   ]
  }
 ],
 "metadata": {
  "language_info": {
   "codemirror_mode": {
    "name": "ipython",
    "version": 3
   },
   "file_extension": ".py",
   "mimetype": "text/x-python",
   "name": "python",
   "nbconvert_exporter": "python",
   "pygments_lexer": "ipython3",
   "version": "3.7.5-final"
  },
  "orig_nbformat": 2,
  "kernelspec": {
   "name": "python37564bit7864ce697006450d81c3f54dae018d4c",
   "display_name": "Python 3.7.5 64-bit"
  }
 },
 "nbformat": 4,
 "nbformat_minor": 2
}