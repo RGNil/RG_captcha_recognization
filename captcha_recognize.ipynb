{
 "cells": [
  {
   "cell_type": "markdown",
   "metadata": {},
   "source": [
    "参考资料：\n",
    "+ https://blog.csdn.net/shebao3333/article/details/78808066 - 好\n",
    "+ https://blog.csdn.net/xdzhangzhenhao/article/details/81147838\n",
    "+ "
   ]
  },
  {
   "cell_type": "code",
   "execution_count": 330,
   "metadata": {},
   "outputs": [],
   "source": [
    "import os\n",
    "import numpy as np \n",
    "import pandas as pd \n",
    "from cv2 import cv2 as cv\n",
    "import matplotlib\n",
    "import matplotlib.pyplot as plt \n",
    "\n",
    "\n",
    "ROOT_DIR = os.getcwd()\n",
    "TRAIN_DATA = os.path.join(ROOT_DIR, 'digits_data')\n",
    "TEST_DATA_CAP = os.path.join(ROOT_DIR, 'captcha_test_data')\n",
    "TEST_DATA_CHAR = os.path.join(ROOT_DIR, 'character_test_data')"
   ]
  },
  {
   "cell_type": "markdown",
   "metadata": {},
   "source": [
    "下面的一个cell的代码是分割captha"
   ]
  },
  {
   "cell_type": "code",
   "execution_count": 331,
   "metadata": {},
   "outputs": [],
   "source": [
    "# 为了方便图片直接显示在jupyter中，cv的imshow不能直接在jupyter中显示\n",
    "# 为了用matplotlib显示（ 不能用plt.show()，要用plt.imshow() ）\n",
    "# 由于CV的通道是BGR顺序，而matpotlib是 RGB顺序，这里要做通道转换\n",
    "# 方法一\n",
    "def bgr2rgb_v2(img):\n",
    "    # 用cv自带的分割和合并函数\n",
    "    B,G,R = cv.split(img)\n",
    "    return cv.merge([R,G,B])\n",
    "# 方法二\n",
    "def bgr2rgb(img):\n",
    "    # 直接用python切片特性，[start: end: step], 这里start end为空，则默认遍历全部，step为-1则倒序遍历\n",
    "    return img[:, :, ::-1]\n",
    "\n",
    "def genNeedImg(img_path, img_type='binary', binary_therhold=127, \n",
    "               binary_reverse=False, size=None, save=False, path='./'):\n",
    "    '''\n",
    "    用于生成指定大小的灰度图或二值图, img_path为图像路径\n",
    "    type为标志转换类型，默认为binary，可选的值为binary或gray\n",
    "    binary_therhold为二值图划分阈值，默认127（即大于127的像素设置为255，否则置0）\n",
    "    binary_reverse默认为False，True时黑白颠倒（即大于127的像素设置为0，否则置255）\n",
    "    size为tuple类型，用于指定生成图像的尺寸, 如：(512,512)，默认为None表示输出原图像尺寸\n",
    "    save为保存标志，默认为False，为true时将生成的图保存到path(默认为当前文件夹)\n",
    "    '''\n",
    "    img_raw = cv.imread(img_path)\n",
    "    if size != None: # 调整图像尺寸\n",
    "        img_raw= cv.resize(img_raw,size)\n",
    "    img_gray = cv.cvtColor(img_raw,cv.COLOR_RGB2GRAY) # 转换颜色空间为灰度\n",
    "    # Add some extra padding around the image\n",
    "    # img_gray = cv.copyMakeBorder(img_gray, 8, 8, 8, 8, cv.BORDER_REPLICATE)\n",
    "    img_name = img_path[9:].split('.')[0] # 获取图像原始名称\n",
    "    if img_type == 'gray': # 生成灰度图\n",
    "        if save:\n",
    "            cv.imwrite(os.path.join(path,'{}_gray.bmp'.format(img_name)),img_gray)\n",
    "            print('Gray image saved at {}'.format(os.path.join(path,'{}_gray.bmp'.format(img_name))))\n",
    "        else:\n",
    "            print('Gray image generated!')\n",
    "            return img_gray\n",
    "    else: # 生成二值图\n",
    "        if binary_reverse:\n",
    "            ret, img_binary = cv.threshold(img_gray,binary_therhold,255,cv.THRESH_BINARY_INV) #反二进制阈值化\n",
    "        else:\n",
    "            ret, img_binary = cv.threshold(img_gray,binary_therhold,255,cv.THRESH_BINARY)# 二进制阈值化\n",
    "        if save:\n",
    "            cv.imwrite(os.path.join(path,'{}_binary.bmp'.format(img_name)),img_binary)\n",
    "            print('threshold:{}'.format(ret)) # 输出转换阈值\n",
    "            print('Binary image savd at {}'.format(os.path.join(path,'{}_binary.bmp'.format(img_name))))\n",
    "        else:\n",
    "            print('Binary image generated!')\n",
    "            print('threshold:{}'.format(ret)) # 输出转换阈值\n",
    "            return img_binary\n",
    "\n",
    "def captcha_character_detach(captcha_img_path, save_flag=False, characters_save_path='./', captcha_len=4):\n",
    "    '''\n",
    "    这个函数是用于获取训练集时用来分割captcha的，所以会记录验证码名字\n",
    "    传入的验证码必须带有标签，验证码命名就是标签名，如 1415.png\n",
    "    '''\n",
    "    captcha_img_basename = os.path.basename(captcha_img_path) # 从路径中提取带后缀文件名，如 '0415.png'\n",
    "    captcha_text = os.path.splitext(captcha_img_basename)[0] # ['0415', 'png']\n",
    "    img_gray = cv.imread(captcha_img_path, cv.IMREAD_GRAYSCALE) # 灰度图读入\n",
    "    img_binary = genNeedImg(captcha_img_path, img_type='binary', binary_therhold=127, binary_reverse=True) # 直接调用genNeedImg生成二值图\n",
    "    contours, hierarchy = cv.findContours(img_binary, cv.RETR_EXTERNAL, cv.CHAIN_APPROX_SIMPLE) # 划分字符轮廓\n",
    "    # 由于直接划分的轮廓太多了（我换了字体后好像不会划分很多），这里考虑记录每个每个轮廓的数据，然后取 wxh （长x宽，即面积）的top4\n",
    "    boundings = [cv.boundingRect(contour) for contour in contours] # 获取每个轮廓的信息，(x,y,width,height) x,y为轮廓最左上角坐标\n",
    "    boundings.sort(key=lambda tuple_x: tuple_x[2]*tuple_x[3], reverse=True) # lamdba传入的就是计算每个轮廓的面积，然后按面积大小降序排序\n",
    "    if len(boundings) < captcha_len: # 获取到的轮廓小于4，则说明没有把4个字符都区分开来\n",
    "        print('Bondings less then 4, captcha discarded!')\n",
    "        return # 直接结束，丢弃这个验证码样本\n",
    "    '''\n",
    "    # 下面开始画矩形分割框，这部分其实用不到，只是为了调试看画的样子\n",
    "    # -----------------------------------------------------------------------------------------\n",
    "    temp_img = cv.imread(captcha_img_path, cv.IMREAD_UNCHANGED) # 以原始格式读入图片\n",
    "    temp_img = bgr2rgb(temp_img) # 通道转换\n",
    "    for bounding in boundings[:4]: # 取面积最大的前4个轮廓\n",
    "        x, y, width, height = bounding\n",
    "        img_addBox = cv.rectangle(temp_img, (x,y), (x + width, y + height), (0, 255, 0), 1)\n",
    "    plt.imshow(img_addBox, cmap='gray')\n",
    "    # ------------------------------------------------------------------------------------------\n",
    "    '''\n",
    "    boundings_save = sorted(boundings[:captcha_len], key=lambda tuple_x: tuple_x[0]) # 按轮廓的x坐标大小排序，tuple_x=(x,y,width,height) \n",
    "    character_splited = []\n",
    "    for character_bounding, character_text in zip(boundings_save, captcha_text):\n",
    "        x, y, width, height = character_bounding\n",
    "        margin = 2 # 提取单个字符的时候，在获取的轮廓拓宽margin个像素，因为findContours()的轮廓可能很紧凑\n",
    "        character_img = img_gray[y - margin:y + height + margin, x - margin:x + width + margin]\n",
    "        if save_flag:\n",
    "            if not os.path.exists(characters_save_path): # 如果要保存的路径不存在就创建该路径目录\n",
    "                os.makedirs(characters_save_path)\n",
    "            character_path = os.path.join(characters_save_path, '{}_0.png'.format(character_text))\n",
    "            i = 0\n",
    "            while True:\n",
    "                i += 1\n",
    "                if os.path.exists(character_path): # 该字符已经有样本，则在正确标签后面加_i, i标记重复次数\n",
    "                    character_path = os.path.join(characters_save_path, '{}_{}.png'.format(character_text, i))\n",
    "                else: # 不存在重名路径，则跳出\n",
    "                    break\n",
    "            cv.imwrite(character_path, character_img)\n",
    "            print('Character detached from captcha, character has been saved at {}'.format(characters_save_path))\n",
    "        character_splited.append(character_img)\n",
    "    return character_splited"
   ]
  },
  {
   "cell_type": "code",
   "execution_count": 332,
   "metadata": {},
   "outputs": [],
   "source": [
    "def captcha_char_detach(captcha_img_path, captcha_len=4):\n",
    "    '''\n",
    "    本函数在captcha_character_detach基础上，去除了识别验证码标签和保存分割的字符两个功能\n",
    "    这个函数是用于单纯分割captcha的，用于验证码识别时分割字符用\n",
    "    传入的验证码为需要检测识别的对象，可以不带标签\n",
    "    '''\n",
    "    img_gray = cv.imread(captcha_img_path, cv.IMREAD_GRAYSCALE) # 灰度图读入\n",
    "    img_binary = genNeedImg(captcha_img_path, img_type='binary', binary_therhold=127, \n",
    "                            binary_reverse=True) # 直接调用genNeedImg生成二值图\n",
    "    contours, hierarchy = cv.findContours(img_binary, cv.RETR_EXTERNAL, cv.CHAIN_APPROX_SIMPLE) # 划分字符轮廓\n",
    "    # 由于直接划分的轮廓太多了（我换了字体后好像不会划分很多），这里考虑记录每个每个轮廓的数据，然后取 wxh （长x宽，即面积）的top4\n",
    "    boundings = [cv.boundingRect(contour) for contour in contours] # 获取每个轮廓的信息，(x,y,width,height) x,y为轮廓最左上角坐标\n",
    "    boundings.sort(key=lambda tuple_x: tuple_x[2]*tuple_x[3], reverse=True) # lamdba传入的就是计算每个轮廓的面积，然后按面积大小降序排序\n",
    "    if len(boundings) < captcha_len: # 获取到的轮廓小于4，则说明没有把4个字符都区分开来\n",
    "        print('Bondings less then {}, captcha discarded!'.format(captcha_len))\n",
    "        return # 直接结束，丢弃这个验证码样本\n",
    "    boundings_save = sorted(boundings[:captcha_len], key=lambda tuple_x: tuple_x[0]) # 按轮廓的x坐标大小排序，tuple_x=(x,y,width,height) \n",
    "    character_splited = []\n",
    "    for character_bounding in boundings_save:\n",
    "        x, y, width, height = character_bounding\n",
    "        margin = 2 # 提取单个字符的时候，在获取的轮廓拓宽margin个像素，因为findContours()的轮廓可能很紧凑\n",
    "        character_img = img_gray[y - margin:y + height + margin, x - margin:x + width + margin]\n",
    "        character_splited.append(character_img)\n",
    "    return character_splited # 返回的是灰度图"
   ]
  },
  {
   "cell_type": "code",
   "execution_count": 333,
   "metadata": {},
   "outputs": [
    {
     "output_type": "stream",
     "name": "stdout",
     "text": "Binary image generated!\nthreshold:127.0\n"
    },
    {
     "output_type": "execute_result",
     "data": {
      "text/plain": "array([[255, 255, 255, 255, 255, 255, 255, 255, 255, 255, 255, 255, 255,\n        255, 255, 255, 255, 255, 255, 255],\n       [255, 255, 255, 255, 255, 255, 255, 198,  26,  26,  26,  26, 198,\n        255, 255, 255, 255, 255, 255, 255],\n       [255, 255, 255, 255, 210, 128,   6,   0,   0,   0,   0,   0,   0,\n          6, 128, 210, 255, 255, 255, 255],\n       [255, 255, 255, 218,   0,   0,   0,   0,   0,   0,   0,   0,   0,\n          0,   0,   0, 242, 255, 255, 255],\n       [255, 255, 255,   0,   0,   0,   0,   0,   0,   0,   0,   0,   0,\n          0,   0,   0,  73, 255, 255, 255],\n       [255, 255,  64,   0,   0,   0,   0,  19, 174, 255, 255, 174,  19,\n          0,   0,   0,   0, 198, 255, 255],\n       [255, 255,  64,   0,   0,   0,   0, 236, 255, 255, 255, 255,  64,\n          0,   0,   0,   0,  64, 255, 255],\n       [255, 140,   0,   0,   0,   0,   0, 255, 255, 255, 255, 255, 255,\n          0,   0,   0,   0,  32, 198, 255],\n       [255, 140,   0,   0,   0,   0,   0, 255, 255, 255, 255, 255, 255,\n          0,   0,   0,   0,   0, 140, 255],\n       [255, 140,   0,   0,   0,   0,   0, 255, 255, 255, 255, 255, 255,\n          0,   0,   0,   0,   0, 140, 255],\n       [255, 140,   0,   0,   0,   0,   0, 255, 255, 255, 255, 255, 255,\n          0,   0,   0,   0,   0, 140, 255],\n       [255, 140,   0,   0,   0,   0,   0, 255, 255, 255, 255, 255, 255,\n          0,   0,   0,   0,   0, 140, 255],\n       [255, 198,  32,   0,   0,   0,   0, 255, 255, 255, 255, 255, 255,\n          0,   0,   0,   0,  64, 255, 255],\n       [255, 255,  64,   0,   0,   0,   0, 236, 255, 255, 255, 255,  64,\n          0,   0,   0,   0,  64, 255, 255],\n       [255, 255,  64,   0,   0,   0,   0,  19, 174, 255, 255, 174,  19,\n          0,   0,   0,   0, 198, 255, 255],\n       [255, 255, 255,   0,   0,   0,   0,   0,   0,   0,   0,   0,   0,\n          0,   0,   0,  73, 255, 255, 255],\n       [255, 255, 255, 218,   0,   0,   0,   0,   0,   0,   0,   0,   0,\n          0,   0,   0, 242, 255, 255, 255],\n       [255, 255, 255, 255, 210, 128,   6,   0,   0,   0,   0,   0,   0,\n          6, 128, 210, 255, 255, 255, 255],\n       [255, 255, 255, 255, 255, 255, 255, 198,  26,  26,  26,  26, 198,\n        255, 255, 255, 255, 255, 255, 255],\n       [255, 255, 255, 255, 255, 255, 255, 255, 255, 255, 255, 255, 255,\n        255, 255, 255, 255, 255, 255, 255]], dtype=uint8)"
     },
     "metadata": {},
     "execution_count": 333
    }
   ],
   "source": [
    "d = os.listdir(TRAIN_DATA)\n",
    "d.sort()\n",
    "test = os.path.join(TRAIN_DATA, d[0])\n",
    "img = cv.imread(test, cv.IMREAD_GRAYSCALE)\n",
    "img_bin = genNeedImg(test)\n",
    "img_bin\n",
    "img_bin = cv.resize(img_bin, (20,20))\n",
    "img_bin # 发现一个问题，如果先变成二值图，再进行resize会导致出现非0、255的像素"
   ]
  },
  {
   "cell_type": "code",
   "execution_count": 334,
   "metadata": {},
   "outputs": [
    {
     "output_type": "stream",
     "name": "stdout",
     "text": "Binary image generated!\nthreshold:127.0\n"
    },
    {
     "output_type": "execute_result",
     "data": {
      "text/plain": "((20, 20),\n array([[255, 255, 255, 255, 255, 255, 255, 255, 255, 255, 255, 255, 255,\n         255, 255, 255, 255, 255, 255, 255],\n        [255, 255, 255, 255, 255, 255, 255, 255,   0,   0,   0,   0, 255,\n         255, 255, 255, 255, 255, 255, 255],\n        [255, 255, 255, 255, 255, 255,   0,   0,   0,   0,   0,   0,   0,\n           0, 255, 255, 255, 255, 255, 255],\n        [255, 255, 255, 255,   0,   0,   0,   0,   0,   0,   0,   0,   0,\n           0,   0,   0, 255, 255, 255, 255],\n        [255, 255, 255,   0,   0,   0,   0,   0,   0,   0,   0,   0,   0,\n           0,   0,   0,   0, 255, 255, 255],\n        [255, 255, 255,   0,   0,   0,   0,   0, 255, 255, 255, 255,   0,\n           0,   0,   0,   0, 255, 255, 255],\n        [255, 255,   0,   0,   0,   0,   0, 255, 255, 255, 255, 255, 255,\n           0,   0,   0,   0,   0, 255, 255],\n        [255, 255,   0,   0,   0,   0,   0, 255, 255, 255, 255, 255, 255,\n           0,   0,   0,   0,   0, 255, 255],\n        [255, 255,   0,   0,   0,   0,   0, 255, 255, 255, 255, 255, 255,\n           0,   0,   0,   0,   0, 255, 255],\n        [255, 255,   0,   0,   0,   0,   0, 255, 255, 255, 255, 255, 255,\n           0,   0,   0,   0,   0, 255, 255],\n        [255, 255,   0,   0,   0,   0,   0, 255, 255, 255, 255, 255, 255,\n           0,   0,   0,   0,   0, 255, 255],\n        [255, 255,   0,   0,   0,   0,   0, 255, 255, 255, 255, 255, 255,\n           0,   0,   0,   0,   0, 255, 255],\n        [255, 255,   0,   0,   0,   0,   0, 255, 255, 255, 255, 255, 255,\n           0,   0,   0,   0,   0, 255, 255],\n        [255, 255,   0,   0,   0,   0,   0, 255, 255, 255, 255, 255, 255,\n           0,   0,   0,   0,   0, 255, 255],\n        [255, 255, 255,   0,   0,   0,   0,   0, 255, 255, 255, 255,   0,\n           0,   0,   0,   0, 255, 255, 255],\n        [255, 255, 255,   0,   0,   0,   0,   0,   0,   0,   0,   0,   0,\n           0,   0,   0,   0, 255, 255, 255],\n        [255, 255, 255, 255,   0,   0,   0,   0,   0,   0,   0,   0,   0,\n           0,   0,   0, 255, 255, 255, 255],\n        [255, 255, 255, 255, 255, 255,   0,   0,   0,   0,   0,   0,   0,\n           0, 255, 255, 255, 255, 255, 255],\n        [255, 255, 255, 255, 255, 255, 255, 255,   0,   0,   0,   0, 255,\n         255, 255, 255, 255, 255, 255, 255],\n        [255, 255, 255, 255, 255, 255, 255, 255, 255, 255, 255, 255, 255,\n         255, 255, 255, 255, 255, 255, 255]], dtype=uint8))"
     },
     "metadata": {},
     "execution_count": 334
    }
   ],
   "source": [
    "binary_0 = genNeedImg(test, size=(20,20))\n",
    "binary_0.shape, binary_0"
   ]
  },
  {
   "cell_type": "code",
   "execution_count": 335,
   "metadata": {},
   "outputs": [
    {
     "output_type": "stream",
     "name": "stdout",
     "text": "Binary image generated!\nthreshold:127.0\nBinary image generated!\nthreshold:127.0\nBinary image generated!\nthreshold:127.0\nBinary image generated!\nthreshold:127.0\nBinary image generated!\nthreshold:127.0\nBinary image generated!\nthreshold:127.0\nBinary image generated!\nthreshold:127.0\nBinary image generated!\nthreshold:127.0\nBinary image generated!\nthreshold:127.0\nBinary image generated!\nthreshold:127.0\nBinary image generated!\nthreshold:127.0\nBinary image generated!\nthreshold:127.0\nBinary image generated!\nthreshold:127.0\nBinary image generated!\nthreshold:127.0\nBinary image generated!\nthreshold:127.0\nBinary image generated!\nthreshold:127.0\nBinary image generated!\nthreshold:127.0\nBinary image generated!\nthreshold:127.0\nBinary image generated!\nthreshold:127.0\nBinary image generated!\nthreshold:127.0\nBinary image generated!\nthreshold:127.0\nBinary image generated!\nthreshold:127.0\nBinary image generated!\nthreshold:127.0\nBinary image generated!\nthreshold:127.0\nBinary image generated!\nthreshold:127.0\nBinary image generated!\nthreshold:127.0\nBinary image generated!\nthreshold:127.0\nBinary image generated!\nthreshold:127.0\nBinary image generated!\nthreshold:127.0\nBinary image generated!\nthreshold:127.0\nBinary image generated!\nthreshold:127.0\nBinary image generated!\nthreshold:127.0\nBinary image generated!\nthreshold:127.0\nBinary image generated!\nthreshold:127.0\nBinary image generated!\nthreshold:127.0\nBinary image generated!\nthreshold:127.0\nBinary image generated!\nthreshold:127.0\nBinary image generated!\nthreshold:127.0\nBinary image generated!\nthreshold:127.0\nBinary image generated!\nthreshold:127.0\nBinary image generated!\nthreshold:127.0\nBinary image generated!\nthreshold:127.0\nBinary image generated!\nthreshold:127.0\nBinary image generated!\nthreshold:127.0\nBinary image generated!\nthreshold:127.0\nBinary image generated!\nthreshold:127.0\nBinary image generated!\nthreshold:127.0\nBinary image generated!\nthreshold:127.0\nBinary image generated!\nthreshold:127.0\nBinary image generated!\nthreshold:127.0\nBinary image generated!\nthreshold:127.0\nBinary image generated!\nthreshold:127.0\nBinary image generated!\nthreshold:127.0\nBinary image generated!\nthreshold:127.0\nBinary image generated!\nthreshold:127.0\nBinary image generated!\nthreshold:127.0\nBinary image generated!\nthreshold:127.0\nBinary image generated!\nthreshold:127.0\nBinary image generated!\nthreshold:127.0\nBinary image generated!\nthreshold:127.0\nBinary image generated!\nthreshold:127.0\nBinary image generated!\nthreshold:127.0\nBinary image generated!\nthreshold:127.0\nBinary image generated!\nthreshold:127.0\nBinary image generated!\nthreshold:127.0\nBinary image generated!\nthreshold:127.0\nBinary image generated!\nthreshold:127.0\nBinary image generated!\nthreshold:127.0\nBinary image generated!\nthreshold:127.0\nBinary image generated!\nthreshold:127.0\nBinary image generated!\nthreshold:127.0\nBinary image generated!\nthreshold:127.0\nBinary image generated!\nthreshold:127.0\nBinary image generated!\nthreshold:127.0\nBinary image generated!\nthreshold:127.0\nBinary image generated!\nthreshold:127.0\nBinary image generated!\nthreshold:127.0\nBinary image generated!\nthreshold:127.0\nBinary image generated!\nthreshold:127.0\nBinary image generated!\nthreshold:127.0\nBinary image generated!\nthreshold:127.0\nBinary image generated!\nthreshold:127.0\nBinary image generated!\nthreshold:127.0\nBinary image generated!\nthreshold:127.0\nBinary image generated!\nthreshold:127.0\nBinary image generated!\nthreshold:127.0\nBinary image generated!\nthreshold:127.0\nBinary image generated!\nthreshold:127.0\nBinary image generated!\nthreshold:127.0\nBinary image generated!\nthreshold:127.0\nBinary image generated!\nthreshold:127.0\nBinary image generated!\nthreshold:127.0\nBinary image generated!\nthreshold:127.0\nBinary image generated!\nthreshold:127.0\nBinary image generated!\nthreshold:127.0\nBinary image generated!\nthreshold:127.0\nBinary image generated!\nthreshold:127.0\nBinary image generated!\nthreshold:127.0\nBinary image generated!\nthreshold:127.0\nBinary image generated!\nthreshold:127.0\nBinary image generated!\nthreshold:127.0\nBinary image generated!\nthreshold:127.0\nBinary image generated!\nthreshold:127.0\nBinary image generated!\nthreshold:127.0\nBinary image generated!\nthreshold:127.0\nBinary image generated!\nthreshold:127.0\nBinary image generated!\nthreshold:127.0\nBinary image generated!\nthreshold:127.0\nBinary image generated!\nthreshold:127.0\nBinary image generated!\nthreshold:127.0\nBinary image generated!\nthreshold:127.0\nBinary image generated!\nthreshold:127.0\nBinary image generated!\nthreshold:127.0\nBinary image generated!\nthreshold:127.0\nBinary image generated!\nthreshold:127.0\nBinary image generated!\nthreshold:127.0\nBinary image generated!\nthreshold:127.0\nBinary image generated!\nthreshold:127.0\nBinary image generated!\nthreshold:127.0\nBinary image generated!\nthreshold:127.0\nBinary image generated!\nthreshold:127.0\nBinary image generated!\nthreshold:127.0\nBinary image generated!\nthreshold:127.0\nBinary image generated!\nthreshold:127.0\nBinary image generated!\nthreshold:127.0\nBinary image generated!\nthreshold:127.0\nBinary image generated!\nthreshold:127.0\nBinary image generated!\nthreshold:127.0\nBinary image generated!\nthreshold:127.0\nBinary image generated!\nthreshold:127.0\nBinary image generated!\nthreshold:127.0\nBinary image generated!\nthreshold:127.0\nBinary image generated!\nthreshold:127.0\nBinary image generated!\nthreshold:127.0\nBinary image generated!\nthreshold:127.0\nBinary image generated!\nthreshold:127.0\nBinary image generated!\nthreshold:127.0\nBinary image generated!\nthreshold:127.0\nBinary image generated!\nthreshold:127.0\nBinary image generated!\nthreshold:127.0\nBinary image generated!\nthreshold:127.0\nBinary image generated!\nthreshold:127.0\nBinary image generated!\nthreshold:127.0\nBinary image generated!\nthreshold:127.0\nBinary image generated!\nthreshold:127.0\nBinary image generated!\nthreshold:127.0\nBinary image generated!\nthreshold:127.0\nBinary image generated!\nthreshold:127.0\nBinary image generated!\nthreshold:127.0\nBinary image generated!\nthreshold:127.0\nBinary image generated!\nthreshold:127.0\nBinary image generated!\nthreshold:127.0\nBinary image generated!\nthreshold:127.0\nBinary image generated!\nthreshold:127.0\nBinary image generated!\nthreshold:127.0\nBinary image generated!\nthreshold:127.0\nBinary image generated!\nthreshold:127.0\nBinary image generated!\nthreshold:127.0\nBinary image generated!\nthreshold:127.0\nBinary image generated!\nthreshold:127.0\nBinary image generated!\nthreshold:127.0\nBinary image generated!\nthreshold:127.0\nBinary image generated!\nthreshold:127.0\nBinary image generated!\nthreshold:127.0\nBinary image generated!\nthreshold:127.0\nBinary image generated!\nthreshold:127.0\nBinary image generated!\nthreshold:127.0\nBinary image generated!\nthreshold:127.0\nBinary image generated!\nthreshold:127.0\nBinary image generated!\nthreshold:127.0\nBinary image generated!\nthreshold:127.0\nBinary image generated!\nthreshold:127.0\nBinary image generated!\nthreshold:127.0\nBinary image generated!\nthreshold:127.0\nBinary image generated!\nthreshold:127.0\nBinary image generated!\nthreshold:127.0\nBinary image generated!\nthreshold:127.0\nBinary image generated!\nthreshold:127.0\nBinary image generated!\nthreshold:127.0\nBinary image generated!\nthreshold:127.0\nBinary image generated!\nthreshold:127.0\nBinary image generated!\nthreshold:127.0\nBinary image generated!\nthreshold:127.0\nBinary image generated!\nthreshold:127.0\nBinary image generated!\nthreshold:127.0\nBinary image generated!\nthreshold:127.0\nBinary image generated!\nthreshold:127.0\nBinary image generated!\nthreshold:127.0\nBinary image generated!\nthreshold:127.0\nBinary image generated!\nthreshold:127.0\nBinary image generated!\nthreshold:127.0\nBinary image generated!\nthreshold:127.0\nBinary image generated!\nthreshold:127.0\nBinary image generated!\nthreshold:127.0\nBinary image generated!\nthreshold:127.0\nBinary image generated!\nthreshold:127.0\nBinary image generated!\nthreshold:127.0\nBinary image generated!\nthreshold:127.0\nBinary image generated!\nthreshold:127.0\nBinary image generated!\nthreshold:127.0\nBinary image generated!\nthreshold:127.0\nBinary image generated!\nthreshold:127.0\nBinary image generated!\nthreshold:127.0\nBinary image generated!\nthreshold:127.0\nBinary image generated!\nthreshold:127.0\nBinary image generated!\nthreshold:127.0\nBinary image generated!\nthreshold:127.0\nBinary image generated!\nthreshold:127.0\nBinary image generated!\nthreshold:127.0\nBinary image generated!\nthreshold:127.0\nBinary image generated!\nthreshold:127.0\nBinary image generated!\nthreshold:127.0\nBinary image generated!\nthreshold:127.0\nBinary image generated!\nthreshold:127.0\nBinary image generated!\nthreshold:127.0\nBinary image generated!\nthreshold:127.0\nBinary image generated!\nthreshold:127.0\nBinary image generated!\nthreshold:127.0\nBinary image generated!\nthreshold:127.0\nBinary image generated!\nthreshold:127.0\nBinary image generated!\nthreshold:127.0\nBinary image generated!\nthreshold:127.0\nBinary image generated!\nthreshold:127.0\nBinary image generated!\nthreshold:127.0\nBinary image generated!\nthreshold:127.0\nBinary image generated!\nthreshold:127.0\nBinary image generated!\nthreshold:127.0\nBinary image generated!\nthreshold:127.0\nBinary image generated!\nthreshold:127.0\nBinary image generated!\nthreshold:127.0\nBinary image generated!\nthreshold:127.0\nBinary image generated!\nthreshold:127.0\nBinary image generated!\nthreshold:127.0\nBinary image generated!\nthreshold:127.0\nBinary image generated!\nthreshold:127.0\nBinary image generated!\nthreshold:127.0\nBinary image generated!\nthreshold:127.0\nBinary image generated!\nthreshold:127.0\nBinary image generated!\nthreshold:127.0\nBinary image generated!\nthreshold:127.0\nBinary image generated!\nthreshold:127.0\nBinary image generated!\nthreshold:127.0\nBinary image generated!\nthreshold:127.0\nBinary image generated!\nthreshold:127.0\nBinary image generated!\nthreshold:127.0\nBinary image generated!\nthreshold:127.0\nBinary image generated!\nthreshold:127.0\nBinary image generated!\nthreshold:127.0\nBinary image generated!\nthreshold:127.0\nBinary image generated!\nthreshold:127.0\n"
    }
   ],
   "source": [
    "def gen_data_set(captcha_imgs_folder, binary=False, binary_reverse=True):\n",
    "    '''\n",
    "    此函数用于创建 样本集和对应标签集合,返回的数据集是np.array类型\n",
    "    binary: 用于控制是否生成二值样本\n",
    "    '''\n",
    "    target_imgs = [ os.path.join(captcha_imgs_folder, img_name) \n",
    "                    for img_name in os.listdir(captcha_imgs_folder)] \n",
    "    target_imgs.sort() # 升序，注意不能 listA = listA.sort(), sort没有返回值\n",
    "    data_set, label_set = [], []\n",
    "    # 发现一个问题，如果先变成二值图，再进行resize会导致出现非0、255的像素，见上一个cell测试\n",
    "    # 故这里再genNeedImg时候，指定20x20尺寸\n",
    "    for captcha in target_imgs:\n",
    "        if binary:\n",
    "            img = genNeedImg(captcha, size=(20,20), binary_reverse=binary_reverse) # 生成20x20大小的二值图\n",
    "        else:\n",
    "            img = cv.imread(captcha, cv.IMREAD_GRAYSCALE) # 以灰度图读入验证码/单个字符的图\n",
    "            img = cv.resize(img, (20,20)) # 调整尺寸到20x20\n",
    "        img = img.reshape(400,)  # reshape成一维数组（sklearn用kNN时需要的格式）\n",
    "        data_set.append(img)\n",
    "        label_set.append(os.path.basename(captcha)[0])\n",
    "    return np.array(data_set), np.array(label_set)\n",
    "\n",
    "data_set, label_set = gen_data_set(TRAIN_DATA, binary=True)\n",
    "# label_set\n",
    "# plt.imshow(data_set[8])\n",
    "# data_set[0]"
   ]
  },
  {
   "cell_type": "markdown",
   "metadata": {},
   "source": [
    "### 下面用sklearn的kNN工具来做训练和预测"
   ]
  },
  {
   "cell_type": "code",
   "execution_count": 336,
   "metadata": {},
   "outputs": [
    {
     "output_type": "execute_result",
     "data": {
      "text/plain": "KNeighborsClassifier(algorithm='auto', leaf_size=30, metric='minkowski',\n                     metric_params=None, n_jobs=None, n_neighbors=3, p=2,\n                     weights='uniform')"
     },
     "metadata": {},
     "execution_count": 336
    }
   ],
   "source": [
    "from sklearn.neighbors import KNeighborsClassifier\n",
    "\n",
    "kNN_classifier = KNeighborsClassifier(n_neighbors=3)\n",
    "kNN_classifier"
   ]
  },
  {
   "cell_type": "code",
   "execution_count": 337,
   "metadata": {},
   "outputs": [
    {
     "output_type": "execute_result",
     "data": {
      "text/plain": "KNeighborsClassifier(algorithm='auto', leaf_size=30, metric='minkowski',\n                     metric_params=None, n_jobs=None, n_neighbors=3, p=2,\n                     weights='uniform')"
     },
     "metadata": {},
     "execution_count": 337
    }
   ],
   "source": [
    "X_train, y_train = data_set, label_set\n",
    "kNN_classifier.fit(X_train, y_train)"
   ]
  },
  {
   "cell_type": "code",
   "execution_count": 338,
   "metadata": {},
   "outputs": [
    {
     "output_type": "stream",
     "name": "stdout",
     "text": "Binary image generated!\nthreshold:127.0\nBinary image generated!\nthreshold:127.0\nBinary image generated!\nthreshold:127.0\nBinary image generated!\nthreshold:127.0\nBinary image generated!\nthreshold:127.0\nBinary image generated!\nthreshold:127.0\nBinary image generated!\nthreshold:127.0\nBinary image generated!\nthreshold:127.0\nBinary image generated!\nthreshold:127.0\nBinary image generated!\nthreshold:127.0\nBinary image generated!\nthreshold:127.0\nBinary image generated!\nthreshold:127.0\nBinary image generated!\nthreshold:127.0\nBinary image generated!\nthreshold:127.0\nBinary image generated!\nthreshold:127.0\nBinary image generated!\nthreshold:127.0\nBinary image generated!\nthreshold:127.0\nBinary image generated!\nthreshold:127.0\nBinary image generated!\nthreshold:127.0\nBinary image generated!\nthreshold:127.0\nBinary image generated!\nthreshold:127.0\nBinary image generated!\nthreshold:127.0\nBinary image generated!\nthreshold:127.0\nBinary image generated!\nthreshold:127.0\nBinary image generated!\nthreshold:127.0\nBinary image generated!\nthreshold:127.0\nBinary image generated!\nthreshold:127.0\nBinary image generated!\nthreshold:127.0\nBinary image generated!\nthreshold:127.0\nBinary image generated!\nthreshold:127.0\nBinary image generated!\nthreshold:127.0\nBinary image generated!\nthreshold:127.0\nBinary image generated!\nthreshold:127.0\nBinary image generated!\nthreshold:127.0\nBinary image generated!\nthreshold:127.0\nBinary image generated!\nthreshold:127.0\nBinary image generated!\nthreshold:127.0\nBinary image generated!\nthreshold:127.0\nBinary image generated!\nthreshold:127.0\nBinary image generated!\nthreshold:127.0\nBinary image generated!\nthreshold:127.0\nBinary image generated!\nthreshold:127.0\nBinary image generated!\nthreshold:127.0\nBinary image generated!\nthreshold:127.0\nBinary image generated!\nthreshold:127.0\nBinary image generated!\nthreshold:127.0\nBinary image generated!\nthreshold:127.0\nBinary image generated!\nthreshold:127.0\nBinary image generated!\nthreshold:127.0\nBinary image generated!\nthreshold:127.0\nBinary image generated!\nthreshold:127.0\nBinary image generated!\nthreshold:127.0\nBinary image generated!\nthreshold:127.0\nBinary image generated!\nthreshold:127.0\nBinary image generated!\nthreshold:127.0\nBinary image generated!\nthreshold:127.0\nBinary image generated!\nthreshold:127.0\nBinary image generated!\nthreshold:127.0\nBinary image generated!\nthreshold:127.0\nBinary image generated!\nthreshold:127.0\nBinary image generated!\nthreshold:127.0\nBinary image generated!\nthreshold:127.0\nBinary image generated!\nthreshold:127.0\nBinary image generated!\nthreshold:127.0\nBinary image generated!\nthreshold:127.0\nBinary image generated!\nthreshold:127.0\nBinary image generated!\nthreshold:127.0\nBinary image generated!\nthreshold:127.0\nBinary image generated!\nthreshold:127.0\nBinary image generated!\nthreshold:127.0\nBinary image generated!\nthreshold:127.0\nBinary image generated!\nthreshold:127.0\nBinary image generated!\nthreshold:127.0\nBinary image generated!\nthreshold:127.0\nBinary image generated!\nthreshold:127.0\nBinary image generated!\nthreshold:127.0\nBinary image generated!\nthreshold:127.0\nBinary image generated!\nthreshold:127.0\nBinary image generated!\nthreshold:127.0\nBinary image generated!\nthreshold:127.0\nBinary image generated!\nthreshold:127.0\nBinary image generated!\nthreshold:127.0\nBinary image generated!\nthreshold:127.0\nBinary image generated!\nthreshold:127.0\nBinary image generated!\nthreshold:127.0\nBinary image generated!\nthreshold:127.0\nBinary image generated!\nthreshold:127.0\nBinary image generated!\nthreshold:127.0\nBinary image generated!\nthreshold:127.0\nBinary image generated!\nthreshold:127.0\nBinary image generated!\nthreshold:127.0\nBinary image generated!\nthreshold:127.0\nBinary image generated!\nthreshold:127.0\nBinary image generated!\nthreshold:127.0\nBinary image generated!\nthreshold:127.0\nBinary image generated!\nthreshold:127.0\nBinary image generated!\nthreshold:127.0\nBinary image generated!\nthreshold:127.0\nBinary image generated!\nthreshold:127.0\nBinary image generated!\nthreshold:127.0\nBinary image generated!\nthreshold:127.0\nBinary image generated!\nthreshold:127.0\nBinary image generated!\nthreshold:127.0\nBinary image generated!\nthreshold:127.0\nBinary image generated!\nthreshold:127.0\nBinary image generated!\nthreshold:127.0\nBinary image generated!\nthreshold:127.0\nBinary image generated!\nthreshold:127.0\nBinary image generated!\nthreshold:127.0\nBinary image generated!\nthreshold:127.0\nBinary image generated!\nthreshold:127.0\nBinary image generated!\nthreshold:127.0\nBinary image generated!\nthreshold:127.0\nBinary image generated!\nthreshold:127.0\nBinary image generated!\nthreshold:127.0\nBinary image generated!\nthreshold:127.0\nBinary image generated!\nthreshold:127.0\nBinary image generated!\nthreshold:127.0\nBinary image generated!\nthreshold:127.0\nBinary image generated!\nthreshold:127.0\nBinary image generated!\nthreshold:127.0\nBinary image generated!\nthreshold:127.0\nBinary image generated!\nthreshold:127.0\nBinary image generated!\nthreshold:127.0\nBinary image generated!\nthreshold:127.0\nBinary image generated!\nthreshold:127.0\nBinary image generated!\nthreshold:127.0\nBinary image generated!\nthreshold:127.0\nBinary image generated!\nthreshold:127.0\nBinary image generated!\nthreshold:127.0\nBinary image generated!\nthreshold:127.0\nBinary image generated!\nthreshold:127.0\nBinary image generated!\nthreshold:127.0\nBinary image generated!\nthreshold:127.0\nBinary image generated!\nthreshold:127.0\nBinary image generated!\nthreshold:127.0\nBinary image generated!\nthreshold:127.0\nBinary image generated!\nthreshold:127.0\nBinary image generated!\nthreshold:127.0\nBinary image generated!\nthreshold:127.0\nBinary image generated!\nthreshold:127.0\nBinary image generated!\nthreshold:127.0\nBinary image generated!\nthreshold:127.0\nBinary image generated!\nthreshold:127.0\nBinary image generated!\nthreshold:127.0\nBinary image generated!\nthreshold:127.0\nBinary image generated!\nthreshold:127.0\nBinary image generated!\nthreshold:127.0\nBinary image generated!\nthreshold:127.0\nBinary image generated!\nthreshold:127.0\nBinary image generated!\nthreshold:127.0\nBinary image generated!\nthreshold:127.0\nBinary image generated!\nthreshold:127.0\nBinary image generated!\nthreshold:127.0\nBinary image generated!\nthreshold:127.0\nBinary image generated!\nthreshold:127.0\nBinary image generated!\nthreshold:127.0\nBinary image generated!\nthreshold:127.0\nBinary image generated!\nthreshold:127.0\nBinary image generated!\nthreshold:127.0\nBinary image generated!\nthreshold:127.0\nBinary image generated!\nthreshold:127.0\nBinary image generated!\nthreshold:127.0\nBinary image generated!\nthreshold:127.0\nBinary image generated!\nthreshold:127.0\nBinary image generated!\nthreshold:127.0\nBinary image generated!\nthreshold:127.0\nBinary image generated!\nthreshold:127.0\nBinary image generated!\nthreshold:127.0\nBinary image generated!\nthreshold:127.0\nBinary image generated!\nthreshold:127.0\nBinary image generated!\nthreshold:127.0\nBinary image generated!\nthreshold:127.0\nBinary image generated!\nthreshold:127.0\nBinary image generated!\nthreshold:127.0\nBinary image generated!\nthreshold:127.0\nBinary image generated!\nthreshold:127.0\nBinary image generated!\nthreshold:127.0\nBinary image generated!\nthreshold:127.0\nBinary image generated!\nthreshold:127.0\nBinary image generated!\nthreshold:127.0\nBinary image generated!\nthreshold:127.0\nBinary image generated!\nthreshold:127.0\nBinary image generated!\nthreshold:127.0\nBinary image generated!\nthreshold:127.0\nBinary image generated!\nthreshold:127.0\nBinary image generated!\nthreshold:127.0\nBinary image generated!\nthreshold:127.0\nBinary image generated!\nthreshold:127.0\nBinary image generated!\nthreshold:127.0\nBinary image generated!\nthreshold:127.0\nBinary image generated!\nthreshold:127.0\nBinary image generated!\nthreshold:127.0\nBinary image generated!\nthreshold:127.0\nBinary image generated!\nthreshold:127.0\nBinary image generated!\nthreshold:127.0\nBinary image generated!\nthreshold:127.0\nBinary image generated!\nthreshold:127.0\nBinary image generated!\nthreshold:127.0\nBinary image generated!\nthreshold:127.0\nBinary image generated!\nthreshold:127.0\nBinary image generated!\nthreshold:127.0\nBinary image generated!\nthreshold:127.0\nBinary image generated!\nthreshold:127.0\nBinary image generated!\nthreshold:127.0\nBinary image generated!\nthreshold:127.0\nBinary image generated!\nthreshold:127.0\nBinary image generated!\nthreshold:127.0\nBinary image generated!\nthreshold:127.0\nBinary image generated!\nthreshold:127.0\nBinary image generated!\nthreshold:127.0\nBinary image generated!\nthreshold:127.0\nBinary image generated!\nthreshold:127.0\nBinary image generated!\nthreshold:127.0\nBinary image generated!\nthreshold:127.0\nBinary image generated!\nthreshold:127.0\nBinary image generated!\nthreshold:127.0\nBinary image generated!\nthreshold:127.0\nBinary image generated!\nthreshold:127.0\nBinary image generated!\nthreshold:127.0\nBinary image generated!\nthreshold:127.0\nBinary image generated!\nthreshold:127.0\nBinary image generated!\nthreshold:127.0\nBinary image generated!\nthreshold:127.0\nBinary image generated!\nthreshold:127.0\nBinary image generated!\nthreshold:127.0\nBinary image generated!\nthreshold:127.0\nBinary image generated!\nthreshold:127.0\nBinary image generated!\nthreshold:127.0\nBinary image generated!\nthreshold:127.0\nBinary image generated!\nthreshold:127.0\nBinary image generated!\nthreshold:127.0\nBinary image generated!\nthreshold:127.0\nBinary image generated!\nthreshold:127.0\nBinary image generated!\nthreshold:127.0\nBinary image generated!\nthreshold:127.0\nBinary image generated!\nthreshold:127.0\nBinary image generated!\nthreshold:127.0\nBinary image generated!\nthreshold:127.0\nBinary image generated!\nthreshold:127.0\nBinary image generated!\nthreshold:127.0\nBinary image generated!\nthreshold:127.0\nBinary image generated!\nthreshold:127.0\nBinary image generated!\nthreshold:127.0\nBinary image generated!\nthreshold:127.0\nBinary image generated!\nthreshold:127.0\nBinary image generated!\nthreshold:127.0\nBinary image generated!\nthreshold:127.0\nBinary image generated!\nthreshold:127.0\nBinary image generated!\nthreshold:127.0\nBinary image generated!\nthreshold:127.0\nBinary image generated!\nthreshold:127.0\nBinary image generated!\nthreshold:127.0\nBinary image generated!\nthreshold:127.0\nBinary image generated!\nthreshold:127.0\nBinary image generated!\nthreshold:127.0\nBinary image generated!\nthreshold:127.0\nBinary image generated!\nthreshold:127.0\nBinary image generated!\nthreshold:127.0\nBinary image generated!\nthreshold:127.0\nBinary image generated!\nthreshold:127.0\nBinary image generated!\nthreshold:127.0\nBinary image generated!\nthreshold:127.0\nBinary image generated!\nthreshold:127.0\nBinary image generated!\nthreshold:127.0\nBinary image generated!\nthreshold:127.0\nBinary image generated!\nthreshold:127.0\nBinary image generated!\nthreshold:127.0\nBinary image generated!\nthreshold:127.0\nBinary image generated!\nthreshold:127.0\nBinary image generated!\nthreshold:127.0\nBinary image generated!\nthreshold:127.0\nBinary image generated!\nthreshold:127.0\nBinary image generated!\nthreshold:127.0\nBinary image generated!\nthreshold:127.0\nBinary image generated!\nthreshold:127.0\nBinary image generated!\nthreshold:127.0\nBinary image generated!\nthreshold:127.0\nBinary image generated!\nthreshold:127.0\nBinary image generated!\nthreshold:127.0\nBinary image generated!\nthreshold:127.0\nBinary image generated!\nthreshold:127.0\nBinary image generated!\nthreshold:127.0\nBinary image generated!\nthreshold:127.0\nBinary image generated!\nthreshold:127.0\nBinary image generated!\nthreshold:127.0\nBinary image generated!\nthreshold:127.0\nBinary image generated!\nthreshold:127.0\nBinary image generated!\nthreshold:127.0\nBinary image generated!\nthreshold:127.0\nBinary image generated!\nthreshold:127.0\nBinary image generated!\nthreshold:127.0\nBinary image generated!\nthreshold:127.0\nBinary image generated!\nthreshold:127.0\nBinary image generated!\nthreshold:127.0\nBinary image generated!\nthreshold:127.0\nBinary image generated!\nthreshold:127.0\nBinary image generated!\nthreshold:127.0\nBinary image generated!\nthreshold:127.0\nBinary image generated!\nthreshold:127.0\nBinary image generated!\nthreshold:127.0\nBinary image generated!\nthreshold:127.0\nBinary image generated!\nthreshold:127.0\nBinary image generated!\nthreshold:127.0\nBinary image generated!\nthreshold:127.0\nBinary image generated!\nthreshold:127.0\nBinary image generated!\nthreshold:127.0\nBinary image generated!\nthreshold:127.0\nBinary image generated!\nthreshold:127.0\nBinary image generated!\nthreshold:127.0\nBinary image generated!\nthreshold:127.0\nBinary image generated!\nthreshold:127.0\nBinary image generated!\nthreshold:127.0\nBinary image generated!\nthreshold:127.0\nBinary image generated!\nthreshold:127.0\nBinary image generated!\nthreshold:127.0\nBinary image generated!\nthreshold:127.0\nBinary image generated!\nthreshold:127.0\nBinary image generated!\nthreshold:127.0\nBinary image generated!\nthreshold:127.0\nBinary image generated!\nthreshold:127.0\nBinary image generated!\nthreshold:127.0\nBinary image generated!\nthreshold:127.0\nBinary image generated!\nthreshold:127.0\nBinary image generated!\nthreshold:127.0\nBinary image generated!\nthreshold:127.0\nBinary image generated!\nthreshold:127.0\nBinary image generated!\nthreshold:127.0\nBinary image generated!\nthreshold:127.0\nBinary image generated!\nthreshold:127.0\nBinary image generated!\nthreshold:127.0\nBinary image generated!\nthreshold:127.0\nBinary image generated!\nthreshold:127.0\nBinary image generated!\nthreshold:127.0\nBinary image generated!\nthreshold:127.0\nBinary image generated!\nthreshold:127.0\nBinary image generated!\nthreshold:127.0\nBinary image generated!\nthreshold:127.0\nBinary image generated!\nthreshold:127.0\nBinary image generated!\nthreshold:127.0\nBinary image generated!\nthreshold:127.0\nBinary image generated!\nthreshold:127.0\nBinary image generated!\nthreshold:127.0\nBinary image generated!\nthreshold:127.0\nBinary image generated!\nthreshold:127.0\nBinary image generated!\nthreshold:127.0\nBinary image generated!\nthreshold:127.0\nBinary image generated!\nthreshold:127.0\nBinary image generated!\nthreshold:127.0\nBinary image generated!\nthreshold:127.0\nBinary image generated!\nthreshold:127.0\nBinary image generated!\nthreshold:127.0\nBinary image generated!\nthreshold:127.0\nBinary image generated!\nthreshold:127.0\nBinary image generated!\nthreshold:127.0\nBinary image generated!\nthreshold:127.0\nBinary image generated!\nthreshold:127.0\nBinary image generated!\nthreshold:127.0\nBinary image generated!\nthreshold:127.0\nBinary image generated!\nthreshold:127.0\nBinary image generated!\nthreshold:127.0\nBinary image generated!\nthreshold:127.0\nBinary image generated!\nthreshold:127.0\nBinary image generated!\nthreshold:127.0\nBinary image generated!\nthreshold:127.0\nBinary image generated!\nthreshold:127.0\nBinary image generated!\nthreshold:127.0\nBinary image generated!\nthreshold:127.0\nBinary image generated!\nthreshold:127.0\nBinary image generated!\nthreshold:127.0\nBinary image generated!\nthreshold:127.0\nBinary image generated!\nthreshold:127.0\nBinary image generated!\nthreshold:127.0\nBinary image generated!\nthreshold:127.0\nBinary image generated!\nthreshold:127.0\nBinary image generated!\nthreshold:127.0\nBinary image generated!\nthreshold:127.0\nBinary image generated!\nthreshold:127.0\nBinary image generated!\nthreshold:127.0\nBinary image generated!\nthreshold:127.0\nBinary image generated!\nthreshold:127.0\nBinary image generated!\nthreshold:127.0\nBinary image generated!\nthreshold:127.0\nBinary image generated!\nthreshold:127.0\nBinary image generated!\nthreshold:127.0\nBinary image generated!\nthreshold:127.0\nBinary image generated!\nthreshold:127.0\nBinary image generated!\nthreshold:127.0\nBinary image generated!\nthreshold:127.0\nBinary image generated!\nthreshold:127.0\nBinary image generated!\nthreshold:127.0\nBinary image generated!\nthreshold:127.0\nBinary image generated!\nthreshold:127.0\nBinary image generated!\nthreshold:127.0\nBinary image generated!\nthreshold:127.0\nBinary image generated!\nthreshold:127.0\n"
    },
    {
     "output_type": "execute_result",
     "data": {
      "text/plain": "0      0\n1      0\n2      0\n3      0\n4      0\n      ..\n391    9\n392    9\n393    9\n394    9\n395    9\nLength: 396, dtype: object"
     },
     "metadata": {},
     "execution_count": 338
    }
   ],
   "source": [
    "X_test, y_test = gen_data_set(TEST_DATA_CHAR, binary=True)\n",
    "predicted_result = kNN_classifier.predict(X_test)\n",
    "predicted_result = pd.Series(predicted_result)\n",
    "predicted_result"
   ]
  },
  {
   "cell_type": "code",
   "execution_count": 339,
   "metadata": {},
   "outputs": [
    {
     "output_type": "execute_result",
     "data": {
      "text/plain": "0      0\n1      0\n2      0\n3      0\n4      0\n      ..\n391    9\n392    9\n393    9\n394    9\n395    9\nLength: 396, dtype: object"
     },
     "metadata": {},
     "execution_count": 339
    }
   ],
   "source": [
    "actual_result = pd.Series(y_test)\n",
    "actual_result"
   ]
  },
  {
   "cell_type": "code",
   "execution_count": 340,
   "metadata": {},
   "outputs": [],
   "source": [
    "def prediction_accuracy(predicted_results, actual_results):\n",
    "    '''\n",
    "    预测结果的正确率计算\n",
    "    predicted_results, actual_results都需要是pandas的Series对象\n",
    "    '''\n",
    "    compare = predicted_results == actual_results # 返回一个Series对象\n",
    "    return compare.value_counts().loc[True] /  compare.count() # 预测和实际值匹配的占所有的比例"
   ]
  },
  {
   "cell_type": "code",
   "execution_count": 341,
   "metadata": {},
   "outputs": [
    {
     "output_type": "execute_result",
     "data": {
      "text/plain": "0.9848484848484849"
     },
     "metadata": {},
     "execution_count": 341
    }
   ],
   "source": [
    "prediction_accuracy(predicted_result, actual_result)"
   ]
  },
  {
   "cell_type": "markdown",
   "metadata": {},
   "source": [
    "### 下面我尝试自己实现一下kNN算法"
   ]
  },
  {
   "cell_type": "code",
   "execution_count": 342,
   "metadata": {},
   "outputs": [],
   "source": [
    "def judger(k_prediction):\n",
    "    '''\n",
    "    判决器，k_prediction是有权重的，索引最小代表该预测值和实际值相似度最大\n",
    "    但是，可能出现如：k=5，k_prediction=（7, 1, 2, 2, 2），这样的情况，我定预测结果为2\n",
    "    也就是，重复预测值个数 >= 预测值总数的2/3，则取该重复预测值\n",
    "    '''\n",
    "    k = len(k_prediction)\n",
    "    tmp = list(k_prediction)\n",
    "    [tmp.remove(i) for i in list(set(tmp))]\n",
    "    duplication = set(tmp) # 找出预测值中重复元素\n",
    "    if len(duplication) == 0:\n",
    "        return k_prediction[0] \n",
    "    if k_prediction[0] not in duplication: # 最接近的预测值不再重复出现的\n",
    "        top_dupli = tmp[ min([ tmp.index(d) for d in duplication]) ]# 找出重复预测值中接近程度最高的值\n",
    "        count = sum([ 1 for i in k_prediction if i==top_dupli]) # 统计较高相似度的重复预测值出现次数\n",
    "        if count >= int(2/3 * k): # 如果较高相似度的中伏预测值出现次数 >= 预测值总数的2/3，则取该预测值\n",
    "            return top_dupli    \n",
    "    return k_prediction[0]\n",
    "\n",
    "# judger( (5,2,2,3,3,3) )"
   ]
  },
  {
   "cell_type": "code",
   "execution_count": 343,
   "metadata": {},
   "outputs": [
    {
     "output_type": "execute_result",
     "data": {
      "text/plain": "0"
     },
     "metadata": {},
     "execution_count": 343
    }
   ],
   "source": [
    "k_prediction = [ 1,2 ,3 ]\n",
    "k = len(k_prediction)\n",
    "tmp = list(k_prediction)\n",
    "[tmp.remove(i) for i in list(set(tmp))]\n",
    "duplication = set(tmp) # 找出预测值中重复元素\n",
    "len(duplication)"
   ]
  },
  {
   "cell_type": "code",
   "execution_count": 344,
   "metadata": {},
   "outputs": [
    {
     "output_type": "execute_result",
     "data": {
      "text/plain": "array([5])"
     },
     "metadata": {},
     "execution_count": 344
    }
   ],
   "source": [
    "a = np.array([1,2,3,4,5])\n",
    "l = np.argsort(a)[-1:]\n",
    "a[l]"
   ]
  },
  {
   "cell_type": "code",
   "execution_count": 345,
   "metadata": {},
   "outputs": [],
   "source": [
    "def RG_kNN_classifier(feature_set_train, label_set_train, feature_set_test, k=3):\n",
    "    '''\n",
    "    所有的feature集合中的图像矩阵需要reshape成一维数组（传入前特征工程需要把图像先resize成20x20再reshape成（400,））\n",
    "    feature_set_train, label_set_train, feature_set_test都必须是np.array\n",
    "    '''\n",
    "    label_set_Kpredict, topK_list = [],[] # 增加topK_list记录最接近的图像编号\n",
    "    for test_feature in feature_set_test:\n",
    "        distances = []\n",
    "        for train_feature in feature_set_train:\n",
    "            distances.append(\n",
    "                np.sqrt(np.sum(np.square(test_feature - train_feature)))\n",
    "            )\n",
    "        # topK = np.argsort(distances)[-k:][::-1] # [-k:]是提取最后k个（因为argsort是升序排序）,[::-1]则是将其反序\n",
    "        topK = np.argsort(distances)[:k] # ummmm, 我感觉我昨天写代码脑袋写坏了，应该取距离最小的，我上面那句取了距离最大的k个\n",
    "        if k != 1:\n",
    "            label_set_Kpredict.append(\n",
    "                tuple(label_set_train[list(topK)]) # 保存最接近的k个预测值\n",
    "            )\n",
    "            topK_list.append(tuple(topK))\n",
    "        else:\n",
    "            label_set_Kpredict.append(\n",
    "                tuple(label_set_train[list(topK)])[0] # 保存最接近的k个预测值\n",
    "            )\n",
    "            topK_list.append(tuple(topK))\n",
    "    if k==1:\n",
    "        return label_set_Kpredict, topK_list\n",
    "    else:\n",
    "        # k个最接近的值，做一个投票器，利用投票器选出最终预测值\n",
    "        label_set_single = [ judger(labels) for labels in label_set_Kpredict]\n",
    "        return label_set_single, label_set_Kpredict, topK_list"
   ]
  },
  {
   "cell_type": "code",
   "execution_count": 346,
   "metadata": {},
   "outputs": [
    {
     "output_type": "execute_result",
     "data": {
      "text/plain": "0      0\n1      0\n2      0\n3      0\n4      0\n      ..\n391    9\n392    9\n393    9\n394    9\n395    9\nLength: 396, dtype: object"
     },
     "metadata": {},
     "execution_count": 346
    }
   ],
   "source": [
    "predicted_result_0 = pd.Series(RG_kNN_classifier(X_train,y_train,X_test, k=3)[0])\n",
    "predicted_result_0\n",
    "# t = RG_kNN_classifier(X_train,y_train,X_test, k=3)"
   ]
  },
  {
   "cell_type": "code",
   "execution_count": 347,
   "metadata": {},
   "outputs": [
    {
     "output_type": "execute_result",
     "data": {
      "text/plain": "0.9924242424242424"
     },
     "metadata": {},
     "execution_count": 347
    }
   ],
   "source": [
    "prediction_accuracy(predicted_result_0 , actual_result)"
   ]
  },
  {
   "cell_type": "markdown",
   "metadata": {},
   "source": [
    "下面是调试的时候的代码，因为我脑袋抽风, 写成了距离最大：    \n",
    "`# topK = np.argsort(distances)[-k:][::-1] # [-k:]是提取最后k个（因为argsort是升序排序）,[::-1]则是将其反序`    \n",
    "然后在用下面的方法，看为啥0会识别成4"
   ]
  },
  {
   "cell_type": "code",
   "execution_count": 348,
   "metadata": {},
   "outputs": [
    {
     "output_type": "execute_result",
     "data": {
      "text/plain": "('0', '0', '0')"
     },
     "metadata": {},
     "execution_count": 348
    }
   ],
   "source": [
    "t[1][0]"
   ]
  },
  {
   "cell_type": "code",
   "execution_count": 349,
   "metadata": {},
   "outputs": [
    {
     "output_type": "execute_result",
     "data": {
      "text/plain": "(14, 23, 22)"
     },
     "metadata": {},
     "execution_count": 349
    }
   ],
   "source": [
    "t[2][0]"
   ]
  },
  {
   "cell_type": "code",
   "execution_count": 350,
   "metadata": {},
   "outputs": [
    {
     "output_type": "stream",
     "name": "stdout",
     "text": "[[  0   0   0   0   0   0   0   0   0   0   0   0   0   0   0   0   0   0\n    0   0]\n [  0   0   0   0   0   0   0   0 255 255 255 255   0   0   0   0   0   0\n    0   0]\n [  0   0   0   0   0 255 255 255 255   0   0 255 255 255 255   0   0   0\n    0   0]\n [  0   0   0   0 255 255   0   0   0   0   0   0   0   0 255 255   0   0\n    0   0]\n [  0   0   0 255 255   0   0   0   0   0   0   0   0   0   0 255 255   0\n    0   0]\n [  0   0   0 255 255   0   0   0   0   0   0   0   0   0   0 255 255   0\n    0   0]\n [  0   0 255 255   0   0   0   0   0   0   0   0   0   0   0   0 255 255\n    0   0]\n [  0   0 255 255   0   0   0   0   0   0   0   0   0   0   0   0 255 255\n    0   0]\n [  0   0 255 255   0   0   0   0   0   0   0   0   0   0   0   0 255 255\n    0   0]\n [  0   0 255 255   0   0   0   0   0   0   0   0   0   0   0   0 255 255\n    0   0]\n [  0   0 255 255   0   0   0   0   0   0   0   0   0   0   0   0 255 255\n    0   0]\n [  0   0 255 255   0   0   0   0   0   0   0   0   0   0   0   0 255 255\n    0   0]\n [  0   0 255 255   0   0   0   0   0   0   0   0   0   0   0   0 255 255\n    0   0]\n [  0   0 255 255   0   0   0   0   0   0   0   0   0   0   0   0 255 255\n    0   0]\n [  0   0 255 255   0   0   0   0   0   0   0   0   0   0   0   0 255 255\n    0   0]\n [  0   0   0 255 255   0   0   0   0   0   0   0   0   0   0 255 255   0\n    0   0]\n [  0   0   0   0 255 255   0   0   0   0   0   0   0   0 255 255   0   0\n    0   0]\n [  0   0   0   0   0 255 255 255   0   0   0   0 255 255 255   0   0   0\n    0   0]\n [  0   0   0   0   0   0   0 255 255 255 255 255 255   0   0   0   0   0\n    0   0]\n [  0   0   0   0   0   0   0   0   0   0   0   0   0   0   0   0   0   0\n    0   0]]\n"
    }
   ],
   "source": [
    "print(X_test[0].reshape(20,20))"
   ]
  },
  {
   "cell_type": "code",
   "execution_count": 351,
   "metadata": {},
   "outputs": [
    {
     "output_type": "stream",
     "name": "stdout",
     "text": "[[  0   0   0   0   0   0   0   0   0   0   0   0   0   0   0   0   0   0\n    0   0]\n [  0   0   0   0   0   0   0   0   0   0   0 255 255 255 255 255   0   0\n    0   0]\n [  0   0   0   0   0   0   0   0   0   0 255 255 255 255 255 255   0   0\n    0   0]\n [  0   0   0   0   0   0   0   0   0 255 255 255 255 255 255 255   0   0\n    0   0]\n [  0   0   0   0   0   0   0   0 255 255 255 255 255 255 255 255   0   0\n    0   0]\n [  0   0   0   0   0   0   0 255 255 255 255 255 255 255 255 255   0   0\n    0   0]\n [  0   0   0   0   0   0 255 255 255 255 255 255 255 255 255 255   0   0\n    0   0]\n [  0   0   0   0   0 255 255 255 255 255   0 255 255 255 255 255   0   0\n    0   0]\n [  0   0   0   0 255 255 255 255 255   0   0 255 255 255 255 255   0   0\n    0   0]\n [  0   0   0 255 255 255 255 255   0   0   0 255 255 255 255 255   0   0\n    0   0]\n [  0   0 255 255 255 255 255   0   0   0   0 255 255 255 255 255   0   0\n    0   0]\n [  0 255 255 255 255 255 255   0   0   0   0 255 255 255 255 255   0   0\n  255   0]\n [  0 255 255 255 255 255 255 255 255 255 255 255 255 255 255 255 255 255\n  255   0]\n [  0 255 255 255 255 255 255 255 255 255 255 255 255 255 255 255 255 255\n  255   0]\n [  0 255 255 255 255 255 255 255 255 255 255 255 255 255 255 255 255 255\n  255   0]\n [  0   0   0   0   0   0   0   0   0   0   0 255 255 255 255 255   0   0\n    0   0]\n [  0   0   0   0   0   0   0   0   0   0   0 255 255 255 255 255   0   0\n    0   0]\n [  0   0   0   0   0   0   0   0   0   0   0 255 255 255 255 255   0   0\n    0   0]\n [  0   0   0   0   0   0   0   0   0   0   0 255 255 255 255 255   0   0\n    0   0]\n [  0   0   0   0   0   0   0   0   0   0   0   0   0   0   0   0   0   0\n    0   0]]\n"
    }
   ],
   "source": [
    "print(X_train[106].reshape(20,20))"
   ]
  },
  {
   "cell_type": "markdown",
   "metadata": {},
   "source": [
    "### 以上是直接识别单个字符，下面开始写，送入一个4个字符的验证码，进行整体识别"
   ]
  },
  {
   "cell_type": "code",
   "execution_count": 352,
   "metadata": {},
   "outputs": [],
   "source": [
    "# captcha_path = {\n",
    "#     'text': captcha_name,\n",
    "#     'path': os.path.join(TEST_DATA_CAP, captcha_name)\n",
    "#     for captcha_name in os.listdir(TEST_DATA_CAP)\n",
    "# } # 试了试，python字典不能像list一样快速遍历生成\n",
    "captcha_paths = [ os.path.join(TEST_DATA_CAP, captcha_name) for captcha_name in os.listdir(TEST_DATA_CAP)] \n",
    "captcha_paths.sort()\n",
    "# captcha_path"
   ]
  },
  {
   "cell_type": "code",
   "execution_count": 354,
   "metadata": {},
   "outputs": [
    {
     "output_type": "stream",
     "name": "stdout",
     "text": "Binary image generated!\nthreshold:127.0\n"
    },
    {
     "output_type": "execute_result",
     "data": {
      "text/plain": "array([[255, 255, 255, 255, 255, 255, 255, 255, 255, 255, 255, 255, 255,\n        255, 255, 255, 255, 255, 255, 255, 255, 255, 255, 255, 255, 255],\n       [255, 255, 255, 255, 255, 255, 255, 255, 255, 255, 255, 255, 255,\n        255, 255, 255, 255, 255, 255, 255, 255, 255, 255, 255, 255, 255],\n       [255, 255, 255, 255, 255, 255, 255, 255, 236, 172, 124,  95,  81,\n         83,  97, 124, 173, 235, 255, 255, 255, 255, 255, 255, 255, 255],\n       [255, 255, 255, 255, 255, 255, 248, 156,  80,  76,  76,  76,  76,\n         76,  76,  76,  76,  81, 151, 247, 255, 255, 255, 255, 255, 255],\n       [255, 255, 255, 255, 255, 240, 112,  76,  76,  76,  85, 130, 151,\n        149, 129,  89,  76,  76,  76, 109, 234, 255, 255, 255, 255, 255],\n       [255, 255, 255, 255, 250, 114,  76,  76,  82, 174, 250, 255, 255,\n        255, 255, 250, 189,  88,  76,  76, 108, 247, 255, 255, 255, 255],\n       [255, 255, 255, 255, 159,  76,  76,  84, 216, 255, 255, 255, 255,\n        255, 255, 255, 255, 231,  97,  76,  76, 140, 255, 255, 255, 255],\n       [255, 255, 255, 233,  80,  76,  76, 194, 255, 255, 255, 255, 255,\n        255, 255, 255, 255, 255, 214,  78,  76,  76, 224, 255, 255, 255],\n       [255, 255, 255, 158,  76,  76, 126, 255, 255, 255, 255, 255, 255,\n        255, 255, 255, 255, 255, 255, 149,  76,  76, 142, 255, 255, 255],\n       [255, 255, 255, 100,  76,  76, 206, 255, 255, 255, 255, 255, 255,\n        255, 255, 255, 255, 255, 255, 220,  76,  76,  88, 252, 255, 255],\n       [255, 255, 227,  76,  76,  86, 251, 255, 255, 255, 255, 255, 255,\n        255, 255, 255, 255, 255, 255, 255,  92,  76,  76, 210, 255, 255],\n       [255, 255, 181,  76,  76, 129, 255, 255, 255, 255, 255, 255, 255,\n        255, 255, 255, 255, 255, 255, 255, 136,  76,  76, 170, 255, 255],\n       [255, 255, 151,  76,  76, 165, 255, 255, 255, 255, 255, 255, 255,\n        255, 255, 255, 255, 255, 255, 255, 174,  76,  76, 133, 255, 255],\n       [255, 255, 123,  76,  76, 194, 255, 255, 255, 255, 255, 255, 255,\n        255, 255, 255, 255, 255, 255, 255, 200,  76,  76, 109, 255, 255],\n       [255, 255, 101,  76,  76, 215, 255, 255, 255, 255, 255, 255, 255,\n        255, 255, 255, 255, 255, 255, 255, 226,  76,  76,  87, 255, 255],\n       [255, 255,  91,  76,  76, 230, 255, 255, 255, 255, 255, 255, 255,\n        255, 255, 255, 255, 255, 255, 255, 238,  76,  76,  76, 253, 255],\n       [255, 255,  82,  76,  76, 236, 255, 255, 255, 255, 255, 255, 255,\n        255, 255, 255, 255, 255, 255, 255, 247,  76,  76,  76, 246, 255],\n       [255, 255,  77,  76,  76, 238, 255, 255, 255, 255, 255, 255, 255,\n        255, 255, 255, 255, 255, 255, 255, 252,  76,  76,  76, 244, 255],\n       [255, 255,  83,  76,  76, 230, 255, 255, 255, 255, 255, 255, 255,\n        255, 255, 255, 255, 255, 255, 255, 245,  76,  76,  76, 252, 255],\n       [255, 255,  92,  76,  76, 220, 255, 255, 255, 255, 255, 255, 255,\n        255, 255, 255, 255, 255, 255, 255, 236,  76,  76,  83, 255, 255],\n       [255, 255, 111,  76,  76, 203, 255, 255, 255, 255, 255, 255, 255,\n        255, 255, 255, 255, 255, 255, 255, 216,  76,  76,  95, 255, 255],\n       [255, 255, 133,  76,  76, 175, 255, 255, 255, 255, 255, 255, 255,\n        255, 255, 255, 255, 255, 255, 255, 191,  76,  76, 122, 255, 255],\n       [255, 255, 165,  76,  76, 147, 255, 255, 255, 255, 255, 255, 255,\n        255, 255, 255, 255, 255, 255, 255, 156,  76,  76, 154, 255, 255],\n       [255, 255, 203,  76,  76, 103, 255, 255, 255, 255, 255, 255, 255,\n        255, 255, 255, 255, 255, 255, 255, 116,  76,  76, 187, 255, 255],\n       [255, 255, 245,  80,  76,  76, 235, 255, 255, 255, 255, 255, 255,\n        255, 255, 255, 255, 255, 255, 241,  77,  76,  76, 232, 255, 255],\n       [255, 255, 255, 126,  76,  76, 175, 255, 255, 255, 255, 255, 255,\n        255, 255, 255, 255, 255, 255, 179,  76,  76, 110, 255, 255, 255],\n       [255, 255, 255, 194,  76,  76,  97, 247, 255, 255, 255, 255, 255,\n        255, 255, 255, 255, 255, 250, 100,  76,  76, 181, 255, 255, 255],\n       [255, 255, 255, 253, 104,  76,  76, 138, 255, 255, 255, 255, 255,\n        255, 255, 255, 255, 255, 148,  76,  76,  97, 250, 255, 255, 255],\n       [255, 255, 255, 255, 213,  80,  76,  76, 142, 247, 255, 255, 255,\n        255, 255, 255, 252, 158,  76,  76,  77, 206, 255, 255, 255, 255],\n       [255, 255, 255, 255, 255, 188,  76,  76,  76,  97, 167, 218, 238,\n        243, 224, 178, 102,  76,  76,  76, 179, 255, 255, 255, 255, 255],\n       [255, 255, 255, 255, 255, 255, 201,  86,  76,  76,  76,  76,  76,\n         76,  76,  76,  76,  76,  83, 190, 255, 255, 255, 255, 255, 255],\n       [255, 255, 255, 255, 255, 255, 255, 238, 156,  88,  76,  76,  76,\n         76,  76,  76,  84, 148, 235, 255, 255, 255, 255, 255, 255, 255],\n       [255, 255, 255, 255, 255, 255, 255, 255, 255, 252, 216, 187, 172,\n        169, 182, 211, 250, 255, 255, 255, 255, 255, 255, 255, 255, 255],\n       [255, 255, 255, 255, 255, 255, 255, 255, 255, 255, 255, 255, 255,\n        255, 255, 255, 255, 255, 255, 255, 255, 255, 255, 255, 255, 255]],\n      dtype=uint8)"
     },
     "metadata": {},
     "execution_count": 354
    }
   ],
   "source": [
    "character_splited = captcha_char_detach(captcha_paths[0], captcha_len=4)\n",
    "character_splited[0]\n",
    "# for character in character_splited:\n",
    "#     character = character.reshape(20,20)"
   ]
  },
  {
   "cell_type": "code",
   "execution_count": 370,
   "metadata": {},
   "outputs": [
    {
     "output_type": "execute_result",
     "data": {
      "text/plain": "<matplotlib.image.AxesImage at 0x13f112e50>"
     },
     "metadata": {},
     "execution_count": 370
    },
    {
     "output_type": "display_data",
     "data": {
      "text/plain": "<Figure size 432x288 with 1 Axes>",
      "image/svg+xml": "<?xml version=\"1.0\" encoding=\"utf-8\" standalone=\"no\"?>\n<!DOCTYPE svg PUBLIC \"-//W3C//DTD SVG 1.1//EN\"\n  \"http://www.w3.org/Graphics/SVG/1.1/DTD/svg11.dtd\">\n<!-- Created with matplotlib (https://matplotlib.org/) -->\n<svg height=\"248.518125pt\" version=\"1.1\" viewBox=\"0 0 261.105625 248.518125\" width=\"261.105625pt\" xmlns=\"http://www.w3.org/2000/svg\" xmlns:xlink=\"http://www.w3.org/1999/xlink\">\n <defs>\n  <style type=\"text/css\">\n*{stroke-linecap:butt;stroke-linejoin:round;}\n  </style>\n </defs>\n <g id=\"figure_1\">\n  <g id=\"patch_1\">\n   <path d=\"M 0 248.518125 \nL 261.105625 248.518125 \nL 261.105625 0 \nL 0 0 \nz\n\" style=\"fill:none;\"/>\n  </g>\n  <g id=\"axes_1\">\n   <g id=\"patch_2\">\n    <path d=\"M 36.465625 224.64 \nL 253.905625 224.64 \nL 253.905625 7.2 \nL 36.465625 7.2 \nz\n\" style=\"fill:#ffffff;\"/>\n   </g>\n   <g clip-path=\"url(#pea37f89721)\">\n    <image height=\"218\" id=\"image7440985f03\" transform=\"scale(1 -1)translate(0 -218)\" width=\"218\" x=\"36.465625\" xlink:href=\"data:image/png;base64,\niVBORw0KGgoAAAANSUhEUgAAANoAAADaCAYAAADAHVzbAAAABHNCSVQICAgIfAhkiAAAAxBJREFUeJzt3cFtwkAQQFE7ogqqoAgkGqBZuqCKtEFOuQeJ/fY67xVgrWx/zWVkr9f1/lqAob62PgD8B0KDgNAgIDQICA0CQoOA0CAgNAgIDQJCg8Bp6wPM5vH93PoIu3A7X7Y+wlRMNAgIDQJCg4DQICA0CAgNAkKDgNAgIDQICA0Ch13B2sOq1GxrSu/csxH3d7b79Q4TDQJCg4DQICA0CAgNAkKDgNAgIDQICA0CQoPAOtuPCK3+zMczM9EgITQICA0CQoOA0CAgNAgIDQJCg4DQICA0COxiBcuKDssy7stle3gXTDQICA0CQoOA0CAgNAgIDQJCg4DQICA0CAgNAsNWsI68TsP2Znu/TDQICA0CQoOA0CAgNAgIDQJCg4DQICA0CAgNAkKDgNAgIDQICA0CQoOA0CAgNAgIDQJCg4DQICA0CAgNAkKDgNAgIDQICA0CQoOA0CAgNAgIDQJCg4DQICA0CAgNAkKDgNAgIDQICA0CQoOA0CAgNAgIDQJCg4DQICA0CAgNAkKDgNAgIDQICA0CQoOA0CAgNAgIDQJCg4DQICA0CAgNAkKDgNAgIDQICA0CQoOA0CAgNAgIDQJCg4DQICA0CAgNAkKDgNAgIDQICA0CQoOA0CAgNAgIDQJCg4DQICA0CAgNAkKDgNAgIDQICA0CQoOA0CAgNAgIDQJCg4DQICA0CAgNAkKDgNAgIDQIrNf1/tr6EI/v58eveTtfPn5NxhrxHizLPt4FEw0CQoOA0CAgNAgIDQJCg4DQICA0CAgNAkKDgNAgIDQICA0CQoOA0CAgNAgIDQJCg4DQICA0COzi4zzv8CGf+XhmJhokhAYBoUFAaBAQGgSEBgGhQUBoEBAaBIQGgelWsP5q1L+2Rhm1UjTTfZhtreodJhoEhAYBoUFAaBAQGgSEBgGhQUBoEBAaBIQGgcOuYO3BTOtPy3LsFaitmWgQEBoEhAYBoUFAaBAQGgSEBgGhQUBoEBAaBE5bH+DIrDTxy0SDgNAgIDQICA0CQoOA0CAgNAgIDQJCg4DQIPAD0CFBc7XO+m8AAAAASUVORK5CYII=\" y=\"-6.64\"/>\n   </g>\n   <g id=\"matplotlib.axis_1\">\n    <g id=\"xtick_1\">\n     <g id=\"line2d_1\">\n      <defs>\n       <path d=\"M 0 0 \nL 0 3.5 \n\" id=\"mcbcd1d60ef\" style=\"stroke:#000000;stroke-width:0.8;\"/>\n      </defs>\n      <g>\n       <use style=\"stroke:#000000;stroke-width:0.8;\" x=\"41.901625\" xlink:href=\"#mcbcd1d60ef\" y=\"224.64\"/>\n      </g>\n     </g>\n     <g id=\"text_1\">\n      <!-- 0 -->\n      <defs>\n       <path d=\"M 31.78125 66.40625 \nQ 24.171875 66.40625 20.328125 58.90625 \nQ 16.5 51.421875 16.5 36.375 \nQ 16.5 21.390625 20.328125 13.890625 \nQ 24.171875 6.390625 31.78125 6.390625 \nQ 39.453125 6.390625 43.28125 13.890625 \nQ 47.125 21.390625 47.125 36.375 \nQ 47.125 51.421875 43.28125 58.90625 \nQ 39.453125 66.40625 31.78125 66.40625 \nz\nM 31.78125 74.21875 \nQ 44.046875 74.21875 50.515625 64.515625 \nQ 56.984375 54.828125 56.984375 36.375 \nQ 56.984375 17.96875 50.515625 8.265625 \nQ 44.046875 -1.421875 31.78125 -1.421875 \nQ 19.53125 -1.421875 13.0625 8.265625 \nQ 6.59375 17.96875 6.59375 36.375 \nQ 6.59375 54.828125 13.0625 64.515625 \nQ 19.53125 74.21875 31.78125 74.21875 \nz\n\" id=\"DejaVuSans-48\"/>\n      </defs>\n      <g transform=\"translate(38.720375 239.238438)scale(0.1 -0.1)\">\n       <use xlink:href=\"#DejaVuSans-48\"/>\n      </g>\n     </g>\n    </g>\n    <g id=\"xtick_2\">\n     <g id=\"line2d_2\">\n      <g>\n       <use style=\"stroke:#000000;stroke-width:0.8;\" x=\"96.261625\" xlink:href=\"#mcbcd1d60ef\" y=\"224.64\"/>\n      </g>\n     </g>\n     <g id=\"text_2\">\n      <!-- 5 -->\n      <defs>\n       <path d=\"M 10.796875 72.90625 \nL 49.515625 72.90625 \nL 49.515625 64.59375 \nL 19.828125 64.59375 \nL 19.828125 46.734375 \nQ 21.96875 47.46875 24.109375 47.828125 \nQ 26.265625 48.1875 28.421875 48.1875 \nQ 40.625 48.1875 47.75 41.5 \nQ 54.890625 34.8125 54.890625 23.390625 \nQ 54.890625 11.625 47.5625 5.09375 \nQ 40.234375 -1.421875 26.90625 -1.421875 \nQ 22.3125 -1.421875 17.546875 -0.640625 \nQ 12.796875 0.140625 7.71875 1.703125 \nL 7.71875 11.625 \nQ 12.109375 9.234375 16.796875 8.0625 \nQ 21.484375 6.890625 26.703125 6.890625 \nQ 35.15625 6.890625 40.078125 11.328125 \nQ 45.015625 15.765625 45.015625 23.390625 \nQ 45.015625 31 40.078125 35.4375 \nQ 35.15625 39.890625 26.703125 39.890625 \nQ 22.75 39.890625 18.8125 39.015625 \nQ 14.890625 38.140625 10.796875 36.28125 \nz\n\" id=\"DejaVuSans-53\"/>\n      </defs>\n      <g transform=\"translate(93.080375 239.238438)scale(0.1 -0.1)\">\n       <use xlink:href=\"#DejaVuSans-53\"/>\n      </g>\n     </g>\n    </g>\n    <g id=\"xtick_3\">\n     <g id=\"line2d_3\">\n      <g>\n       <use style=\"stroke:#000000;stroke-width:0.8;\" x=\"150.621625\" xlink:href=\"#mcbcd1d60ef\" y=\"224.64\"/>\n      </g>\n     </g>\n     <g id=\"text_3\">\n      <!-- 10 -->\n      <defs>\n       <path d=\"M 12.40625 8.296875 \nL 28.515625 8.296875 \nL 28.515625 63.921875 \nL 10.984375 60.40625 \nL 10.984375 69.390625 \nL 28.421875 72.90625 \nL 38.28125 72.90625 \nL 38.28125 8.296875 \nL 54.390625 8.296875 \nL 54.390625 0 \nL 12.40625 0 \nz\n\" id=\"DejaVuSans-49\"/>\n      </defs>\n      <g transform=\"translate(144.259125 239.238438)scale(0.1 -0.1)\">\n       <use xlink:href=\"#DejaVuSans-49\"/>\n       <use x=\"63.623047\" xlink:href=\"#DejaVuSans-48\"/>\n      </g>\n     </g>\n    </g>\n    <g id=\"xtick_4\">\n     <g id=\"line2d_4\">\n      <g>\n       <use style=\"stroke:#000000;stroke-width:0.8;\" x=\"204.981625\" xlink:href=\"#mcbcd1d60ef\" y=\"224.64\"/>\n      </g>\n     </g>\n     <g id=\"text_4\">\n      <!-- 15 -->\n      <g transform=\"translate(198.619125 239.238438)scale(0.1 -0.1)\">\n       <use xlink:href=\"#DejaVuSans-49\"/>\n       <use x=\"63.623047\" xlink:href=\"#DejaVuSans-53\"/>\n      </g>\n     </g>\n    </g>\n   </g>\n   <g id=\"matplotlib.axis_2\">\n    <g id=\"ytick_1\">\n     <g id=\"line2d_5\">\n      <defs>\n       <path d=\"M 0 0 \nL -3.5 0 \n\" id=\"mddd01d2281\" style=\"stroke:#000000;stroke-width:0.8;\"/>\n      </defs>\n      <g>\n       <use style=\"stroke:#000000;stroke-width:0.8;\" x=\"36.465625\" xlink:href=\"#mddd01d2281\" y=\"12.636\"/>\n      </g>\n     </g>\n     <g id=\"text_5\">\n      <!-- 0.0 -->\n      <defs>\n       <path d=\"M 10.6875 12.40625 \nL 21 12.40625 \nL 21 0 \nL 10.6875 0 \nz\n\" id=\"DejaVuSans-46\"/>\n      </defs>\n      <g transform=\"translate(13.5625 16.435219)scale(0.1 -0.1)\">\n       <use xlink:href=\"#DejaVuSans-48\"/>\n       <use x=\"63.623047\" xlink:href=\"#DejaVuSans-46\"/>\n       <use x=\"95.410156\" xlink:href=\"#DejaVuSans-48\"/>\n      </g>\n     </g>\n    </g>\n    <g id=\"ytick_2\">\n     <g id=\"line2d_6\">\n      <g>\n       <use style=\"stroke:#000000;stroke-width:0.8;\" x=\"36.465625\" xlink:href=\"#mddd01d2281\" y=\"39.816\"/>\n      </g>\n     </g>\n     <g id=\"text_6\">\n      <!-- 2.5 -->\n      <defs>\n       <path d=\"M 19.1875 8.296875 \nL 53.609375 8.296875 \nL 53.609375 0 \nL 7.328125 0 \nL 7.328125 8.296875 \nQ 12.9375 14.109375 22.625 23.890625 \nQ 32.328125 33.6875 34.8125 36.53125 \nQ 39.546875 41.84375 41.421875 45.53125 \nQ 43.3125 49.21875 43.3125 52.78125 \nQ 43.3125 58.59375 39.234375 62.25 \nQ 35.15625 65.921875 28.609375 65.921875 \nQ 23.96875 65.921875 18.8125 64.3125 \nQ 13.671875 62.703125 7.8125 59.421875 \nL 7.8125 69.390625 \nQ 13.765625 71.78125 18.9375 73 \nQ 24.125 74.21875 28.421875 74.21875 \nQ 39.75 74.21875 46.484375 68.546875 \nQ 53.21875 62.890625 53.21875 53.421875 \nQ 53.21875 48.921875 51.53125 44.890625 \nQ 49.859375 40.875 45.40625 35.40625 \nQ 44.1875 33.984375 37.640625 27.21875 \nQ 31.109375 20.453125 19.1875 8.296875 \nz\n\" id=\"DejaVuSans-50\"/>\n      </defs>\n      <g transform=\"translate(13.5625 43.615219)scale(0.1 -0.1)\">\n       <use xlink:href=\"#DejaVuSans-50\"/>\n       <use x=\"63.623047\" xlink:href=\"#DejaVuSans-46\"/>\n       <use x=\"95.410156\" xlink:href=\"#DejaVuSans-53\"/>\n      </g>\n     </g>\n    </g>\n    <g id=\"ytick_3\">\n     <g id=\"line2d_7\">\n      <g>\n       <use style=\"stroke:#000000;stroke-width:0.8;\" x=\"36.465625\" xlink:href=\"#mddd01d2281\" y=\"66.996\"/>\n      </g>\n     </g>\n     <g id=\"text_7\">\n      <!-- 5.0 -->\n      <g transform=\"translate(13.5625 70.795219)scale(0.1 -0.1)\">\n       <use xlink:href=\"#DejaVuSans-53\"/>\n       <use x=\"63.623047\" xlink:href=\"#DejaVuSans-46\"/>\n       <use x=\"95.410156\" xlink:href=\"#DejaVuSans-48\"/>\n      </g>\n     </g>\n    </g>\n    <g id=\"ytick_4\">\n     <g id=\"line2d_8\">\n      <g>\n       <use style=\"stroke:#000000;stroke-width:0.8;\" x=\"36.465625\" xlink:href=\"#mddd01d2281\" y=\"94.176\"/>\n      </g>\n     </g>\n     <g id=\"text_8\">\n      <!-- 7.5 -->\n      <defs>\n       <path d=\"M 8.203125 72.90625 \nL 55.078125 72.90625 \nL 55.078125 68.703125 \nL 28.609375 0 \nL 18.3125 0 \nL 43.21875 64.59375 \nL 8.203125 64.59375 \nz\n\" id=\"DejaVuSans-55\"/>\n      </defs>\n      <g transform=\"translate(13.5625 97.975219)scale(0.1 -0.1)\">\n       <use xlink:href=\"#DejaVuSans-55\"/>\n       <use x=\"63.623047\" xlink:href=\"#DejaVuSans-46\"/>\n       <use x=\"95.410156\" xlink:href=\"#DejaVuSans-53\"/>\n      </g>\n     </g>\n    </g>\n    <g id=\"ytick_5\">\n     <g id=\"line2d_9\">\n      <g>\n       <use style=\"stroke:#000000;stroke-width:0.8;\" x=\"36.465625\" xlink:href=\"#mddd01d2281\" y=\"121.356\"/>\n      </g>\n     </g>\n     <g id=\"text_9\">\n      <!-- 10.0 -->\n      <g transform=\"translate(7.2 125.155219)scale(0.1 -0.1)\">\n       <use xlink:href=\"#DejaVuSans-49\"/>\n       <use x=\"63.623047\" xlink:href=\"#DejaVuSans-48\"/>\n       <use x=\"127.246094\" xlink:href=\"#DejaVuSans-46\"/>\n       <use x=\"159.033203\" xlink:href=\"#DejaVuSans-48\"/>\n      </g>\n     </g>\n    </g>\n    <g id=\"ytick_6\">\n     <g id=\"line2d_10\">\n      <g>\n       <use style=\"stroke:#000000;stroke-width:0.8;\" x=\"36.465625\" xlink:href=\"#mddd01d2281\" y=\"148.536\"/>\n      </g>\n     </g>\n     <g id=\"text_10\">\n      <!-- 12.5 -->\n      <g transform=\"translate(7.2 152.335219)scale(0.1 -0.1)\">\n       <use xlink:href=\"#DejaVuSans-49\"/>\n       <use x=\"63.623047\" xlink:href=\"#DejaVuSans-50\"/>\n       <use x=\"127.246094\" xlink:href=\"#DejaVuSans-46\"/>\n       <use x=\"159.033203\" xlink:href=\"#DejaVuSans-53\"/>\n      </g>\n     </g>\n    </g>\n    <g id=\"ytick_7\">\n     <g id=\"line2d_11\">\n      <g>\n       <use style=\"stroke:#000000;stroke-width:0.8;\" x=\"36.465625\" xlink:href=\"#mddd01d2281\" y=\"175.716\"/>\n      </g>\n     </g>\n     <g id=\"text_11\">\n      <!-- 15.0 -->\n      <g transform=\"translate(7.2 179.515219)scale(0.1 -0.1)\">\n       <use xlink:href=\"#DejaVuSans-49\"/>\n       <use x=\"63.623047\" xlink:href=\"#DejaVuSans-53\"/>\n       <use x=\"127.246094\" xlink:href=\"#DejaVuSans-46\"/>\n       <use x=\"159.033203\" xlink:href=\"#DejaVuSans-48\"/>\n      </g>\n     </g>\n    </g>\n    <g id=\"ytick_8\">\n     <g id=\"line2d_12\">\n      <g>\n       <use style=\"stroke:#000000;stroke-width:0.8;\" x=\"36.465625\" xlink:href=\"#mddd01d2281\" y=\"202.896\"/>\n      </g>\n     </g>\n     <g id=\"text_12\">\n      <!-- 17.5 -->\n      <g transform=\"translate(7.2 206.695219)scale(0.1 -0.1)\">\n       <use xlink:href=\"#DejaVuSans-49\"/>\n       <use x=\"63.623047\" xlink:href=\"#DejaVuSans-55\"/>\n       <use x=\"127.246094\" xlink:href=\"#DejaVuSans-46\"/>\n       <use x=\"159.033203\" xlink:href=\"#DejaVuSans-53\"/>\n      </g>\n     </g>\n    </g>\n   </g>\n   <g id=\"patch_3\">\n    <path d=\"M 36.465625 224.64 \nL 36.465625 7.2 \n\" style=\"fill:none;stroke:#000000;stroke-linecap:square;stroke-linejoin:miter;stroke-width:0.8;\"/>\n   </g>\n   <g id=\"patch_4\">\n    <path d=\"M 253.905625 224.64 \nL 253.905625 7.2 \n\" style=\"fill:none;stroke:#000000;stroke-linecap:square;stroke-linejoin:miter;stroke-width:0.8;\"/>\n   </g>\n   <g id=\"patch_5\">\n    <path d=\"M 36.465625 224.64 \nL 253.905625 224.64 \n\" style=\"fill:none;stroke:#000000;stroke-linecap:square;stroke-linejoin:miter;stroke-width:0.8;\"/>\n   </g>\n   <g id=\"patch_6\">\n    <path d=\"M 36.465625 7.2 \nL 253.905625 7.2 \n\" style=\"fill:none;stroke:#000000;stroke-linecap:square;stroke-linejoin:miter;stroke-width:0.8;\"/>\n   </g>\n  </g>\n </g>\n <defs>\n  <clipPath id=\"pea37f89721\">\n   <rect height=\"217.44\" width=\"217.44\" x=\"36.465625\" y=\"7.2\"/>\n  </clipPath>\n </defs>\n</svg>\n",
      "image/png": "[encoded data removed]"
     },
     "metadata": {
      "needs_background": "light"
     }
    }
   ],
   "source": [
    "c_test = cv.resize(character_splited[0], (20,20))\n",
    "ret, test_binary = cv.threshold(c_test,127,255,cv.THRESH_BINARY_INV) #反二进制阈值化\n",
    "test_binary = test_binary.reshape(400,)\n",
    "# plt.imshow(test_binary.reshape(20,20))"
   ]
  },
  {
   "cell_type": "code",
   "execution_count": 373,
   "metadata": {},
   "outputs": [
    {
     "output_type": "stream",
     "name": "stdout",
     "text": "Binary image generated!\nthreshold:127.0\n"
    },
    {
     "output_type": "execute_result",
     "data": {
      "text/plain": "'0845'"
     },
     "metadata": {},
     "execution_count": 373
    }
   ],
   "source": [
    "def captcha_recognization(captcha_path, X_train, y_train, captcha_len=4, k=3):\n",
    "    '''\n",
    "    本函数用于识别传入的验证码，目前只写了识别4位的，后期可以改识别n位\n",
    "    X_train: 验证码单个字符的特征训练集\n",
    "    y_train: 验证码单个字符的标签训练集\n",
    "    '''\n",
    "    character_splited = captcha_char_detach(captcha_path, captcha_len=captcha_len) # 返回灰度图\n",
    "    binary_chars = [] # 存储二值化后的单个字符\n",
    "    for character in character_splited:\n",
    "        character = cv.resize(character, (20,20)) # 先归一成20x20大小\n",
    "        ret, char_binary = cv.threshold(character,127,255,cv.THRESH_BINARY_INV) # 再反二进制阈值化，生成二值图\n",
    "        binary_chars.append( char_binary.reshape(400,) )# 然后变成一维数组，这三步顺序不能有错\n",
    "    return ''.join(RG_kNN_classifier(X_train, y_train, binary_chars, k=k)[0])\n",
    "\n",
    "captcha_recognization(captcha_paths[9], X_train, y_train, captcha_len=4, k=3)"
   ]
  },
  {
   "cell_type": "code",
   "execution_count": 374,
   "metadata": {},
   "outputs": [
    {
     "output_type": "execute_result",
     "data": {
      "text/plain": "<matplotlib.image.AxesImage at 0x13d05c9d0>"
     },
     "metadata": {},
     "execution_count": 374
    },
    {
     "output_type": "display_data",
     "data": {
      "text/plain": "<Figure size 432x288 with 1 Axes>",
      "image/svg+xml": "<?xml version=\"1.0\" encoding=\"utf-8\" standalone=\"no\"?>\n<!DOCTYPE svg PUBLIC \"-//W3C//DTD SVG 1.1//EN\"\n  \"http://www.w3.org/Graphics/SVG/1.1/DTD/svg11.dtd\">\n<!-- Created with matplotlib (https://matplotlib.org/) -->\n<svg height=\"167.681344pt\" version=\"1.1\" viewBox=\"0 0 368.925 167.681344\" width=\"368.925pt\" xmlns=\"http://www.w3.org/2000/svg\" xmlns:xlink=\"http://www.w3.org/1999/xlink\">\n <defs>\n  <style type=\"text/css\">\n*{stroke-linecap:butt;stroke-linejoin:round;}\n  </style>\n </defs>\n <g id=\"figure_1\">\n  <g id=\"patch_1\">\n   <path d=\"M -0 167.681344 \nL 368.925 167.681344 \nL 368.925 0 \nL -0 0 \nz\n\" style=\"fill:none;\"/>\n  </g>\n  <g id=\"axes_1\">\n   <g id=\"patch_2\">\n    <path d=\"M 26.925 143.803219 \nL 361.725 143.803219 \nL 361.725 9.883219 \nL 26.925 9.883219 \nz\n\" style=\"fill:#ffffff;\"/>\n   </g>\n   <g clip-path=\"url(#p1fe5e98651)\">\n    <image height=\"134\" id=\"image0a07da635e\" transform=\"scale(1 -1)translate(0 -134)\" width=\"335\" x=\"26.925\" xlink:href=\"data:image/png;base64,\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\" y=\"-9.803219\"/>\n   </g>\n   <g id=\"matplotlib.axis_1\">\n    <g id=\"xtick_1\">\n     <g id=\"line2d_1\">\n      <defs>\n       <path d=\"M 0 0 \nL 0 3.5 \n\" id=\"m9adb321075\" style=\"stroke:#000000;stroke-width:0.8;\"/>\n      </defs>\n      <g>\n       <use style=\"stroke:#000000;stroke-width:0.8;\" x=\"28.041\" xlink:href=\"#m9adb321075\" y=\"143.803219\"/>\n      </g>\n     </g>\n     <g id=\"text_1\">\n      <!-- 0 -->\n      <defs>\n       <path d=\"M 31.78125 66.40625 \nQ 24.171875 66.40625 20.328125 58.90625 \nQ 16.5 51.421875 16.5 36.375 \nQ 16.5 21.390625 20.328125 13.890625 \nQ 24.171875 6.390625 31.78125 6.390625 \nQ 39.453125 6.390625 43.28125 13.890625 \nQ 47.125 21.390625 47.125 36.375 \nQ 47.125 51.421875 43.28125 58.90625 \nQ 39.453125 66.40625 31.78125 66.40625 \nz\nM 31.78125 74.21875 \nQ 44.046875 74.21875 50.515625 64.515625 \nQ 56.984375 54.828125 56.984375 36.375 \nQ 56.984375 17.96875 50.515625 8.265625 \nQ 44.046875 -1.421875 31.78125 -1.421875 \nQ 19.53125 -1.421875 13.0625 8.265625 \nQ 6.59375 17.96875 6.59375 36.375 \nQ 6.59375 54.828125 13.0625 64.515625 \nQ 19.53125 74.21875 31.78125 74.21875 \nz\n\" id=\"DejaVuSans-48\"/>\n      </defs>\n      <g transform=\"translate(24.85975 158.401656)scale(0.1 -0.1)\">\n       <use xlink:href=\"#DejaVuSans-48\"/>\n      </g>\n     </g>\n    </g>\n    <g id=\"xtick_2\">\n     <g id=\"line2d_2\">\n      <g>\n       <use style=\"stroke:#000000;stroke-width:0.8;\" x=\"72.681\" xlink:href=\"#m9adb321075\" y=\"143.803219\"/>\n      </g>\n     </g>\n     <g id=\"text_2\">\n      <!-- 20 -->\n      <defs>\n       <path d=\"M 19.1875 8.296875 \nL 53.609375 8.296875 \nL 53.609375 0 \nL 7.328125 0 \nL 7.328125 8.296875 \nQ 12.9375 14.109375 22.625 23.890625 \nQ 32.328125 33.6875 34.8125 36.53125 \nQ 39.546875 41.84375 41.421875 45.53125 \nQ 43.3125 49.21875 43.3125 52.78125 \nQ 43.3125 58.59375 39.234375 62.25 \nQ 35.15625 65.921875 28.609375 65.921875 \nQ 23.96875 65.921875 18.8125 64.3125 \nQ 13.671875 62.703125 7.8125 59.421875 \nL 7.8125 69.390625 \nQ 13.765625 71.78125 18.9375 73 \nQ 24.125 74.21875 28.421875 74.21875 \nQ 39.75 74.21875 46.484375 68.546875 \nQ 53.21875 62.890625 53.21875 53.421875 \nQ 53.21875 48.921875 51.53125 44.890625 \nQ 49.859375 40.875 45.40625 35.40625 \nQ 44.1875 33.984375 37.640625 27.21875 \nQ 31.109375 20.453125 19.1875 8.296875 \nz\n\" id=\"DejaVuSans-50\"/>\n      </defs>\n      <g transform=\"translate(66.3185 158.401656)scale(0.1 -0.1)\">\n       <use xlink:href=\"#DejaVuSans-50\"/>\n       <use x=\"63.623047\" xlink:href=\"#DejaVuSans-48\"/>\n      </g>\n     </g>\n    </g>\n    <g id=\"xtick_3\">\n     <g id=\"line2d_3\">\n      <g>\n       <use style=\"stroke:#000000;stroke-width:0.8;\" x=\"117.321\" xlink:href=\"#m9adb321075\" y=\"143.803219\"/>\n      </g>\n     </g>\n     <g id=\"text_3\">\n      <!-- 40 -->\n      <defs>\n       <path d=\"M 37.796875 64.3125 \nL 12.890625 25.390625 \nL 37.796875 25.390625 \nz\nM 35.203125 72.90625 \nL 47.609375 72.90625 \nL 47.609375 25.390625 \nL 58.015625 25.390625 \nL 58.015625 17.1875 \nL 47.609375 17.1875 \nL 47.609375 0 \nL 37.796875 0 \nL 37.796875 17.1875 \nL 4.890625 17.1875 \nL 4.890625 26.703125 \nz\n\" id=\"DejaVuSans-52\"/>\n      </defs>\n      <g transform=\"translate(110.9585 158.401656)scale(0.1 -0.1)\">\n       <use xlink:href=\"#DejaVuSans-52\"/>\n       <use x=\"63.623047\" xlink:href=\"#DejaVuSans-48\"/>\n      </g>\n     </g>\n    </g>\n    <g id=\"xtick_4\">\n     <g id=\"line2d_4\">\n      <g>\n       <use style=\"stroke:#000000;stroke-width:0.8;\" x=\"161.961\" xlink:href=\"#m9adb321075\" y=\"143.803219\"/>\n      </g>\n     </g>\n     <g id=\"text_4\">\n      <!-- 60 -->\n      <defs>\n       <path d=\"M 33.015625 40.375 \nQ 26.375 40.375 22.484375 35.828125 \nQ 18.609375 31.296875 18.609375 23.390625 \nQ 18.609375 15.53125 22.484375 10.953125 \nQ 26.375 6.390625 33.015625 6.390625 \nQ 39.65625 6.390625 43.53125 10.953125 \nQ 47.40625 15.53125 47.40625 23.390625 \nQ 47.40625 31.296875 43.53125 35.828125 \nQ 39.65625 40.375 33.015625 40.375 \nz\nM 52.59375 71.296875 \nL 52.59375 62.3125 \nQ 48.875 64.0625 45.09375 64.984375 \nQ 41.3125 65.921875 37.59375 65.921875 \nQ 27.828125 65.921875 22.671875 59.328125 \nQ 17.53125 52.734375 16.796875 39.40625 \nQ 19.671875 43.65625 24.015625 45.921875 \nQ 28.375 48.1875 33.59375 48.1875 \nQ 44.578125 48.1875 50.953125 41.515625 \nQ 57.328125 34.859375 57.328125 23.390625 \nQ 57.328125 12.15625 50.6875 5.359375 \nQ 44.046875 -1.421875 33.015625 -1.421875 \nQ 20.359375 -1.421875 13.671875 8.265625 \nQ 6.984375 17.96875 6.984375 36.375 \nQ 6.984375 53.65625 15.1875 63.9375 \nQ 23.390625 74.21875 37.203125 74.21875 \nQ 40.921875 74.21875 44.703125 73.484375 \nQ 48.484375 72.75 52.59375 71.296875 \nz\n\" id=\"DejaVuSans-54\"/>\n      </defs>\n      <g transform=\"translate(155.5985 158.401656)scale(0.1 -0.1)\">\n       <use xlink:href=\"#DejaVuSans-54\"/>\n       <use x=\"63.623047\" xlink:href=\"#DejaVuSans-48\"/>\n      </g>\n     </g>\n    </g>\n    <g id=\"xtick_5\">\n     <g id=\"line2d_5\">\n      <g>\n       <use style=\"stroke:#000000;stroke-width:0.8;\" x=\"206.601\" xlink:href=\"#m9adb321075\" y=\"143.803219\"/>\n      </g>\n     </g>\n     <g id=\"text_5\">\n      <!-- 80 -->\n      <defs>\n       <path d=\"M 31.78125 34.625 \nQ 24.75 34.625 20.71875 30.859375 \nQ 16.703125 27.09375 16.703125 20.515625 \nQ 16.703125 13.921875 20.71875 10.15625 \nQ 24.75 6.390625 31.78125 6.390625 \nQ 38.8125 6.390625 42.859375 10.171875 \nQ 46.921875 13.96875 46.921875 20.515625 \nQ 46.921875 27.09375 42.890625 30.859375 \nQ 38.875 34.625 31.78125 34.625 \nz\nM 21.921875 38.8125 \nQ 15.578125 40.375 12.03125 44.71875 \nQ 8.5 49.078125 8.5 55.328125 \nQ 8.5 64.0625 14.71875 69.140625 \nQ 20.953125 74.21875 31.78125 74.21875 \nQ 42.671875 74.21875 48.875 69.140625 \nQ 55.078125 64.0625 55.078125 55.328125 \nQ 55.078125 49.078125 51.53125 44.71875 \nQ 48 40.375 41.703125 38.8125 \nQ 48.828125 37.15625 52.796875 32.3125 \nQ 56.78125 27.484375 56.78125 20.515625 \nQ 56.78125 9.90625 50.3125 4.234375 \nQ 43.84375 -1.421875 31.78125 -1.421875 \nQ 19.734375 -1.421875 13.25 4.234375 \nQ 6.78125 9.90625 6.78125 20.515625 \nQ 6.78125 27.484375 10.78125 32.3125 \nQ 14.796875 37.15625 21.921875 38.8125 \nz\nM 18.3125 54.390625 \nQ 18.3125 48.734375 21.84375 45.5625 \nQ 25.390625 42.390625 31.78125 42.390625 \nQ 38.140625 42.390625 41.71875 45.5625 \nQ 45.3125 48.734375 45.3125 54.390625 \nQ 45.3125 60.0625 41.71875 63.234375 \nQ 38.140625 66.40625 31.78125 66.40625 \nQ 25.390625 66.40625 21.84375 63.234375 \nQ 18.3125 60.0625 18.3125 54.390625 \nz\n\" id=\"DejaVuSans-56\"/>\n      </defs>\n      <g transform=\"translate(200.2385 158.401656)scale(0.1 -0.1)\">\n       <use xlink:href=\"#DejaVuSans-56\"/>\n       <use x=\"63.623047\" xlink:href=\"#DejaVuSans-48\"/>\n      </g>\n     </g>\n    </g>\n    <g id=\"xtick_6\">\n     <g id=\"line2d_6\">\n      <g>\n       <use style=\"stroke:#000000;stroke-width:0.8;\" x=\"251.241\" xlink:href=\"#m9adb321075\" y=\"143.803219\"/>\n      </g>\n     </g>\n     <g id=\"text_6\">\n      <!-- 100 -->\n      <defs>\n       <path d=\"M 12.40625 8.296875 \nL 28.515625 8.296875 \nL 28.515625 63.921875 \nL 10.984375 60.40625 \nL 10.984375 69.390625 \nL 28.421875 72.90625 \nL 38.28125 72.90625 \nL 38.28125 8.296875 \nL 54.390625 8.296875 \nL 54.390625 0 \nL 12.40625 0 \nz\n\" id=\"DejaVuSans-49\"/>\n      </defs>\n      <g transform=\"translate(241.69725 158.401656)scale(0.1 -0.1)\">\n       <use xlink:href=\"#DejaVuSans-49\"/>\n       <use x=\"63.623047\" xlink:href=\"#DejaVuSans-48\"/>\n       <use x=\"127.246094\" xlink:href=\"#DejaVuSans-48\"/>\n      </g>\n     </g>\n    </g>\n    <g id=\"xtick_7\">\n     <g id=\"line2d_7\">\n      <g>\n       <use style=\"stroke:#000000;stroke-width:0.8;\" x=\"295.881\" xlink:href=\"#m9adb321075\" y=\"143.803219\"/>\n      </g>\n     </g>\n     <g id=\"text_7\">\n      <!-- 120 -->\n      <g transform=\"translate(286.33725 158.401656)scale(0.1 -0.1)\">\n       <use xlink:href=\"#DejaVuSans-49\"/>\n       <use x=\"63.623047\" xlink:href=\"#DejaVuSans-50\"/>\n       <use x=\"127.246094\" xlink:href=\"#DejaVuSans-48\"/>\n      </g>\n     </g>\n    </g>\n    <g id=\"xtick_8\">\n     <g id=\"line2d_8\">\n      <g>\n       <use style=\"stroke:#000000;stroke-width:0.8;\" x=\"340.521\" xlink:href=\"#m9adb321075\" y=\"143.803219\"/>\n      </g>\n     </g>\n     <g id=\"text_8\">\n      <!-- 140 -->\n      <g transform=\"translate(330.97725 158.401656)scale(0.1 -0.1)\">\n       <use xlink:href=\"#DejaVuSans-49\"/>\n       <use x=\"63.623047\" xlink:href=\"#DejaVuSans-52\"/>\n       <use x=\"127.246094\" xlink:href=\"#DejaVuSans-48\"/>\n      </g>\n     </g>\n    </g>\n   </g>\n   <g id=\"matplotlib.axis_2\">\n    <g id=\"ytick_1\">\n     <g id=\"line2d_9\">\n      <defs>\n       <path d=\"M 0 0 \nL -3.5 0 \n\" id=\"m17a8b5abe9\" style=\"stroke:#000000;stroke-width:0.8;\"/>\n      </defs>\n      <g>\n       <use style=\"stroke:#000000;stroke-width:0.8;\" x=\"26.925\" xlink:href=\"#m17a8b5abe9\" y=\"10.999219\"/>\n      </g>\n     </g>\n     <g id=\"text_9\">\n      <!-- 0 -->\n      <g transform=\"translate(13.5625 14.798437)scale(0.1 -0.1)\">\n       <use xlink:href=\"#DejaVuSans-48\"/>\n      </g>\n     </g>\n    </g>\n    <g id=\"ytick_2\">\n     <g id=\"line2d_10\">\n      <g>\n       <use style=\"stroke:#000000;stroke-width:0.8;\" x=\"26.925\" xlink:href=\"#m17a8b5abe9\" y=\"33.319219\"/>\n      </g>\n     </g>\n     <g id=\"text_10\">\n      <!-- 10 -->\n      <g transform=\"translate(7.2 37.118437)scale(0.1 -0.1)\">\n       <use xlink:href=\"#DejaVuSans-49\"/>\n       <use x=\"63.623047\" xlink:href=\"#DejaVuSans-48\"/>\n      </g>\n     </g>\n    </g>\n    <g id=\"ytick_3\">\n     <g id=\"line2d_11\">\n      <g>\n       <use style=\"stroke:#000000;stroke-width:0.8;\" x=\"26.925\" xlink:href=\"#m17a8b5abe9\" y=\"55.639219\"/>\n      </g>\n     </g>\n     <g id=\"text_11\">\n      <!-- 20 -->\n      <g transform=\"translate(7.2 59.438437)scale(0.1 -0.1)\">\n       <use xlink:href=\"#DejaVuSans-50\"/>\n       <use x=\"63.623047\" xlink:href=\"#DejaVuSans-48\"/>\n      </g>\n     </g>\n    </g>\n    <g id=\"ytick_4\">\n     <g id=\"line2d_12\">\n      <g>\n       <use style=\"stroke:#000000;stroke-width:0.8;\" x=\"26.925\" xlink:href=\"#m17a8b5abe9\" y=\"77.959219\"/>\n      </g>\n     </g>\n     <g id=\"text_12\">\n      <!-- 30 -->\n      <defs>\n       <path d=\"M 40.578125 39.3125 \nQ 47.65625 37.796875 51.625 33 \nQ 55.609375 28.21875 55.609375 21.1875 \nQ 55.609375 10.40625 48.1875 4.484375 \nQ 40.765625 -1.421875 27.09375 -1.421875 \nQ 22.515625 -1.421875 17.65625 -0.515625 \nQ 12.796875 0.390625 7.625 2.203125 \nL 7.625 11.71875 \nQ 11.71875 9.328125 16.59375 8.109375 \nQ 21.484375 6.890625 26.8125 6.890625 \nQ 36.078125 6.890625 40.9375 10.546875 \nQ 45.796875 14.203125 45.796875 21.1875 \nQ 45.796875 27.640625 41.28125 31.265625 \nQ 36.765625 34.90625 28.71875 34.90625 \nL 20.21875 34.90625 \nL 20.21875 43.015625 \nL 29.109375 43.015625 \nQ 36.375 43.015625 40.234375 45.921875 \nQ 44.09375 48.828125 44.09375 54.296875 \nQ 44.09375 59.90625 40.109375 62.90625 \nQ 36.140625 65.921875 28.71875 65.921875 \nQ 24.65625 65.921875 20.015625 65.03125 \nQ 15.375 64.15625 9.8125 62.3125 \nL 9.8125 71.09375 \nQ 15.4375 72.65625 20.34375 73.4375 \nQ 25.25 74.21875 29.59375 74.21875 \nQ 40.828125 74.21875 47.359375 69.109375 \nQ 53.90625 64.015625 53.90625 55.328125 \nQ 53.90625 49.265625 50.4375 45.09375 \nQ 46.96875 40.921875 40.578125 39.3125 \nz\n\" id=\"DejaVuSans-51\"/>\n      </defs>\n      <g transform=\"translate(7.2 81.758437)scale(0.1 -0.1)\">\n       <use xlink:href=\"#DejaVuSans-51\"/>\n       <use x=\"63.623047\" xlink:href=\"#DejaVuSans-48\"/>\n      </g>\n     </g>\n    </g>\n    <g id=\"ytick_5\">\n     <g id=\"line2d_13\">\n      <g>\n       <use style=\"stroke:#000000;stroke-width:0.8;\" x=\"26.925\" xlink:href=\"#m17a8b5abe9\" y=\"100.279219\"/>\n      </g>\n     </g>\n     <g id=\"text_13\">\n      <!-- 40 -->\n      <g transform=\"translate(7.2 104.078438)scale(0.1 -0.1)\">\n       <use xlink:href=\"#DejaVuSans-52\"/>\n       <use x=\"63.623047\" xlink:href=\"#DejaVuSans-48\"/>\n      </g>\n     </g>\n    </g>\n    <g id=\"ytick_6\">\n     <g id=\"line2d_14\">\n      <g>\n       <use style=\"stroke:#000000;stroke-width:0.8;\" x=\"26.925\" xlink:href=\"#m17a8b5abe9\" y=\"122.599219\"/>\n      </g>\n     </g>\n     <g id=\"text_14\">\n      <!-- 50 -->\n      <defs>\n       <path d=\"M 10.796875 72.90625 \nL 49.515625 72.90625 \nL 49.515625 64.59375 \nL 19.828125 64.59375 \nL 19.828125 46.734375 \nQ 21.96875 47.46875 24.109375 47.828125 \nQ 26.265625 48.1875 28.421875 48.1875 \nQ 40.625 48.1875 47.75 41.5 \nQ 54.890625 34.8125 54.890625 23.390625 \nQ 54.890625 11.625 47.5625 5.09375 \nQ 40.234375 -1.421875 26.90625 -1.421875 \nQ 22.3125 -1.421875 17.546875 -0.640625 \nQ 12.796875 0.140625 7.71875 1.703125 \nL 7.71875 11.625 \nQ 12.109375 9.234375 16.796875 8.0625 \nQ 21.484375 6.890625 26.703125 6.890625 \nQ 35.15625 6.890625 40.078125 11.328125 \nQ 45.015625 15.765625 45.015625 23.390625 \nQ 45.015625 31 40.078125 35.4375 \nQ 35.15625 39.890625 26.703125 39.890625 \nQ 22.75 39.890625 18.8125 39.015625 \nQ 14.890625 38.140625 10.796875 36.28125 \nz\n\" id=\"DejaVuSans-53\"/>\n      </defs>\n      <g transform=\"translate(7.2 126.398438)scale(0.1 -0.1)\">\n       <use xlink:href=\"#DejaVuSans-53\"/>\n       <use x=\"63.623047\" xlink:href=\"#DejaVuSans-48\"/>\n      </g>\n     </g>\n    </g>\n   </g>\n   <g id=\"patch_3\">\n    <path d=\"M 26.925 143.803219 \nL 26.925 9.883219 \n\" style=\"fill:none;stroke:#000000;stroke-linecap:square;stroke-linejoin:miter;stroke-width:0.8;\"/>\n   </g>\n   <g id=\"patch_4\">\n    <path d=\"M 361.725 143.803219 \nL 361.725 9.883219 \n\" style=\"fill:none;stroke:#000000;stroke-linecap:square;stroke-linejoin:miter;stroke-width:0.8;\"/>\n   </g>\n   <g id=\"patch_5\">\n    <path d=\"M 26.925 143.803219 \nL 361.725 143.803219 \n\" style=\"fill:none;stroke:#000000;stroke-linecap:square;stroke-linejoin:miter;stroke-width:0.8;\"/>\n   </g>\n   <g id=\"patch_6\">\n    <path d=\"M 26.925 9.883219 \nL 361.725 9.883219 \n\" style=\"fill:none;stroke:#000000;stroke-linecap:square;stroke-linejoin:miter;stroke-width:0.8;\"/>\n   </g>\n  </g>\n </g>\n <defs>\n  <clipPath id=\"p1fe5e98651\">\n   <rect height=\"133.92\" width=\"334.8\" x=\"26.925\" y=\"9.883219\"/>\n  </clipPath>\n </defs>\n</svg>\n",
      "image/png": "[encoded data removed]"
     },
     "metadata": {
      "needs_background": "light"
     }
    }
   ],
   "source": [
    "img = cv.imread(captcha_paths[9])\n",
    "plt.imshow(img)"
   ]
  }
 ],
 "metadata": {
  "language_info": {
   "codemirror_mode": {
    "name": "ipython",
    "version": 3
   },
   "file_extension": ".py",
   "mimetype": "text/x-python",
   "name": "python",
   "nbconvert_exporter": "python",
   "pygments_lexer": "ipython3",
   "version": "3.7.5-final"
  },
  "orig_nbformat": 2,
  "kernelspec": {
   "name": "python37564bit7864ce697006450d81c3f54dae018d4c",
   "display_name": "Python 3.7.5 64-bit"
  }
 },
 "nbformat": 4,
 "nbformat_minor": 2
}