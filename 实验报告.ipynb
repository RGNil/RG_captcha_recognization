{
 "cells": [
  {
   "cell_type": "code",
   "execution_count": 8,
   "metadata": {},
   "outputs": [],
   "source": [
    "import os\n",
    "import numpy as np \n",
    "import pandas as pd \n",
    "from cv2 import cv2 as cv\n",
    "import matplotlib\n",
    "import matplotlib.pyplot as plt "
   ]
  },
  {
   "cell_type": "markdown",
   "metadata": {},
   "source": [
    "<center><font face=\"宋体\" size=15> 机器学习报告</font></center>\n",
    "<center> 17081519 沈鸿辉 </center>\n",
    "<center> 注：为了更好的显示数学公式、代码和代码运行结果，本报告由jupyter文件导出 </center>"
   ]
  },
  {
   "cell_type": "markdown",
   "metadata": {},
   "source": [
    "## 【实验项目】实验一：基于kNN的验证码识别"
   ]
  },
  {
   "cell_type": "markdown",
   "metadata": {},
   "source": [
    "## 【实验目的】\n",
    "+ 学习掌握kNN算法的数学原理\n",
    "+ 学习掌握python-opencv处理图像的基本方法\n",
    "+ 学习使用sklearn现有的kNN工具做模型预测\n",
    "+ 自己尝试实现基于kNN算法的分类器，实现模型预测"
   ]
  },
  {
   "cell_type": "markdown",
   "metadata": {},
   "source": [
    "## 【实验原理】"
   ]
  },
  {
   "cell_type": "markdown",
   "metadata": {},
   "source": [
    "### kNN算法原理\n",
    "kNN是通过测量不同特征值之间的距离进行分类。它的思路是：如果一个样本在特征空间中的k个最相似(即特征空间中最邻近)的样本中的大多数属于某一个类别，则该样本也属于这个类别，其中K通常是不大于20的整数。kNN算法中，所选择的邻居都是已经正确分类的对象。该方法在定类决策上只依据最邻近的一个或者几个样本的类别来决定待分样本所属的类别。K-近邻算法的具体流程如下：\n",
    "+ 首先，计算新样本与训练样本之间的距离，找到距离最近的K个邻居；\n",
    "+ 然后，根据这些邻居所属的类别来判定新样本的类别，如果它们都属于同一个类别，那么新样本也属于这个类；\n",
    "+ 否则，对每个候选类别进行评分，按照某种规则确定新样本的类别。\n",
    "在kNN中，通过计算对象间距离来作为各个对象之间的非相似性指标，避免了对象之间的匹配问题，在这里距离一般使用欧氏距离或曼哈顿距离：\n",
    "  - n维欧式距离公式：\n",
    "    $$\n",
    "    d(x, y):=\\sqrt{\\left(x_{1}-y_{1}\\right)^{2}+\\left(x_{2}-y_{2}\\right)^{2}+\\cdots+\\left(x_{n}-y_{n}\\right)^{2}}=\\sqrt{\\sum_{i=1}^{n}\\left(x_{i}-y_{i}\\right)^{2}}\n",
    "    $$\n",
    "  - 曼哈顿距离也称为城市街区距离(City Block distance)：   \n",
    "      两个n维向量 $\\vec{a}=\\left(x_{1}, x_{2}, \\cdots, x_{n}\\right)$ 和 $\\vec{b}=\\left(y_{1}, y_{2}, \\cdots, y_{n}\\right)$ 之间的曼哈顿距离：\n",
    "    $$\n",
    "    d(\\vec{a}, \\vec{b})=d(x, y)=\\sum_{i=1}^{n}\\left|x_{i}-y_{i}\\right|\n",
    "    $$\n",
    "+ 本项目采用欧式距离  \n",
    "+ [其他距离公式](https://blog.csdn.net/Kevin_cc98/article/details/73742037)"
   ]
  },
  {
   "cell_type": "markdown",
   "metadata": {},
   "source": [
    "### openCV轮廓识别函数的使用\n",
    "在图像处理中，我们经常需要检测具有相同颜色的像素团（blob）。 这些像素团周围的边界被称为轮廓 （contour）。 OpenCV有一个内置的findContours()函数，可以用来检测这些连续的区域。\n",
    "\n",
    "    findContours(image, mode, method, contours=None, hierarchy=None, offset=None)\n",
    "+ mode：轮廓的查找模式，一般使用cv2.RETR_TREE，表示提取所有的轮廓并建立轮廓间的层级。\n",
    "+ method：轮廓的近似方法。比如对于一条直线，我们可以存储该直线的所有像素点，也可以只存储起点和终点。使用cv2.CHAIN_APPROX_SIMPLE就表示用尽可能少的像素点表示轮廓。\n",
    "+ contours、hierarchy同时也为函数返回值，offset为偏移\n",
    "+ 参考：[C++ findContours函数参数详解](https://blog.csdn.net/dcrmg/article/details/51987348)"
   ]
  },
  {
   "cell_type": "markdown",
   "metadata": {},
   "source": [
    "## 【设计内容】\n",
    "主要的设计是下面的函数体，用于实现验证码训练集生成、验证码单字符分割、kNN分类器识别"
   ]
  },
  {
   "cell_type": "markdown",
   "metadata": {},
   "source": [
    "### 图像处理函数主体，生成指定格式的图像"
   ]
  },
  {
   "cell_type": "code",
   "execution_count": 9,
   "metadata": {},
   "outputs": [],
   "source": [
    "# 为了方便图片直接显示在jupyter中，cv的imshow不能直接在jupyter中显示\n",
    "# 为了用matplotlib显示（ 不能用plt.show()，要用plt.imshow() ）\n",
    "# 由于CV的通道是BGR顺序，而matpotlib是 RGB顺序，这里要做通道转换\n",
    "# 方法一\n",
    "def bgr2rgb_v2(img):\n",
    "    # 用cv自带的分割和合并函数\n",
    "    B,G,R = cv.split(img)\n",
    "    return cv.merge()\n",
    "# 方法二\n",
    "def bgr2rgb(img):\n",
    "    # 直接用python切片特性，[start: end: step], 这里start end为空，则默认遍历全部，step为-1则倒序遍历\n",
    "    return img[:, :, ::-1]"
   ]
  },
  {
   "cell_type": "code",
   "execution_count": 10,
   "metadata": {},
   "outputs": [],
   "source": [
    "def genNeedImg(img_path, img_type='binary', binary_therhold=127, \n",
    "               binary_revese=False, size=None, save=False, path='./'):\n",
    "    '''\n",
    "    用于生成指定大小的灰度图或二值图, img_path为图像路径\n",
    "    type为标志转换类型，默认为binary，可选的值为binary或gray\n",
    "    binary_therhold为二值图划分阈值，默认127（即大于127的像素设置为255，否则置0）\n",
    "    binary_revese默认为False，True时黑白颠倒（即大于127的像素设置为0，否则置255）\n",
    "    size为tuple类型，用于指定生成图像的尺寸, 如：(512,512)，默认为None表示输出原图像尺寸\n",
    "    save为保存标志，默认为False，为true时将生成的图保存到path(默认为当前文件夹)\n",
    "    '''\n",
    "    img_raw = cv.imread(img_path)\n",
    "    if size != None: # 调整图像尺寸\n",
    "        img_raw= cv.resize(img_raw,size)\n",
    "    img_gray = cv.cvtColor(img_raw,cv.COLOR_RGB2GRAY) # 转换颜色空间为灰度\n",
    "    img_name = img_path[9:].split('.')[0] # 获取图像原始名称\n",
    "    if img_type == 'gray': # 生成灰度图\n",
    "        if save:\n",
    "            cv.imwrite(os.path.join(path,'{}_gray.bmp'.format(img_name)),img_gray)\n",
    "        else:\n",
    "            return img_gray\n",
    "        print('Gray image generated!')\n",
    "    else: # 生成二值图\n",
    "        if binary_revese:\n",
    "            ret, img_binary = cv.threshold(img_gray,binary_therhold,255,cv.THRESH_BINARY_INV) #反二进制阈值化\n",
    "        else:\n",
    "            ret, img_binary = cv.threshold(img_gray,binary_therhold,255,cv.THRESH_BINARY)# 二进制阈值化\n",
    "        if save:\n",
    "            cv.imwrite(os.path.join(path,'{}_binary.bmp'.format(img_name)),img_binary)\n",
    "        else:\n",
    "            return img_binary\n",
    "        print('Binary image generated!')\n",
    "        print('threshold:{}'.format(ret)) # 输出转换阈值"
   ]
  },
  {
   "cell_type": "markdown",
   "metadata": {},
   "source": [
    "### 训练集生成函数主体"
   ]
  },
  {
   "cell_type": "code",
   "execution_count": 11,
   "metadata": {},
   "outputs": [],
   "source": [
    "def captcha_generator(character_set:str, font_set=None, save_path='./', size=(150,60),\n",
    "                         style=((255, 0, 0), (255, 255, 255), 40, False, (32,127)), captcha_len=4):\n",
    "    '''\n",
    "    R.G.的验证码生成器\n",
    "    character_set: 用于生成验证码的字符集，字符集以str类型传入\n",
    "    font_set: 字体集，str类型，本机的字体路径，如'path/to/font.ttf'\n",
    "    save_path: 验证码图片的保存位置，默认为当前文件夹\n",
    "    size: 生成验证码图片的尺寸，tuple类型，格式：（长，宽)，默认（150, 60）\n",
    "    style: 生成验证码的样式，tuple类型，格式：(text_color, background_color, text_size, rnd_background, fill_range), \n",
    "            _color均为三元tuple, text_size为int, rnd_background为bool用于控制是否把背景随机填色，默认不随机填色\n",
    "            fill_range: tuple类型，每个像素的颜色范围0~255，默认(32,127)【fill_range仅当rnd_background=True时起作用】\n",
    "    captcha_len: 要生成的验证码长度，即验证码字符个数\n",
    "    '''\n",
    "    # captcha_text = ''.join(random.sample(character_set, captcha_len)) # 这样生成的验证码中不会出现相同字符\n",
    "    # captcha_text = ''.join([ random.choice(character_set) for i in range(captcha_len)]) # 验证码中可能出现相同字符\n",
    "    captcha_text = character_set\n",
    "    background_img = Image.new('RGB', size, style[1]) # 创建一个Image对象，new(mode, size, color=0) \n",
    "    my_font = ImageFont.truetype(font=font_set, size=style[2]) # 创建字体对象\n",
    "    # 注意一点，之前用captcha库时候，font传入的是list类型，而这里传入的要是一个str类型\n",
    "    if style[3]:\n",
    "        background_img = background_rnd_fill(background_img, fill_range=style[4])\n",
    "    captcha_img = draw_text(background_img, captcha_text, font=my_font, fill=style[0])\n",
    "    if not os.path.exists(save_path):\n",
    "        os.makedirs(save_path)\n",
    "    captcha_save_path = os.path.join(save_path, '{}.png'.format(captcha_text))\n",
    "    i = 0\n",
    "    while True:\n",
    "        i += 1\n",
    "        if os.path.exists(captcha_save_path): # 已经有样本，则在正确标签后面加_i, i标记重复次数\n",
    "            captcha_save_path = os.path.join(save_path, '{}_{}.png'.format(captcha_text, i))\n",
    "        else: # 不存在重名路径，则跳出\n",
    "            break\n",
    "    captcha_img.save(captcha_save_path, 'png')\n",
    "    print('Captcha {} generated!'.format(captcha_text))\n",
    "    return captcha_text"
   ]
  },
  {
   "cell_type": "markdown",
   "metadata": {},
   "source": [
    "### 验证码单字符分割函数主体"
   ]
  },
  {
   "cell_type": "code",
   "execution_count": 12,
   "metadata": {},
   "outputs": [],
   "source": [
    "def captcha_character_detach(captcha_img_path, characters_save_path='./', captcha_len=4):\n",
    "    '''\n",
    "    验证码分割函数，用cv的findcontours()识别字符轮廓，然后按轮廓框定矩形，分割出每个字符\n",
    "    '''\n",
    "    captcha_img_basename = os.path.basename(captcha_img_path) # 从路径中提取带后缀文件名，如 '0415.png'\n",
    "    captcha_text = os.path.splitext(captcha_img_basename)[0] # ['0415', 'png']\n",
    "    img_gray = cv.imread(captcha_img_path, cv.IMREAD_GRAYSCALE) # 灰度图读入\n",
    "    img_binary = genNeedImg(captcha_img_path, img_type='binary', binary_therhold=127, binary_reverse=True) # 直接调用genNeedImg生成二值图\n",
    "    contours, hierarchy = cv.findContours(img_binary, cv.RETR_EXTERNAL, cv.CHAIN_APPROX_SIMPLE) # 划分字符轮廓\n",
    "    # 由于直接划分的轮廓太多了（我换了字体后好像不会划分很多），这里考虑记录每个每个轮廓的数据，然后取 wxh （长x宽，即面积）的top4\n",
    "    boundings = [cv.boundingRect(contour) for contour in contours] # 获取每个轮廓的信息，(x,y,width,height) x,y为轮廓最左上角坐标\n",
    "    boundings.sort(key=lambda tuple_x: tuple_x[2]*tuple_x[3], reverse=True) # lamdba传入的就是计算每个轮廓的面积，然后按面积大小降序排序\n",
    "    if len(boundings) < captcha_len: # 获取到的轮廓小于4，则说明没有把4个字符都区分开来\n",
    "        print('Bondings less then 4, captcha discarded!')\n",
    "        return # 直接结束，丢弃这个验证码样本\n",
    "    '''\n",
    "    # 下面开始画矩形分割框，这部分其实用不到，只是为了调试看画的样子\n",
    "    # -----------------------------------------------------------------------------------------\n",
    "    temp_img = cv.imread(captcha_img_path, cv.IMREAD_UNCHANGED) # 以原始格式读入图片\n",
    "    temp_img = bgr2rgb(temp_img) # 通道转换\n",
    "    for bounding in boundings[:4]: # 取面积最大的前4个轮廓\n",
    "        x, y, width, height = bounding\n",
    "        img_addBox = cv.rectangle(temp_img, (x,y), (x + width, y + height), (0, 255, 0), 1)\n",
    "    plt.imshow(img_addBox, cmap='gray')\n",
    "    # ------------------------------------------------------------------------------------------\n",
    "    '''\n",
    "    boundings_save = sorted(boundings[:captcha_lencaptcha_len], key=lambda tuple_x: tuple_x[0]) # 按轮廓的x坐标大小排序，tuple_x=(x,y,width,height) \n",
    "    character_splited = []\n",
    "    for character_bounding, character_text in zip(boundings_save, captcha_text):\n",
    "        x, y, width, height = character_bounding\n",
    "        margin = 2 # 提取单个字符的时候，在获取的轮廓拓宽margin个像素，因为findContours()的轮廓可能很紧凑\n",
    "        character_img = img_gray[y - margin:y + height + margin, x - margin:x + width + margin]\n",
    "        if not os.path.exists(characters_save_path): # 如果要保存的路径不存在就创建该路径目录\n",
    "            os.makedirs(characters_save_path)\n",
    "        character_path = os.path.join(characters_save_path, '{}_0.png'.format(character_text))\n",
    "        i = 0\n",
    "        while True:\n",
    "            i += 1\n",
    "            if os.path.exists(character_path): # 该字符已经有样本，则在正确标签后面加_i, i标记重复次数\n",
    "                character_path = os.path.join(characters_save_path, '{}_{}.png'.format(character_text, i))\n",
    "            else: # 不存在重名路径，则跳出\n",
    "                break\n",
    "        cv.imwrite(character_path, character_img)\n",
    "        character_splited.append(character_img)\n",
    "    print('Character detached from captcha, character has been saved at {}'.format(characters_save_path))\n",
    "    return character_splited"
   ]
  },
  {
   "cell_type": "markdown",
   "metadata": {},
   "source": [
    "### kNN分类识别器"
   ]
  },
  {
   "cell_type": "code",
   "execution_count": 13,
   "metadata": {},
   "outputs": [],
   "source": [
    "def judger(k_prediction):\n",
    "    '''\n",
    "    判决器，k_prediction是有权重的，索引最小代表该预测值和实际值相似度最大\n",
    "    但是，可能出现如：k=5，k_prediction=（7, 1, 2, 2, 2），这样的情况，我定预测结果为2\n",
    "    也就是，重复预测值个数 >= 预测值总数的2/3，则取该重复预测值\n",
    "    '''\n",
    "    k = len(k_prediction)\n",
    "    tmp = list(k_prediction)\n",
    "    [tmp.remove(i) for i in list(set(tmp))]\n",
    "    duplication = set(tmp) # 找出预测值中重复元素\n",
    "    if len(duplication) == 0:\n",
    "        return k_prediction[0] \n",
    "    if k_prediction[0] not in duplication: # 最接近的预测值不再重复出现的\n",
    "        top_dupli = tmp[ min([ tmp.index(d) for d in duplication]) ]# 找出重复预测值中接近程度最高的值\n",
    "        count = sum([ 1 for i in k_prediction if i==top_dupli]) # 统计较高相似度的重复预测值出现次数\n",
    "        if count >= int(2/3 * k): # 如果较高相似度的重复预测值出现次数 >= 预测值总数的2/3，则取该预测值\n",
    "            return top_dupli    \n",
    "    return k_prediction[0]"
   ]
  },
  {
   "cell_type": "code",
   "execution_count": 14,
   "metadata": {},
   "outputs": [],
   "source": [
    "def RG_kNN_classifier(feature_set_train, label_set_train, feature_set_test, k=3):\n",
    "    '''\n",
    "    所有的feature集合中的图像矩阵需要reshape成一维数组（传入前特征工程需要把图像先resize成20x20再reshape成（400,））\n",
    "    feature_set_train, label_set_train, feature_set_test都必须是np.array\n",
    "    '''\n",
    "    label_set_Kpredict, topK_list = [],[] # 增加topK_list记录最接近的图像编号\n",
    "    for test_feature in feature_set_test:\n",
    "        distances = []\n",
    "        for train_feature in feature_set_train:\n",
    "            distances.append(\n",
    "                np.sqrt(np.sum(np.square(test_feature - train_feature)))\n",
    "            )\n",
    "        # topK = np.argsort(distances)[-k:][::-1] # [-k:]是提取最后k个（因为argsort是升序排序）,[::-1]则是将其反序\n",
    "        topK = np.argsort(distances)[:k] # ummmm, 我感觉我昨天写代码脑袋写坏了，应该取距离最小的，我上面那句取了距离最大的k个\n",
    "        if k != 1:\n",
    "            label_set_Kpredict.append(\n",
    "                tuple(label_set_train[list(topK)]) # 保存最接近的k个预测值\n",
    "            )\n",
    "            topK_list.append(tuple(topK))\n",
    "        else:\n",
    "            label_set_Kpredict.append(\n",
    "                tuple(label_set_train[list(topK)])[0] # 保存最接近的k个预测值\n",
    "            )\n",
    "            topK_list.append(tuple(topK))\n",
    "    if k==1:\n",
    "        return label_set_Kpredict, topK_list\n",
    "    else:\n",
    "        # k个最接近的值，做一个投票器，利用投票器选出最终预测值\n",
    "        label_set_single = [ judger(labels) for labels in label_set_Kpredict]\n",
    "        return label_set_single, label_set_Kpredict, topK_list"
   ]
  },
  {
   "cell_type": "markdown",
   "metadata": {},
   "source": [
    "## 【设计过程】"
   ]
  },
  {
   "cell_type": "markdown",
   "metadata": {},
   "source": [
    "解释一下`judger()`函数：    \n",
    "因为kNN计算的是与目标样本最接近的k个预测值，在`RG_kNN_classifier()`中，预测结果是一个tuple      \n",
    "结构为 $ (p_1, p_2, \\cdots, p_k)$，其中，$p_1$最接近目标样本的预测（距离最小），因此其预测价值应该最大  \n",
    "所以，为了给出最后的预测值，我写了该`judger()`判决函数。\n",
    "判决流程为：\n",
    "+ 从 $ k\\_prediction = (p_1, p_2, \\cdots, p_k)$ 中找出重复出现的预测值，保存到duplication中\n",
    "+ 如果 duplication 为空(即不存在重复预测值) 或者 $p_1 \\in duplication$ ，则直接返回 预测值 $p_1$，结束流程，否则继续接下来的流程\n",
    "+ 找出duplication中预测价值最大（也就是序号最小）的值 top_dupli\n",
    "+ 统计 top_dupli 出现的次数，记作 count\n",
    "+ 如果 $ count >= [ 2/3 \\cdot k]$，则返回 top_dupli，否则依旧返回 $p_1$ (其中[]为取整)\n",
    "至于为啥是 2/3， 是我设置的值，可以自行调整     \n",
    "举例：\n",
    "+ (3, 2, 1, 1, 1) 返回 1\n",
    "+ (1, 2, 3, 4) 返回 1\n",
    "+ (1, 2, 1, 1, 2) 返回 1"
   ]
  },
  {
   "cell_type": "markdown",
   "metadata": {},
   "source": [
    "### 先用cv读取图像看看效果"
   ]
  },
  {
   "cell_type": "code",
   "execution_count": 15,
   "metadata": {},
   "outputs": [
    {
     "output_type": "execute_result",
     "data": {
      "text/plain": "(117, 220, 3)"
     },
     "metadata": {},
     "execution_count": 15
    }
   ],
   "source": [
    "# 项目路径配置\n",
    "ROOT_DIR = os.getcwd()\n",
    "IMG_DTR = os.path.join(ROOT_DIR, 'images')\n",
    "target_imgs = [ os.path.join(IMG_DTR, img_name) for img_name in os.listdir(IMG_DTR)] \n",
    "target_imgs.sort() # 升序，注意不能 listA = listA.sort(), sort没有返回值\n",
    "target = target_imgs[4]\n",
    "img = cv.imread(target, cv.IMREAD_UNCHANGED) # 以原始格式读入图片\n",
    "img.shape "
   ]
  },
  {
   "cell_type": "markdown",
   "metadata": {},
   "source": [
    "这里读的图是 验证码.jpg 其尺寸为 117x220 （长x宽），色彩空间为 RGB    \n",
    "看img矩阵的shape为 (117,220,3)，其中3为像素模式，cv顺序为BGR"
   ]
  },
  {
   "cell_type": "markdown",
   "metadata": {},
   "source": [
    "## 【主要数据结构】"
   ]
  },
  {
   "cell_type": "code",
   "execution_count": null,
   "metadata": {},
   "outputs": [],
   "source": []
  },
  {
   "cell_type": "markdown",
   "metadata": {},
   "source": [
    "## 【代码调试过程以及实验结果数据】"
   ]
  },
  {
   "cell_type": "code",
   "execution_count": null,
   "metadata": {},
   "outputs": [],
   "source": []
  },
  {
   "cell_type": "markdown",
   "metadata": {},
   "source": [
    "## 【讨论与心得】"
   ]
  },
  {
   "cell_type": "code",
   "execution_count": null,
   "metadata": {},
   "outputs": [],
   "source": []
  },
  {
   "cell_type": "markdown",
   "metadata": {},
   "source": [
    "## 【实验中遇到的问题和解决方法】"
   ]
  },
  {
   "cell_type": "code",
   "execution_count": null,
   "metadata": {},
   "outputs": [],
   "source": []
  },
  {
   "cell_type": "markdown",
   "metadata": {},
   "source": [
    "## 【参考资料】"
   ]
  }
 ],
 "metadata": {
  "language_info": {
   "codemirror_mode": {
    "name": "ipython",
    "version": 3
   },
   "file_extension": ".py",
   "mimetype": "text/x-python",
   "name": "python",
   "nbconvert_exporter": "python",
   "pygments_lexer": "ipython3",
   "version": "3.7.5-final"
  },
  "orig_nbformat": 2,
  "kernelspec": {
   "name": "python37564bit7864ce697006450d81c3f54dae018d4c",
   "display_name": "Python 3.7.5 64-bit"
  }
 },
 "nbformat": 4,
 "nbformat_minor": 2
}