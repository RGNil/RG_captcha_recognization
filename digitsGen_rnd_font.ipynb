{
 "cells": [
  {
   "cell_type": "code",
   "execution_count": 35,
   "metadata": {},
   "outputs": [],
   "source": [
    "import os\n",
    "import numpy as np \n",
    "import pandas as pd \n",
    "from cv2 import cv2 as cv\n",
    "import matplotlib\n",
    "import matplotlib.pyplot as plt \n",
    "from PIL import Image, ImageDraw, ImageFont\n",
    "import random\n",
    "import string\n",
    "\n",
    "ROOT_DIR = os.getcwd()\n",
    "DATA_DIR = os.path.join(ROOT_DIR, 'fonts_data')\n",
    "FONT = [r'/System/Library/Fonts/Avenir Next.ttc'] \n",
    "FONTS = [ font for font in os.listdir('/System/Library/Fonts/')]\n",
    "# FONTS"
   ]
  },
  {
   "cell_type": "code",
   "execution_count": 36,
   "metadata": {},
   "outputs": [
    {
     "output_type": "execute_result",
     "data": {
      "text/plain": "'0123456789'"
     },
     "metadata": {},
     "execution_count": 36
    }
   ],
   "source": [
    "character_set_digit = string.digits\n",
    "character_set_digit"
   ]
  },
  {
   "cell_type": "code",
   "execution_count": 37,
   "metadata": {},
   "outputs": [],
   "source": [
    "def gen_rand_text(character_set:str, length=4):\n",
    "    '''\n",
    "    生成len长度的随机字符串，字符来自于指定字符集\n",
    "    character_set: 字符集\n",
    "    length: 生成的字符串长度，默认为4\n",
    "    '''\n",
    "    return ''.join([ random.choice(character_set) for i in range(length)])\n",
    "\n",
    "# gen_rand_text(character_set_digit, length=4)"
   ]
  },
  {
   "cell_type": "code",
   "execution_count": 38,
   "metadata": {},
   "outputs": [],
   "source": [
    "def background_rnd_fill(background_img, fill_range=(32,127)):\n",
    "    '''\n",
    "    将背景画布按像素随机填充颜色\n",
    "    background_img: pillow的Image对象\n",
    "    fill_range: tuple类型，每个像素的颜色范围0~255，默认(32,127)\n",
    "    '''\n",
    "    background_filled = background_img.copy() # 为了不破坏原背景，这里用copy\n",
    "    drawer = ImageDraw.Draw(background_filled) # 在Image对象上创建画笔对象\n",
    "    width, height = background_img.size # 获取背景画布的尺寸\n",
    "    for x in range(width):\n",
    "        for y in range(height):\n",
    "            drawer.point( (x,y), fill=(\n",
    "                random.randint(fill_range[0], fill_range[1]),\n",
    "                random.randint(fill_range[0], fill_range[1]),\n",
    "                random.randint(fill_range[0], fill_range[1])\n",
    "            ) )# 每个像素填充随机颜色\n",
    "    return background_filled\n",
    "\n",
    "# background_rnd_fill(background_img, fill_range=(32,127))"
   ]
  },
  {
   "cell_type": "code",
   "execution_count": 39,
   "metadata": {},
   "outputs": [],
   "source": [
    "def draw_text(background_img, text='0123456789', font=None, fill=(255,0,0)):\n",
    "    '''\n",
    "    在背景画布上画图，我进行了位置计算，使得字符在画布中能居中显示\n",
    "    background_img: pillow的Image对象\n",
    "    text: 要画的字符\n",
    "    font: str类型，字体路径，默认为None\n",
    "    fill: 画的字符的填充色，默认为(255,0,0)=red\n",
    "    '''\n",
    "    width, height = background_img.size # 获取背景画布的尺寸\n",
    "    img = background_img.copy() # 为了不破坏原背景，这里用copy\n",
    "    drawer = ImageDraw.Draw(img) # 在Image对象上创建画笔对象\n",
    "    drawer.text((10, (height - font.size - 8) // 2), text, fill=fill,font=font)\n",
    "    return img\n",
    "\n",
    "# draw_text(background_img, 'abcd', font=my_font, fill=(255,0,0))"
   ]
  },
  {
   "cell_type": "code",
   "execution_count": 40,
   "metadata": {},
   "outputs": [],
   "source": [
    "def captcha_generator(character_set:str, font_set=None, save_path='./', size=(150,60),\n",
    "                         style=((255, 0, 0), (255, 255, 255), 40, False, (32,127)), captcha_len=4):\n",
    "    '''\n",
    "    R.G.的验证码生成器\n",
    "    character_set: 用于生成验证码的字符集，字符集以str类型传入\n",
    "    font_set: 字体集，str类型，本机的字体路径，如'path/to/font.ttf'\n",
    "    save_path: 验证码图片的保存位置，默认为当前文件夹\n",
    "    size: 生成验证码图片的尺寸，tuple类型，格式：（长，宽)，默认（150, 60）\n",
    "    style: 生成验证码的样式，tuple类型，格式：(text_color, background_color, text_size, rnd_background, fill_range), \n",
    "            _color均为三元tuple, text_size为int, rnd_background为bool用于控制是否把背景随机填色，默认不随机填色\n",
    "            fill_range: tuple类型，每个像素的颜色范围0~255，默认(32,127)【fill_range仅当rnd_background=True时起作用】\n",
    "    captcha_len: 要生成的验证码长度，即验证码字符个数\n",
    "    '''\n",
    "    # captcha_text = ''.join(random.sample(character_set, captcha_len)) # 这样生成的验证码中不会出现相同字符\n",
    "    # captcha_text = ''.join([ random.choice(character_set) for i in range(captcha_len)]) # 验证码中可能出现相同字符\n",
    "    captcha_text = character_set\n",
    "    background_img = Image.new('RGB', size, style[1]) # 创建一个Image对象，new(mode, size, color=0) \n",
    "    my_font = ImageFont.truetype(font=font_set, size=style[2]) # 创建字体对象\n",
    "    # 注意一点，之前用captcha库时候，font传入的是list类型，而这里传入的要是一个str类型\n",
    "    if style[3]:\n",
    "        background_img = background_rnd_fill(background_img, fill_range=style[4])\n",
    "    captcha_img = draw_text(background_img, captcha_text, font=my_font, fill=style[0])\n",
    "    if not os.path.exists(save_path):\n",
    "        os.makedirs(save_path)\n",
    "    captcha_save_path = os.path.join(save_path, '{}.png'.format(captcha_text))\n",
    "    i = 0\n",
    "    while True:\n",
    "        i += 1\n",
    "        if os.path.exists(captcha_save_path): # 已经有样本，则在正确标签后面加_i, i标记重复次数\n",
    "            captcha_save_path = os.path.join(save_path, '{}_{}.png'.format(captcha_text, i))\n",
    "        else: # 不存在重名路径，则跳出\n",
    "            break\n",
    "    captcha_img.save(captcha_save_path, 'png')\n",
    "    print('Captcha {} generated!'.format(captcha_text))\n",
    "    return captcha_text\n",
    "\n",
    "# captcha_generator(character_set_digit, font_set=FONT[0], captcha_len=4)"
   ]
  },
  {
   "cell_type": "code",
   "execution_count": 41,
   "metadata": {},
   "outputs": [
    {
     "output_type": "stream",
     "name": "stdout",
     "text": "Captcha 0123456789 generated!\nCaptcha 0123456789 generated!\nCaptcha 0123456789 generated!\nCaptcha 0123456789 generated!\nCaptcha 0123456789 generated!\nCaptcha 0123456789 generated!\nCaptcha 0123456789 generated!\nCaptcha 0123456789 generated!\nCaptcha 0123456789 generated!\nCaptcha 0123456789 generated!\nCaptcha 0123456789 generated!\nCaptcha 0123456789 generated!\nCaptcha 0123456789 generated!\nCaptcha 0123456789 generated!\nCaptcha 0123456789 generated!\nCaptcha 0123456789 generated!\nCaptcha 0123456789 generated!\nCaptcha 0123456789 generated!\nCaptcha 0123456789 generated!\nCaptcha 0123456789 generated!\nCaptcha 0123456789 generated!\nCaptcha 0123456789 generated!\nCaptcha 0123456789 generated!\nCaptcha 0123456789 generated!\nCaptcha 0123456789 generated!\nCaptcha 0123456789 generated!\nCaptcha 0123456789 generated!\nCaptcha 0123456789 generated!\nCaptcha 0123456789 generated!\nCaptcha 0123456789 generated!\nCaptcha 0123456789 generated!\nCaptcha 0123456789 generated!\nCaptcha 0123456789 generated!\nCaptcha 0123456789 generated!\nCaptcha 0123456789 generated!\nCaptcha 0123456789 generated!\nCaptcha 0123456789 generated!\nCaptcha 0123456789 generated!\nCaptcha 0123456789 generated!\nCaptcha 0123456789 generated!\nCaptcha 0123456789 generated!\nCaptcha 0123456789 generated!\nCaptcha 0123456789 generated!\nCaptcha 0123456789 generated!\nCaptcha 0123456789 generated!\n"
    },
    {
     "output_type": "error",
     "ename": "OSError",
     "evalue": "cannot open resource",
     "traceback": [
      "\u001b[0;31m---------------------------------------------------------------------------\u001b[0m",
      "\u001b[0;31mOSError\u001b[0m                                   Traceback (most recent call last)",
      "\u001b[0;32m<ipython-input-41-e1599a158df5>\u001b[0m in \u001b[0;36m<module>\u001b[0;34m\u001b[0m\n\u001b[1;32m      1\u001b[0m \u001b[0;32mfor\u001b[0m \u001b[0mfont\u001b[0m \u001b[0;32min\u001b[0m \u001b[0mFONTS\u001b[0m\u001b[0;34m:\u001b[0m\u001b[0;34m\u001b[0m\u001b[0;34m\u001b[0m\u001b[0m\n\u001b[1;32m      2\u001b[0m     captcha_generator(character_set_digit, font_set=font, save_path='./test', \n\u001b[0;32m----> 3\u001b[0;31m     \u001b[0msize\u001b[0m\u001b[0;34m=\u001b[0m\u001b[0;34m(\u001b[0m\u001b[0;36m275\u001b[0m\u001b[0;34m,\u001b[0m \u001b[0;36m60\u001b[0m\u001b[0;34m)\u001b[0m\u001b[0;34m,\u001b[0m \u001b[0mcaptcha_len\u001b[0m\u001b[0;34m=\u001b[0m\u001b[0;36m10\u001b[0m\u001b[0;34m,\u001b[0m\u001b[0mstyle\u001b[0m\u001b[0;34m=\u001b[0m\u001b[0;34m(\u001b[0m\u001b[0;34m(\u001b[0m\u001b[0;36m255\u001b[0m\u001b[0;34m,\u001b[0m \u001b[0;36m0\u001b[0m\u001b[0;34m,\u001b[0m \u001b[0;36m0\u001b[0m\u001b[0;34m)\u001b[0m\u001b[0;34m,\u001b[0m \u001b[0;34m(\u001b[0m\u001b[0;36m255\u001b[0m\u001b[0;34m,\u001b[0m \u001b[0;36m255\u001b[0m\u001b[0;34m,\u001b[0m \u001b[0;36m255\u001b[0m\u001b[0;34m)\u001b[0m\u001b[0;34m,\u001b[0m \u001b[0;36m40\u001b[0m\u001b[0;34m,\u001b[0m \u001b[0;32mFalse\u001b[0m\u001b[0;34m,\u001b[0m \u001b[0;34m(\u001b[0m\u001b[0;36m32\u001b[0m\u001b[0;34m,\u001b[0m\u001b[0;36m127\u001b[0m\u001b[0;34m)\u001b[0m\u001b[0;34m)\u001b[0m\u001b[0;34m\u001b[0m\u001b[0;34m\u001b[0m\u001b[0m\n\u001b[0m\u001b[1;32m      4\u001b[0m     )\n",
      "\u001b[0;32m<ipython-input-40-d5e0707eecda>\u001b[0m in \u001b[0;36mcaptcha_generator\u001b[0;34m(character_set, font_set, save_path, size, style, captcha_len)\u001b[0m\n\u001b[1;32m     16\u001b[0m     \u001b[0mcaptcha_text\u001b[0m \u001b[0;34m=\u001b[0m \u001b[0mcharacter_set_digit\u001b[0m\u001b[0;34m\u001b[0m\u001b[0;34m\u001b[0m\u001b[0m\n\u001b[1;32m     17\u001b[0m     \u001b[0mbackground_img\u001b[0m \u001b[0;34m=\u001b[0m \u001b[0mImage\u001b[0m\u001b[0;34m.\u001b[0m\u001b[0mnew\u001b[0m\u001b[0;34m(\u001b[0m\u001b[0;34m'RGB'\u001b[0m\u001b[0;34m,\u001b[0m \u001b[0msize\u001b[0m\u001b[0;34m,\u001b[0m \u001b[0mstyle\u001b[0m\u001b[0;34m[\u001b[0m\u001b[0;36m1\u001b[0m\u001b[0;34m]\u001b[0m\u001b[0;34m)\u001b[0m \u001b[0;31m# 创建一个Image对象，new(mode, size, color=0)\u001b[0m\u001b[0;34m\u001b[0m\u001b[0;34m\u001b[0m\u001b[0m\n\u001b[0;32m---> 18\u001b[0;31m     \u001b[0mmy_font\u001b[0m \u001b[0;34m=\u001b[0m \u001b[0mImageFont\u001b[0m\u001b[0;34m.\u001b[0m\u001b[0mtruetype\u001b[0m\u001b[0;34m(\u001b[0m\u001b[0mfont\u001b[0m\u001b[0;34m=\u001b[0m\u001b[0mfont_set\u001b[0m\u001b[0;34m,\u001b[0m \u001b[0msize\u001b[0m\u001b[0;34m=\u001b[0m\u001b[0mstyle\u001b[0m\u001b[0;34m[\u001b[0m\u001b[0;36m2\u001b[0m\u001b[0;34m]\u001b[0m\u001b[0;34m)\u001b[0m \u001b[0;31m# 创建字体对象\u001b[0m\u001b[0;34m\u001b[0m\u001b[0;34m\u001b[0m\u001b[0m\n\u001b[0m\u001b[1;32m     19\u001b[0m     \u001b[0;31m# 注意一点，之前用captcha库时候，font传入的是list类型，而这里传入的要是一个str类型\u001b[0m\u001b[0;34m\u001b[0m\u001b[0;34m\u001b[0m\u001b[0;34m\u001b[0m\u001b[0m\n\u001b[1;32m     20\u001b[0m     \u001b[0;32mif\u001b[0m \u001b[0mstyle\u001b[0m\u001b[0;34m[\u001b[0m\u001b[0;36m3\u001b[0m\u001b[0;34m]\u001b[0m\u001b[0;34m:\u001b[0m\u001b[0;34m\u001b[0m\u001b[0;34m\u001b[0m\u001b[0m\n",
      "\u001b[0;32m/usr/local/lib/python3.7/site-packages/PIL/ImageFont.py\u001b[0m in \u001b[0;36mtruetype\u001b[0;34m(font, size, index, encoding, layout_engine)\u001b[0m\n\u001b[1;32m    638\u001b[0m \u001b[0;34m\u001b[0m\u001b[0m\n\u001b[1;32m    639\u001b[0m     \u001b[0;32mtry\u001b[0m\u001b[0;34m:\u001b[0m\u001b[0;34m\u001b[0m\u001b[0;34m\u001b[0m\u001b[0m\n\u001b[0;32m--> 640\u001b[0;31m         \u001b[0;32mreturn\u001b[0m \u001b[0mfreetype\u001b[0m\u001b[0;34m(\u001b[0m\u001b[0mfont\u001b[0m\u001b[0;34m)\u001b[0m\u001b[0;34m\u001b[0m\u001b[0;34m\u001b[0m\u001b[0m\n\u001b[0m\u001b[1;32m    641\u001b[0m     \u001b[0;32mexcept\u001b[0m \u001b[0mIOError\u001b[0m\u001b[0;34m:\u001b[0m\u001b[0;34m\u001b[0m\u001b[0;34m\u001b[0m\u001b[0m\n\u001b[1;32m    642\u001b[0m         \u001b[0;32mif\u001b[0m \u001b[0;32mnot\u001b[0m \u001b[0misPath\u001b[0m\u001b[0;34m(\u001b[0m\u001b[0mfont\u001b[0m\u001b[0;34m)\u001b[0m\u001b[0;34m:\u001b[0m\u001b[0;34m\u001b[0m\u001b[0;34m\u001b[0m\u001b[0m\n",
      "\u001b[0;32m/usr/local/lib/python3.7/site-packages/PIL/ImageFont.py\u001b[0m in \u001b[0;36mfreetype\u001b[0;34m(font)\u001b[0m\n\u001b[1;32m    635\u001b[0m \u001b[0;34m\u001b[0m\u001b[0m\n\u001b[1;32m    636\u001b[0m     \u001b[0;32mdef\u001b[0m \u001b[0mfreetype\u001b[0m\u001b[0;34m(\u001b[0m\u001b[0mfont\u001b[0m\u001b[0;34m)\u001b[0m\u001b[0;34m:\u001b[0m\u001b[0;34m\u001b[0m\u001b[0;34m\u001b[0m\u001b[0m\n\u001b[0;32m--> 637\u001b[0;31m         \u001b[0;32mreturn\u001b[0m \u001b[0mFreeTypeFont\u001b[0m\u001b[0;34m(\u001b[0m\u001b[0mfont\u001b[0m\u001b[0;34m,\u001b[0m \u001b[0msize\u001b[0m\u001b[0;34m,\u001b[0m \u001b[0mindex\u001b[0m\u001b[0;34m,\u001b[0m \u001b[0mencoding\u001b[0m\u001b[0;34m,\u001b[0m \u001b[0mlayout_engine\u001b[0m\u001b[0;34m)\u001b[0m\u001b[0;34m\u001b[0m\u001b[0;34m\u001b[0m\u001b[0m\n\u001b[0m\u001b[1;32m    638\u001b[0m \u001b[0;34m\u001b[0m\u001b[0m\n\u001b[1;32m    639\u001b[0m     \u001b[0;32mtry\u001b[0m\u001b[0;34m:\u001b[0m\u001b[0;34m\u001b[0m\u001b[0;34m\u001b[0m\u001b[0m\n",
      "\u001b[0;32m/usr/local/lib/python3.7/site-packages/PIL/ImageFont.py\u001b[0m in \u001b[0;36m__init__\u001b[0;34m(self, font, size, index, encoding, layout_engine)\u001b[0m\n\u001b[1;32m    184\u001b[0m                     \u001b[0;32mreturn\u001b[0m\u001b[0;34m\u001b[0m\u001b[0;34m\u001b[0m\u001b[0m\n\u001b[1;32m    185\u001b[0m             self.font = core.getfont(\n\u001b[0;32m--> 186\u001b[0;31m                 \u001b[0mfont\u001b[0m\u001b[0;34m,\u001b[0m \u001b[0msize\u001b[0m\u001b[0;34m,\u001b[0m \u001b[0mindex\u001b[0m\u001b[0;34m,\u001b[0m \u001b[0mencoding\u001b[0m\u001b[0;34m,\u001b[0m \u001b[0mlayout_engine\u001b[0m\u001b[0;34m=\u001b[0m\u001b[0mlayout_engine\u001b[0m\u001b[0;34m\u001b[0m\u001b[0;34m\u001b[0m\u001b[0m\n\u001b[0m\u001b[1;32m    187\u001b[0m             )\n\u001b[1;32m    188\u001b[0m         \u001b[0;32melse\u001b[0m\u001b[0;34m:\u001b[0m\u001b[0;34m\u001b[0m\u001b[0;34m\u001b[0m\u001b[0m\n",
      "\u001b[0;31mOSError\u001b[0m: cannot open resource"
     ]
    }
   ],
   "source": [
    "for font in FONTS:\n",
    "    captcha_generator(character_set_digit, font_set=font, save_path='./test', \n",
    "    size=(275, 60), captcha_len=10,style=((255, 0, 0), (255, 255, 255), 40, False, (32,127))\n",
    "    )"
   ]
  },
  {
   "cell_type": "code",
   "execution_count": null,
   "metadata": {},
   "outputs": [],
   "source": []
  }
 ],
 "metadata": {
  "language_info": {
   "codemirror_mode": {
    "name": "ipython",
    "version": 3
   },
   "file_extension": ".py",
   "mimetype": "text/x-python",
   "name": "python",
   "nbconvert_exporter": "python",
   "pygments_lexer": "ipython3",
   "version": "3.7.5-final"
  },
  "orig_nbformat": 2,
  "kernelspec": {
   "name": "python37564bit7864ce697006450d81c3f54dae018d4c",
   "display_name": "Python 3.7.5 64-bit"
  }
 },
 "nbformat": 4,
 "nbformat_minor": 2
}