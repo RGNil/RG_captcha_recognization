{
 "cells": [
  {
   "cell_type": "code",
   "execution_count": 1,
   "metadata": {},
   "outputs": [],
   "source": [
    "import os\n",
    "import numpy as np \n",
    "import pandas as pd \n",
    "from cv2 import cv2 as cv\n",
    "import matplotlib\n",
    "import matplotlib.pyplot as plt \n",
    "\n",
    "ROOT_DIR = os.getcwd()\n",
    "DATA_DTR = os.path.join(ROOT_DIR, 'data_via_RG')\n",
    "CHARACTER_DIR = os.path.join(ROOT_DIR, 'characters')"
   ]
  },
  {
   "cell_type": "code",
   "execution_count": 2,
   "metadata": {},
   "outputs": [],
   "source": [
    "# 为了方便图片直接显示在jupyter中，cv的imshow不能直接在jupyter中显示\n",
    "# 为了用matplotlib显示（ 不能用plt.show()，要用plt.imshow() ）\n",
    "# 由于CV的通道是BGR顺序，而matpotlib是 RGB顺序，这里要做通道转换\n",
    "# 方法一\n",
    "def bgr2rgb_v2(img):\n",
    "    # 用cv自带的分割和合并函数\n",
    "    B,G,R = cv.split(img)\n",
    "    return cv.merge([R,G,B])\n",
    "# 方法二\n",
    "def bgr2rgb(img):\n",
    "    # 直接用python切片特性，[start: end: step], 这里start end为空，则默认遍历全部，step为-1则倒序遍历\n",
    "    return img[:, :, ::-1]"
   ]
  },
  {
   "cell_type": "code",
   "execution_count": 3,
   "metadata": {},
   "outputs": [],
   "source": [
    "def genNeedImg(img_path, img_type='binary', binary_therhold=127, \n",
    "               binary_reverse=False, size=None, save=False, path='./'):\n",
    "    '''\n",
    "    用于生成指定大小的灰度图或二值图, img_path为图像路径\n",
    "    type为标志转换类型，默认为binary，可选的值为binary或gray\n",
    "    binary_therhold为二值图划分阈值，默认127（即大于127的像素设置为255，否则置0）\n",
    "    binary_reverse默认为False，True时黑白颠倒（即大于127的像素设置为0，否则置255）\n",
    "    size为tuple类型，用于指定生成图像的尺寸, 如：(512,512)，默认为None表示输出原图像尺寸\n",
    "    save为保存标志，默认为False，为true时将生成的图保存到path(默认为当前文件夹)\n",
    "    '''\n",
    "    img_raw = cv.imread(img_path)\n",
    "    if size != None: # 调整图像尺寸\n",
    "        img_raw= cv.resize(img_raw,size)\n",
    "    img_gray = cv.cvtColor(img_raw,cv.COLOR_RGB2GRAY) # 转换颜色空间为灰度\n",
    "    # Add some extra padding around the image\n",
    "    # img_gray = cv.copyMakeBorder(img_gray, 8, 8, 8, 8, cv.BORDER_REPLICATE)\n",
    "    img_name = img_path[9:].split('.')[0] # 获取图像原始名称\n",
    "    if img_type == 'gray': # 生成灰度图\n",
    "        if save:\n",
    "            cv.imwrite(os.path.join(path,'{}_gray.bmp'.format(img_name)),img_gray)\n",
    "            print('Gray image saved at {}'.format(os.path.join(path,'{}_gray.bmp'.format(img_name))))\n",
    "        else:\n",
    "            print('Gray image generated!')\n",
    "            return img_gray\n",
    "    else: # 生成二值图\n",
    "        if binary_reverse:\n",
    "            ret, img_binary = cv.threshold(img_gray,binary_therhold,255,cv.THRESH_BINARY_INV) #反二进制阈值化\n",
    "        else:\n",
    "            ret, img_binary = cv.threshold(img_gray,binary_therhold,255,cv.THRESH_BINARY)# 二进制阈值化\n",
    "        if save:\n",
    "            cv.imwrite(os.path.join(path,'{}_binary.bmp'.format(img_name)),img_binary)\n",
    "            print('threshold:{}'.format(ret)) # 输出转换阈值\n",
    "            print('Binary image savd at {}'.format(os.path.join(path,'{}_binary.bmp'.format(img_name))))\n",
    "        else:\n",
    "            print('Binary image generated!')\n",
    "            print('threshold:{}'.format(ret)) # 输出转换阈值\n",
    "            return img_binary"
   ]
  },
  {
   "cell_type": "code",
   "execution_count": 4,
   "metadata": {},
   "outputs": [],
   "source": [
    "def captcha_character_detach(captcha_img_path, characters_save_path='./', captcha_len=4):\n",
    "    captcha_img_basename = os.path.basename(captcha_img_path) # 从路径中提取带后缀文件名，如 '0415.png'\n",
    "    captcha_text = os.path.splitext(captcha_img_basename)[0] # ['0415', 'png']\n",
    "    img_gray = cv.imread(captcha_img_path, cv.IMREAD_GRAYSCALE) # 灰度图读入\n",
    "    img_binary = genNeedImg(captcha_img_path, img_type='binary', binary_therhold=127, binary_reverse=True) # 直接调用genNeedImg生成二值图\n",
    "    contours, hierarchy = cv.findContours(img_binary, cv.RETR_EXTERNAL, cv.CHAIN_APPROX_SIMPLE) # 划分字符轮廓\n",
    "    # 由于直接划分的轮廓太多了（我换了字体后好像不会划分很多），这里考虑记录每个每个轮廓的数据，然后取 wxh （长x宽，即面积）的top4\n",
    "    boundings = [cv.boundingRect(contour) for contour in contours] # 获取每个轮廓的信息，(x,y,width,height) x,y为轮廓最左上角坐标\n",
    "    boundings.sort(key=lambda tuple_x: tuple_x[2]*tuple_x[3], reverse=True) # lamdba传入的就是计算每个轮廓的面积，然后按面积大小降序排序\n",
    "    if len(boundings) < captcha_len: # 获取到的轮廓小于4，则说明没有把4个字符都区分开来\n",
    "        print('Bondings less then 4, captcha discarded!')\n",
    "        return # 直接结束，丢弃这个验证码样本\n",
    "    '''\n",
    "    # 下面开始画矩形分割框，这部分其实用不到，只是为了调试看画的样子\n",
    "    # -----------------------------------------------------------------------------------------\n",
    "    temp_img = cv.imread(captcha_img_path, cv.IMREAD_UNCHANGED) # 以原始格式读入图片\n",
    "    temp_img = bgr2rgb(temp_img) # 通道转换\n",
    "    for bounding in boundings[:4]: # 取面积最大的前4个轮廓\n",
    "        x, y, width, height = bounding\n",
    "        img_addBox = cv.rectangle(temp_img, (x,y), (x + width, y + height), (0, 255, 0), 1)\n",
    "    plt.imshow(img_addBox, cmap='gray')\n",
    "    # ------------------------------------------------------------------------------------------\n",
    "    '''\n",
    "    boundings_save = sorted(boundings[:captcha_lencaptcha_len], key=lambda tuple_x: tuple_x[0]) # 按轮廓的x坐标大小排序，tuple_x=(x,y,width,height) \n",
    "    character_splited = []\n",
    "    for character_bounding, character_text in zip(boundings_save, captcha_text):\n",
    "        x, y, width, height = character_bounding\n",
    "        margin = 2 # 提取单个字符的时候，在获取的轮廓拓宽margin个像素，因为findContours()的轮廓可能很紧凑\n",
    "        character_img = img_gray[y - margin:y + height + margin, x - margin:x + width + margin]\n",
    "        if not os.path.exists(characters_save_path): # 如果要保存的路径不存在就创建该路径目录\n",
    "            os.makedirs(characters_save_path)\n",
    "        character_path = os.path.join(characters_save_path, '{}_0.png'.format(character_text))\n",
    "        i = 0\n",
    "        while True:\n",
    "            i += 1\n",
    "            if os.path.exists(character_path): # 该字符已经有样本，则在正确标签后面加_i, i标记重复次数\n",
    "                character_path = os.path.join(characters_save_path, '{}_{}.png'.format(character_text, i))\n",
    "            else: # 不存在重名路径，则跳出\n",
    "                break\n",
    "        cv.imwrite(character_path, character_img)\n",
    "        character_splited.append(character_img)\n",
    "    print('Character detached from captcha, character has been saved at {}'.format(characters_save_path))\n",
    "    return character_splited"
   ]
  },
  {
   "cell_type": "code",
   "execution_count": 5,
   "metadata": {},
   "outputs": [
    {
     "output_type": "execute_result",
     "data": {
      "text/plain": "['/Users/rgmax/Desktop/Ex2_验证码识别/data_via_RG/0290.png',\n '/Users/rgmax/Desktop/Ex2_验证码识别/data_via_RG/2393.png',\n '/Users/rgmax/Desktop/Ex2_验证码识别/data_via_RG/4070.png',\n '/Users/rgmax/Desktop/Ex2_验证码识别/data_via_RG/4088.png',\n '/Users/rgmax/Desktop/Ex2_验证码识别/data_via_RG/4300.png',\n '/Users/rgmax/Desktop/Ex2_验证码识别/data_via_RG/5261.png',\n '/Users/rgmax/Desktop/Ex2_验证码识别/data_via_RG/7160.png',\n '/Users/rgmax/Desktop/Ex2_验证码识别/data_via_RG/8225.png',\n '/Users/rgmax/Desktop/Ex2_验证码识别/data_via_RG/8524.png',\n '/Users/rgmax/Desktop/Ex2_验证码识别/data_via_RG/9789.png']"
     },
     "metadata": {},
     "execution_count": 5
    }
   ],
   "source": [
    "captchas = [ os.path.join(DATA_DTR, img_name) for img_name in os.listdir(DATA_DTR)] \n",
    "captchas.sort() # 升序，注意不能 listA = listA.sort(), sort没有返回值\n",
    "captchas"
   ]
  },
  {
   "cell_type": "code",
   "execution_count": 6,
   "metadata": {},
   "outputs": [
    {
     "output_type": "stream",
     "name": "stdout",
     "text": "Character detached from captcha, character has been saved at /Users/rgmax/Desktop/Ex2_验证码识别/characters/0_1.png\nCharacter detached from captcha, character has been saved at /Users/rgmax/Desktop/Ex2_验证码识别/characters/3_1.png\nCharacter detached from captcha, character has been saved at /Users/rgmax/Desktop/Ex2_验证码识别/characters/0_3.png\nCharacter detached from captcha, character has been saved at /Users/rgmax/Desktop/Ex2_验证码识别/characters/8_1.png\nCharacter detached from captcha, character has been saved at /Users/rgmax/Desktop/Ex2_验证码识别/characters/0_6.png\nCharacter detached from captcha, character has been saved at /Users/rgmax/Desktop/Ex2_验证码识别/characters/1.png\nCharacter detached from captcha, character has been saved at /Users/rgmax/Desktop/Ex2_验证码识别/characters/0_7.png\nCharacter detached from captcha, character has been saved at /Users/rgmax/Desktop/Ex2_验证码识别/characters/5_1.png\nCharacter detached from captcha, character has been saved at /Users/rgmax/Desktop/Ex2_验证码识别/characters/4_3.png\nCharacter detached from captcha, character has been saved at /Users/rgmax/Desktop/Ex2_验证码识别/characters/9_3.png\n"
    }
   ],
   "source": [
    "for captcha in captchas:\n",
    "    captcha_character_detach(captcha, CHARACTER_DIR)\n"
   ]
  }
 ],
 "metadata": {
  "language_info": {
   "codemirror_mode": {
    "name": "ipython",
    "version": 3
   },
   "file_extension": ".py",
   "mimetype": "text/x-python",
   "name": "python",
   "nbconvert_exporter": "python",
   "pygments_lexer": "ipython3",
   "version": "3.7.5-final"
  },
  "orig_nbformat": 2,
  "kernelspec": {
   "name": "python37564bit7864ce697006450d81c3f54dae018d4c",
   "display_name": "Python 3.7.5 64-bit"
  }
 },
 "nbformat": 4,
 "nbformat_minor": 2
}