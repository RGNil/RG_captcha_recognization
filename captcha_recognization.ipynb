{
 "cells": [
  {
   "cell_type": "markdown",
   "metadata": {},
   "source": [
    "参考资料：\n",
    "+ https://blog.csdn.net/shebao3333/article/details/78808066 - 好\n",
    "+ https://blog.csdn.net/xdzhangzhenhao/article/details/81147838\n",
    "+ "
   ]
  },
  {
   "cell_type": "code",
   "execution_count": 1,
   "metadata": {},
   "outputs": [],
   "source": [
    "import os\n",
    "import numpy as np \n",
    "import pandas as pd \n",
    "from cv2 import cv2 as cv\n",
    "import matplotlib\n",
    "import matplotlib.pyplot as plt \n",
    "\n",
    "\n",
    "ROOT_DIR = os.getcwd()\n",
    "TRAIN_DATA = os.path.join(ROOT_DIR, 'digits_data')\n",
    "TEST_DATA_CAP = os.path.join(ROOT_DIR, 'captcha_test_data')\n",
    "TEST_DATA_CHAR = os.path.join(ROOT_DIR, 'character_test_data')"
   ]
  },
  {
   "cell_type": "markdown",
   "metadata": {},
   "source": [
    "下面的一个cell的代码是分割captha"
   ]
  },
  {
   "cell_type": "code",
   "execution_count": 2,
   "metadata": {},
   "outputs": [],
   "source": [
    "# 为了方便图片直接显示在jupyter中，cv的imshow不能直接在jupyter中显示\n",
    "# 为了用matplotlib显示（ 不能用plt.show()，要用plt.imshow() ）\n",
    "# 由于CV的通道是BGR顺序，而matpotlib是 RGB顺序，这里要做通道转换\n",
    "# 方法一\n",
    "def bgr2rgb_v2(img):\n",
    "    # 用cv自带的分割和合并函数\n",
    "    B,G,R = cv.split(img)\n",
    "    return cv.merge([R,G,B])\n",
    "# 方法二\n",
    "def bgr2rgb(img):\n",
    "    # 直接用python切片特性，[start: end: step], 这里start end为空，则默认遍历全部，step为-1则倒序遍历\n",
    "    return img[:, :, ::-1]\n",
    "\n",
    "def genNeedImg(img_path, img_type='binary', binary_therhold=127, \n",
    "               binary_reverse=False, size=None, save=False, path='./'):\n",
    "    '''\n",
    "    用于生成指定大小的灰度图或二值图, img_path为图像路径\n",
    "    type为标志转换类型，默认为binary，可选的值为binary或gray\n",
    "    binary_therhold为二值图划分阈值，默认127（即大于127的像素设置为255，否则置0）\n",
    "    binary_reverse默认为False，True时黑白颠倒（即大于127的像素设置为0，否则置255）\n",
    "    size为tuple类型，用于指定生成图像的尺寸, 如：(512,512)，默认为None表示输出原图像尺寸\n",
    "    save为保存标志，默认为False，为true时将生成的图保存到path(默认为当前文件夹)\n",
    "    '''\n",
    "    img_raw = cv.imread(img_path)\n",
    "    if size != None: # 调整图像尺寸\n",
    "        img_raw= cv.resize(img_raw,size)\n",
    "    img_gray = cv.cvtColor(img_raw,cv.COLOR_RGB2GRAY) # 转换颜色空间为灰度\n",
    "    # Add some extra padding around the image\n",
    "    # img_gray = cv.copyMakeBorder(img_gray, 8, 8, 8, 8, cv.BORDER_REPLICATE)\n",
    "    img_name = img_path[9:].split('.')[0] # 获取图像原始名称\n",
    "    if img_type == 'gray': # 生成灰度图\n",
    "        if save:\n",
    "            cv.imwrite(os.path.join(path,'{}_gray.bmp'.format(img_name)),img_gray)\n",
    "            print('Gray image saved at {}'.format(os.path.join(path,'{}_gray.bmp'.format(img_name))))\n",
    "        else:\n",
    "            print('Gray image generated!')\n",
    "            return img_gray\n",
    "    else: # 生成二值图\n",
    "        if binary_reverse:\n",
    "            ret, img_binary = cv.threshold(img_gray,binary_therhold,255,cv.THRESH_BINARY_INV) #反二进制阈值化\n",
    "        else:\n",
    "            ret, img_binary = cv.threshold(img_gray,binary_therhold,255,cv.THRESH_BINARY)# 二进制阈值化\n",
    "        if save:\n",
    "            cv.imwrite(os.path.join(path,'{}_binary.bmp'.format(img_name)),img_binary)\n",
    "            print('threshold:{}'.format(ret)) # 输出转换阈值\n",
    "            print('Binary image savd at {}'.format(os.path.join(path,'{}_binary.bmp'.format(img_name))))\n",
    "        else:\n",
    "            print('Binary image generated!')\n",
    "            print('threshold:{}'.format(ret)) # 输出转换阈值\n",
    "            return img_binary\n",
    "\n",
    "def captcha_character_detach(captcha_img_path, save_flag=False, characters_save_path='./', captcha_len=4):\n",
    "    '''\n",
    "    这个函数是用于获取训练集时用来分割captcha的，所以会记录验证码名字\n",
    "    传入的验证码必须带有标签，验证码命名就是标签名，如 1415.png\n",
    "    '''\n",
    "    captcha_img_basename = os.path.basename(captcha_img_path) # 从路径中提取带后缀文件名，如 '0415.png'\n",
    "    captcha_text = os.path.splitext(captcha_img_basename)[0] # ['0415', 'png']\n",
    "    img_gray = cv.imread(captcha_img_path, cv.IMREAD_GRAYSCALE) # 灰度图读入\n",
    "    img_binary = genNeedImg(captcha_img_path, img_type='binary', binary_therhold=127, binary_reverse=True) # 直接调用genNeedImg生成二值图\n",
    "    contours, hierarchy = cv.findContours(img_binary, cv.RETR_EXTERNAL, cv.CHAIN_APPROX_SIMPLE) # 划分字符轮廓\n",
    "    # 由于直接划分的轮廓太多了（我换了字体后好像不会划分很多），这里考虑记录每个每个轮廓的数据，然后取 wxh （长x宽，即面积）的top4\n",
    "    boundings = [cv.boundingRect(contour) for contour in contours] # 获取每个轮廓的信息，(x,y,width,height) x,y为轮廓最左上角坐标\n",
    "    boundings.sort(key=lambda tuple_x: tuple_x[2]*tuple_x[3], reverse=True) # lamdba传入的就是计算每个轮廓的面积，然后按面积大小降序排序\n",
    "    if len(boundings) < captcha_len: # 获取到的轮廓小于4，则说明没有把4个字符都区分开来\n",
    "        print('Bondings less then 4, captcha discarded!')\n",
    "        return # 直接结束，丢弃这个验证码样本\n",
    "    '''\n",
    "    # 下面开始画矩形分割框，这部分其实用不到，只是为了调试看画的样子\n",
    "    # -----------------------------------------------------------------------------------------\n",
    "    temp_img = cv.imread(captcha_img_path, cv.IMREAD_UNCHANGED) # 以原始格式读入图片\n",
    "    temp_img = bgr2rgb(temp_img) # 通道转换\n",
    "    for bounding in boundings[:4]: # 取面积最大的前4个轮廓\n",
    "        x, y, width, height = bounding\n",
    "        img_addBox = cv.rectangle(temp_img, (x,y), (x + width, y + height), (0, 255, 0), 1)\n",
    "    plt.imshow(img_addBox, cmap='gray')\n",
    "    # ------------------------------------------------------------------------------------------\n",
    "    '''\n",
    "    boundings_save = sorted(boundings[:captcha_len], key=lambda tuple_x: tuple_x[0]) # 按轮廓的x坐标大小排序，tuple_x=(x,y,width,height) \n",
    "    character_splited = []\n",
    "    for character_bounding, character_text in zip(boundings_save, captcha_text):\n",
    "        x, y, width, height = character_bounding\n",
    "        margin = 2 # 提取单个字符的时候，在获取的轮廓拓宽margin个像素，因为findContours()的轮廓可能很紧凑\n",
    "        character_img = img_gray[y - margin:y + height + margin, x - margin:x + width + margin]\n",
    "        if save_flag:\n",
    "            if not os.path.exists(characters_save_path): # 如果要保存的路径不存在就创建该路径目录\n",
    "                os.makedirs(characters_save_path)\n",
    "            character_path = os.path.join(characters_save_path, '{}_0.png'.format(character_text))\n",
    "            i = 0\n",
    "            while True:\n",
    "                i += 1\n",
    "                if os.path.exists(character_path): # 该字符已经有样本，则在正确标签后面加_i, i标记重复次数\n",
    "                    character_path = os.path.join(characters_save_path, '{}_{}.png'.format(character_text, i))\n",
    "                else: # 不存在重名路径，则跳出\n",
    "                    break\n",
    "            cv.imwrite(character_path, character_img)\n",
    "            print('Character detached from captcha, character has been saved at {}'.format(characters_save_path))\n",
    "        character_splited.append(character_img)\n",
    "    return character_splited"
   ]
  },
  {
   "cell_type": "code",
   "execution_count": 3,
   "metadata": {},
   "outputs": [],
   "source": [
    "def captcha_char_detach(captcha_img_path, captcha_len=4):\n",
    "    '''\n",
    "    本函数在captcha_character_detach基础上，去除了识别验证码标签和保存分割的字符两个功能\n",
    "    这个函数是用于单纯分割captcha的，用于验证码识别时分割字符用\n",
    "    传入的验证码为需要检测识别的对象，可以不带标签\n",
    "    '''\n",
    "    img_gray = cv.imread(captcha_img_path, cv.IMREAD_GRAYSCALE) # 灰度图读入\n",
    "    img_binary = genNeedImg(captcha_img_path, img_type='binary', binary_therhold=127, \n",
    "                            binary_reverse=True) # 直接调用genNeedImg生成二值图\n",
    "    contours, hierarchy = cv.findContours(img_binary, cv.RETR_EXTERNAL, cv.CHAIN_APPROX_SIMPLE) # 划分字符轮廓\n",
    "    # 由于直接划分的轮廓太多了（我换了字体后好像不会划分很多），这里考虑记录每个每个轮廓的数据，然后取 wxh （长x宽，即面积）的top4\n",
    "    boundings = [cv.boundingRect(contour) for contour in contours] # 获取每个轮廓的信息，(x,y,width,height) x,y为轮廓最左上角坐标\n",
    "    boundings.sort(key=lambda tuple_x: tuple_x[2]*tuple_x[3], reverse=True) # lamdba传入的就是计算每个轮廓的面积，然后按面积大小降序排序\n",
    "    if len(boundings) < captcha_len: # 获取到的轮廓小于4，则说明没有把4个字符都区分开来\n",
    "        print('Bondings less then {}, captcha discarded!'.format(captcha_len))\n",
    "        return # 直接结束，丢弃这个验证码样本\n",
    "    boundings_save = sorted(boundings[:captcha_len], key=lambda tuple_x: tuple_x[0]) # 按轮廓的x坐标大小排序，tuple_x=(x,y,width,height) \n",
    "    character_splited = []\n",
    "    for character_bounding in boundings_save:\n",
    "        x, y, width, height = character_bounding\n",
    "        margin = 2 # 提取单个字符的时候，在获取的轮廓拓宽margin个像素，因为findContours()的轮廓可能很紧凑\n",
    "        character_img = img_gray[y - margin:y + height + margin, x - margin:x + width + margin]\n",
    "        character_splited.append(character_img)\n",
    "    return character_splited # 返回的是灰度图"
   ]
  },
  {
   "cell_type": "code",
   "execution_count": 4,
   "metadata": {},
   "outputs": [
    {
     "output_type": "stream",
     "name": "stdout",
     "text": "Binary image generated!\nthreshold:127.0\nBinary image generated!\nthreshold:127.0\nBinary image generated!\nthreshold:127.0\nBinary image generated!\nthreshold:127.0\nBinary image generated!\nthreshold:127.0\nBinary image generated!\nthreshold:127.0\nBinary image generated!\nthreshold:127.0\nBinary image generated!\nthreshold:127.0\nBinary image generated!\nthreshold:127.0\nBinary image generated!\nthreshold:127.0\nBinary image generated!\nthreshold:127.0\nBinary image generated!\nthreshold:127.0\nBinary image generated!\nthreshold:127.0\nBinary image generated!\nthreshold:127.0\nBinary image generated!\nthreshold:127.0\nBinary image generated!\nthreshold:127.0\nBinary image generated!\nthreshold:127.0\nBinary image generated!\nthreshold:127.0\nBinary image generated!\nthreshold:127.0\nBinary image generated!\nthreshold:127.0\nBinary image generated!\nthreshold:127.0\nBinary image generated!\nthreshold:127.0\nBinary image generated!\nthreshold:127.0\nBinary image generated!\nthreshold:127.0\nBinary image generated!\nthreshold:127.0\nBinary image generated!\nthreshold:127.0\nBinary image generated!\nthreshold:127.0\nBinary image generated!\nthreshold:127.0\nBinary image generated!\nthreshold:127.0\nBinary image generated!\nthreshold:127.0\nBinary image generated!\nthreshold:127.0\nBinary image generated!\nthreshold:127.0\nBinary image generated!\nthreshold:127.0\nBinary image generated!\nthreshold:127.0\nBinary image generated!\nthreshold:127.0\nBinary image generated!\nthreshold:127.0\nBinary image generated!\nthreshold:127.0\nBinary image generated!\nthreshold:127.0\nBinary image generated!\nthreshold:127.0\nBinary image generated!\nthreshold:127.0\nBinary image generated!\nthreshold:127.0\nBinary image generated!\nthreshold:127.0\nBinary image generated!\nthreshold:127.0\nBinary image generated!\nthreshold:127.0\nBinary image generated!\nthreshold:127.0\nBinary image generated!\nthreshold:127.0\nBinary image generated!\nthreshold:127.0\nBinary image generated!\nthreshold:127.0\nBinary image generated!\nthreshold:127.0\nBinary image generated!\nthreshold:127.0\nBinary image generated!\nthreshold:127.0\nBinary image generated!\nthreshold:127.0\nBinary image generated!\nthreshold:127.0\nBinary image generated!\nthreshold:127.0\nBinary image generated!\nthreshold:127.0\nBinary image generated!\nthreshold:127.0\nBinary image generated!\nthreshold:127.0\nBinary image generated!\nthreshold:127.0\nBinary image generated!\nthreshold:127.0\nBinary image generated!\nthreshold:127.0\nBinary image generated!\nthreshold:127.0\nBinary image generated!\nthreshold:127.0\nBinary image generated!\nthreshold:127.0\nBinary image generated!\nthreshold:127.0\nBinary image generated!\nthreshold:127.0\nBinary image generated!\nthreshold:127.0\nBinary image generated!\nthreshold:127.0\nBinary image generated!\nthreshold:127.0\nBinary image generated!\nthreshold:127.0\nBinary image generated!\nthreshold:127.0\nBinary image generated!\nthreshold:127.0\nBinary image generated!\nthreshold:127.0\nBinary image generated!\nthreshold:127.0\nBinary image generated!\nthreshold:127.0\nBinary image generated!\nthreshold:127.0\nBinary image generated!\nthreshold:127.0\nBinary image generated!\nthreshold:127.0\nBinary image generated!\nthreshold:127.0\nBinary image generated!\nthreshold:127.0\nBinary image generated!\nthreshold:127.0\nBinary image generated!\nthreshold:127.0\nBinary image generated!\nthreshold:127.0\nBinary image generated!\nthreshold:127.0\nBinary image generated!\nthreshold:127.0\nBinary image generated!\nthreshold:127.0\nBinary image generated!\nthreshold:127.0\nBinary image generated!\nthreshold:127.0\nBinary image generated!\nthreshold:127.0\nBinary image generated!\nthreshold:127.0\nBinary image generated!\nthreshold:127.0\nBinary image generated!\nthreshold:127.0\nBinary image generated!\nthreshold:127.0\nBinary image generated!\nthreshold:127.0\nBinary image generated!\nthreshold:127.0\nBinary image generated!\nthreshold:127.0\nBinary image generated!\nthreshold:127.0\nBinary image generated!\nthreshold:127.0\nBinary image generated!\nthreshold:127.0\nBinary image generated!\nthreshold:127.0\nBinary image generated!\nthreshold:127.0\nBinary image generated!\nthreshold:127.0\nBinary image generated!\nthreshold:127.0\nBinary image generated!\nthreshold:127.0\nBinary image generated!\nthreshold:127.0\nBinary image generated!\nthreshold:127.0\nBinary image generated!\nthreshold:127.0\nBinary image generated!\nthreshold:127.0\nBinary image generated!\nthreshold:127.0\nBinary image generated!\nthreshold:127.0\nBinary image generated!\nthreshold:127.0\nBinary image generated!\nthreshold:127.0\nBinary image generated!\nthreshold:127.0\nBinary image generated!\nthreshold:127.0\nBinary image generated!\nthreshold:127.0\nBinary image generated!\nthreshold:127.0\nBinary image generated!\nthreshold:127.0\nBinary image generated!\nthreshold:127.0\nBinary image generated!\nthreshold:127.0\nBinary image generated!\nthreshold:127.0\nBinary image generated!\nthreshold:127.0\nBinary image generated!\nthreshold:127.0\nBinary image generated!\nthreshold:127.0\nBinary image generated!\nthreshold:127.0\nBinary image generated!\nthreshold:127.0\nBinary image generated!\nthreshold:127.0\nBinary image generated!\nthreshold:127.0\nBinary image generated!\nthreshold:127.0\nBinary image generated!\nthreshold:127.0\nBinary image generated!\nthreshold:127.0\nBinary image generated!\nthreshold:127.0\nBinary image generated!\nthreshold:127.0\nBinary image generated!\nthreshold:127.0\nBinary image generated!\nthreshold:127.0\nBinary image generated!\nthreshold:127.0\nBinary image generated!\nthreshold:127.0\nBinary image generated!\nthreshold:127.0\nBinary image generated!\nthreshold:127.0\nBinary image generated!\nthreshold:127.0\nBinary image generated!\nthreshold:127.0\nBinary image generated!\nthreshold:127.0\nBinary image generated!\nthreshold:127.0\nBinary image generated!\nthreshold:127.0\nBinary image generated!\nthreshold:127.0\nBinary image generated!\nthreshold:127.0\nBinary image generated!\nthreshold:127.0\nBinary image generated!\nthreshold:127.0\nBinary image generated!\nthreshold:127.0\nBinary image generated!\nthreshold:127.0\nBinary image generated!\nthreshold:127.0\nBinary image generated!\nthreshold:127.0\nBinary image generated!\nthreshold:127.0\nBinary image generated!\nthreshold:127.0\nBinary image generated!\nthreshold:127.0\nBinary image generated!\nthreshold:127.0\nBinary image generated!\nthreshold:127.0\nBinary image generated!\nthreshold:127.0\nBinary image generated!\nthreshold:127.0\nBinary image generated!\nthreshold:127.0\nBinary image generated!\nthreshold:127.0\nBinary image generated!\nthreshold:127.0\nBinary image generated!\nthreshold:127.0\nBinary image generated!\nthreshold:127.0\nBinary image generated!\nthreshold:127.0\nBinary image generated!\nthreshold:127.0\nBinary image generated!\nthreshold:127.0\nBinary image generated!\nthreshold:127.0\nBinary image generated!\nthreshold:127.0\nBinary image generated!\nthreshold:127.0\nBinary image generated!\nthreshold:127.0\nBinary image generated!\nthreshold:127.0\nBinary image generated!\nthreshold:127.0\nBinary image generated!\nthreshold:127.0\nBinary image generated!\nthreshold:127.0\nBinary image generated!\nthreshold:127.0\nBinary image generated!\nthreshold:127.0\nBinary image generated!\nthreshold:127.0\nBinary image generated!\nthreshold:127.0\nBinary image generated!\nthreshold:127.0\nBinary image generated!\nthreshold:127.0\nBinary image generated!\nthreshold:127.0\nBinary image generated!\nthreshold:127.0\nBinary image generated!\nthreshold:127.0\nBinary image generated!\nthreshold:127.0\nBinary image generated!\nthreshold:127.0\nBinary image generated!\nthreshold:127.0\nBinary image generated!\nthreshold:127.0\nBinary image generated!\nthreshold:127.0\nBinary image generated!\nthreshold:127.0\nBinary image generated!\nthreshold:127.0\nBinary image generated!\nthreshold:127.0\nBinary image generated!\nthreshold:127.0\nBinary image generated!\nthreshold:127.0\nBinary image generated!\nthreshold:127.0\nBinary image generated!\nthreshold:127.0\nBinary image generated!\nthreshold:127.0\nBinary image generated!\nthreshold:127.0\nBinary image generated!\nthreshold:127.0\nBinary image generated!\nthreshold:127.0\nBinary image generated!\nthreshold:127.0\nBinary image generated!\nthreshold:127.0\nBinary image generated!\nthreshold:127.0\nBinary image generated!\nthreshold:127.0\nBinary image generated!\nthreshold:127.0\nBinary image generated!\nthreshold:127.0\nBinary image generated!\nthreshold:127.0\nBinary image generated!\nthreshold:127.0\nBinary image generated!\nthreshold:127.0\nBinary image generated!\nthreshold:127.0\nBinary image generated!\nthreshold:127.0\nBinary image generated!\nthreshold:127.0\nBinary image generated!\nthreshold:127.0\nBinary image generated!\nthreshold:127.0\nBinary image generated!\nthreshold:127.0\nBinary image generated!\nthreshold:127.0\nBinary image generated!\nthreshold:127.0\nBinary image generated!\nthreshold:127.0\nBinary image generated!\nthreshold:127.0\nBinary image generated!\nthreshold:127.0\nBinary image generated!\nthreshold:127.0\nBinary image generated!\nthreshold:127.0\nBinary image generated!\nthreshold:127.0\nBinary image generated!\nthreshold:127.0\nBinary image generated!\nthreshold:127.0\nBinary image generated!\nthreshold:127.0\nBinary image generated!\nthreshold:127.0\nBinary image generated!\nthreshold:127.0\nBinary image generated!\nthreshold:127.0\nBinary image generated!\nthreshold:127.0\nBinary image generated!\nthreshold:127.0\nBinary image generated!\nthreshold:127.0\nBinary image generated!\nthreshold:127.0\nBinary image generated!\nthreshold:127.0\nBinary image generated!\nthreshold:127.0\nBinary image generated!\nthreshold:127.0\nBinary image generated!\nthreshold:127.0\nBinary image generated!\nthreshold:127.0\nBinary image generated!\nthreshold:127.0\nBinary image generated!\nthreshold:127.0\nBinary image generated!\nthreshold:127.0\nBinary image generated!\nthreshold:127.0\nBinary image generated!\nthreshold:127.0\nBinary image generated!\nthreshold:127.0\nBinary image generated!\nthreshold:127.0\nBinary image generated!\nthreshold:127.0\nBinary image generated!\nthreshold:127.0\nBinary image generated!\nthreshold:127.0\nBinary image generated!\nthreshold:127.0\nBinary image generated!\nthreshold:127.0\nBinary image generated!\nthreshold:127.0\nBinary image generated!\nthreshold:127.0\n"
    }
   ],
   "source": [
    "def gen_data_set(captcha_imgs_folder, binary=False, binary_reverse=True):\n",
    "    '''\n",
    "    此函数用于创建 样本集和对应标签集合,返回的数据集是np.array类型\n",
    "    binary: 用于控制是否生成二值样本\n",
    "    '''\n",
    "    target_imgs = [ os.path.join(captcha_imgs_folder, img_name) \n",
    "                    for img_name in os.listdir(captcha_imgs_folder) if img_name != '.DS_Store' ] \n",
    "    target_imgs.sort() # 升序，注意不能 listA = listA.sort(), sort没有返回值\n",
    "    data_set, label_set = [], []\n",
    "    # 发现一个问题，如果先变成二值图，再进行resize会导致出现非0、255的像素，见上一个cell测试\n",
    "    # 故这里再genNeedImg时候，指定20x20尺寸\n",
    "    for captcha in target_imgs:\n",
    "        if binary:\n",
    "            img = genNeedImg(captcha, size=(20,20), binary_reverse=binary_reverse) # 生成20x20大小的二值图\n",
    "        else:\n",
    "            img = cv.imread(captcha, cv.IMREAD_GRAYSCALE) # 以灰度图读入验证码/单个字符的图\n",
    "            img = cv.resize(img, (20,20)) # 调整尺寸到20x20\n",
    "        img = img.reshape(400,)  # reshape成一维数组（sklearn用kNN时需要的格式）\n",
    "        data_set.append(img)\n",
    "        label_set.append(os.path.basename(captcha)[0])\n",
    "    return np.array(data_set), np.array(label_set)\n",
    "\n",
    "data_set, label_set = gen_data_set(TRAIN_DATA, binary=True)\n",
    "# label_set\n",
    "# plt.imshow(data_set[8])\n",
    "# data_set[0]"
   ]
  },
  {
   "cell_type": "markdown",
   "metadata": {},
   "source": [
    "## 下面用sklearn的kNN工具来做训练和预测"
   ]
  },
  {
   "cell_type": "code",
   "execution_count": 5,
   "metadata": {},
   "outputs": [
    {
     "output_type": "execute_result",
     "data": {
      "text/plain": "KNeighborsClassifier(algorithm='auto', leaf_size=30, metric='minkowski',\n                     metric_params=None, n_jobs=None, n_neighbors=3, p=2,\n                     weights='uniform')"
     },
     "metadata": {},
     "execution_count": 5
    }
   ],
   "source": [
    "from sklearn.neighbors import KNeighborsClassifier\n",
    "\n",
    "kNN_classifier = KNeighborsClassifier(n_neighbors=3)\n",
    "kNN_classifier"
   ]
  },
  {
   "cell_type": "markdown",
   "metadata": {},
   "source": [
    "### 看了一下https://blog.csdn.net/xdzhangzhenhao/article/details/81147838\n",
    "### 测试发现，sklearn中的kNN需要的数据的shape必须是 (n,) 也就是一维数组，所以gen_data_set()中会有规整化数据的操作"
   ]
  },
  {
   "cell_type": "code",
   "execution_count": 6,
   "metadata": {},
   "outputs": [
    {
     "output_type": "execute_result",
     "data": {
      "text/plain": "KNeighborsClassifier(algorithm='auto', leaf_size=30, metric='minkowski',\n                     metric_params=None, n_jobs=None, n_neighbors=3, p=2,\n                     weights='uniform')"
     },
     "metadata": {},
     "execution_count": 6
    }
   ],
   "source": [
    "X_train, y_train = data_set, label_set\n",
    "kNN_classifier.fit(X_train, y_train) "
   ]
  },
  {
   "cell_type": "code",
   "execution_count": 7,
   "metadata": {},
   "outputs": [
    {
     "output_type": "stream",
     "name": "stdout",
     "text": "Binary image generated!\nthreshold:127.0\nBinary image generated!\nthreshold:127.0\nBinary image generated!\nthreshold:127.0\nBinary image generated!\nthreshold:127.0\nBinary image generated!\nthreshold:127.0\nBinary image generated!\nthreshold:127.0\nBinary image generated!\nthreshold:127.0\nBinary image generated!\nthreshold:127.0\nBinary image generated!\nthreshold:127.0\nBinary image generated!\nthreshold:127.0\nBinary image generated!\nthreshold:127.0\nBinary image generated!\nthreshold:127.0\nBinary image generated!\nthreshold:127.0\nBinary image generated!\nthreshold:127.0\nBinary image generated!\nthreshold:127.0\nBinary image generated!\nthreshold:127.0\nBinary image generated!\nthreshold:127.0\nBinary image generated!\nthreshold:127.0\nBinary image generated!\nthreshold:127.0\nBinary image generated!\nthreshold:127.0\nBinary image generated!\nthreshold:127.0\nBinary image generated!\nthreshold:127.0\nBinary image generated!\nthreshold:127.0\nBinary image generated!\nthreshold:127.0\nBinary image generated!\nthreshold:127.0\nBinary image generated!\nthreshold:127.0\nBinary image generated!\nthreshold:127.0\nBinary image generated!\nthreshold:127.0\nBinary image generated!\nthreshold:127.0\nBinary image generated!\nthreshold:127.0\nBinary image generated!\nthreshold:127.0\nBinary image generated!\nthreshold:127.0\nBinary image generated!\nthreshold:127.0\nBinary image generated!\nthreshold:127.0\nBinary image generated!\nthreshold:127.0\nBinary image generated!\nthreshold:127.0\nBinary image generated!\nthreshold:127.0\nBinary image generated!\nthreshold:127.0\nBinary image generated!\nthreshold:127.0\nBinary image generated!\nthreshold:127.0\nBinary image generated!\nthreshold:127.0\nBinary image generated!\nthreshold:127.0\nBinary image generated!\nthreshold:127.0\nBinary image generated!\nthreshold:127.0\nBinary image generated!\nthreshold:127.0\nBinary image generated!\nthreshold:127.0\nBinary image generated!\nthreshold:127.0\nBinary image generated!\nthreshold:127.0\nBinary image generated!\nthreshold:127.0\nBinary image generated!\nthreshold:127.0\nBinary image generated!\nthreshold:127.0\nBinary image generated!\nthreshold:127.0\nBinary image generated!\nthreshold:127.0\nBinary image generated!\nthreshold:127.0\nBinary image generated!\nthreshold:127.0\nBinary image generated!\nthreshold:127.0\nBinary image generated!\nthreshold:127.0\nBinary image generated!\nthreshold:127.0\nBinary image generated!\nthreshold:127.0\nBinary image generated!\nthreshold:127.0\nBinary image generated!\nthreshold:127.0\nBinary image generated!\nthreshold:127.0\nBinary image generated!\nthreshold:127.0\nBinary image generated!\nthreshold:127.0\nBinary image generated!\nthreshold:127.0\nBinary image generated!\nthreshold:127.0\nBinary image generated!\nthreshold:127.0\nBinary image generated!\nthreshold:127.0\nBinary image generated!\nthreshold:127.0\nBinary image generated!\nthreshold:127.0\nBinary image generated!\nthreshold:127.0\nBinary image generated!\nthreshold:127.0\nBinary image generated!\nthreshold:127.0\nBinary image generated!\nthreshold:127.0\nBinary image generated!\nthreshold:127.0\nBinary image generated!\nthreshold:127.0\nBinary image generated!\nthreshold:127.0\nBinary image generated!\nthreshold:127.0\nBinary image generated!\nthreshold:127.0\nBinary image generated!\nthreshold:127.0\nBinary image generated!\nthreshold:127.0\nBinary image generated!\nthreshold:127.0\nBinary image generated!\nthreshold:127.0\nBinary image generated!\nthreshold:127.0\nBinary image generated!\nthreshold:127.0\nBinary image generated!\nthreshold:127.0\nBinary image generated!\nthreshold:127.0\nBinary image generated!\nthreshold:127.0\nBinary image generated!\nthreshold:127.0\nBinary image generated!\nthreshold:127.0\nBinary image generated!\nthreshold:127.0\nBinary image generated!\nthreshold:127.0\nBinary image generated!\nthreshold:127.0\nBinary image generated!\nthreshold:127.0\nBinary image generated!\nthreshold:127.0\nBinary image generated!\nthreshold:127.0\nBinary image generated!\nthreshold:127.0\nBinary image generated!\nthreshold:127.0\nBinary image generated!\nthreshold:127.0\nBinary image generated!\nthreshold:127.0\nBinary image generated!\nthreshold:127.0\nBinary image generated!\nthreshold:127.0\nBinary image generated!\nthreshold:127.0\nBinary image generated!\nthreshold:127.0\nBinary image generated!\nthreshold:127.0\nBinary image generated!\nthreshold:127.0\nBinary image generated!\nthreshold:127.0\nBinary image generated!\nthreshold:127.0\nBinary image generated!\nthreshold:127.0\nBinary image generated!\nthreshold:127.0\nBinary image generated!\nthreshold:127.0\nBinary image generated!\nthreshold:127.0\nBinary image generated!\nthreshold:127.0\nBinary image generated!\nthreshold:127.0\nBinary image generated!\nthreshold:127.0\nBinary image generated!\nthreshold:127.0\nBinary image generated!\nthreshold:127.0\nBinary image generated!\nthreshold:127.0\nBinary image generated!\nthreshold:127.0\nBinary image generated!\nthreshold:127.0\nBinary image generated!\nthreshold:127.0\nBinary image generated!\nthreshold:127.0\nBinary image generated!\nthreshold:127.0\nBinary image generated!\nthreshold:127.0\nBinary image generated!\nthreshold:127.0\nBinary image generated!\nthreshold:127.0\nBinary image generated!\nthreshold:127.0\nBinary image generated!\nthreshold:127.0\nBinary image generated!\nthreshold:127.0\nBinary image generated!\nthreshold:127.0\nBinary image generated!\nthreshold:127.0\nBinary image generated!\nthreshold:127.0\nBinary image generated!\nthreshold:127.0\nBinary image generated!\nthreshold:127.0\nBinary image generated!\nthreshold:127.0\nBinary image generated!\nthreshold:127.0\nBinary image generated!\nthreshold:127.0\nBinary image generated!\nthreshold:127.0\nBinary image generated!\nthreshold:127.0\nBinary image generated!\nthreshold:127.0\nBinary image generated!\nthreshold:127.0\nBinary image generated!\nthreshold:127.0\nBinary image generated!\nthreshold:127.0\nBinary image generated!\nthreshold:127.0\nBinary image generated!\nthreshold:127.0\nBinary image generated!\nthreshold:127.0\nBinary image generated!\nthreshold:127.0\nBinary image generated!\nthreshold:127.0\nBinary image generated!\nthreshold:127.0\nBinary image generated!\nthreshold:127.0\nBinary image generated!\nthreshold:127.0\nBinary image generated!\nthreshold:127.0\nBinary image generated!\nthreshold:127.0\nBinary image generated!\nthreshold:127.0\nBinary image generated!\nthreshold:127.0\nBinary image generated!\nthreshold:127.0\nBinary image generated!\nthreshold:127.0\nBinary image generated!\nthreshold:127.0\nBinary image generated!\nthreshold:127.0\nBinary image generated!\nthreshold:127.0\nBinary image generated!\nthreshold:127.0\nBinary image generated!\nthreshold:127.0\nBinary image generated!\nthreshold:127.0\nBinary image generated!\nthreshold:127.0\nBinary image generated!\nthreshold:127.0\nBinary image generated!\nthreshold:127.0\nBinary image generated!\nthreshold:127.0\nBinary image generated!\nthreshold:127.0\nBinary image generated!\nthreshold:127.0\nBinary image generated!\nthreshold:127.0\nBinary image generated!\nthreshold:127.0\nBinary image generated!\nthreshold:127.0\nBinary image generated!\nthreshold:127.0\nBinary image generated!\nthreshold:127.0\nBinary image generated!\nthreshold:127.0\nBinary image generated!\nthreshold:127.0\nBinary image generated!\nthreshold:127.0\nBinary image generated!\nthreshold:127.0\nBinary image generated!\nthreshold:127.0\nBinary image generated!\nthreshold:127.0\nBinary image generated!\nthreshold:127.0\nBinary image generated!\nthreshold:127.0\nBinary image generated!\nthreshold:127.0\nBinary image generated!\nthreshold:127.0\nBinary image generated!\nthreshold:127.0\nBinary image generated!\nthreshold:127.0\nBinary image generated!\nthreshold:127.0\nBinary image generated!\nthreshold:127.0\nBinary image generated!\nthreshold:127.0\nBinary image generated!\nthreshold:127.0\nBinary image generated!\nthreshold:127.0\nBinary image generated!\nthreshold:127.0\nBinary image generated!\nthreshold:127.0\nBinary image generated!\nthreshold:127.0\nBinary image generated!\nthreshold:127.0\nBinary image generated!\nthreshold:127.0\nBinary image generated!\nthreshold:127.0\nBinary image generated!\nthreshold:127.0\nBinary image generated!\nthreshold:127.0\nBinary image generated!\nthreshold:127.0\nBinary image generated!\nthreshold:127.0\nBinary image generated!\nthreshold:127.0\nBinary image generated!\nthreshold:127.0\nBinary image generated!\nthreshold:127.0\nBinary image generated!\nthreshold:127.0\nBinary image generated!\nthreshold:127.0\nBinary image generated!\nthreshold:127.0\nBinary image generated!\nthreshold:127.0\nBinary image generated!\nthreshold:127.0\nBinary image generated!\nthreshold:127.0\nBinary image generated!\nthreshold:127.0\nBinary image generated!\nthreshold:127.0\nBinary image generated!\nthreshold:127.0\nBinary image generated!\nthreshold:127.0\nBinary image generated!\nthreshold:127.0\nBinary image generated!\nthreshold:127.0\nBinary image generated!\nthreshold:127.0\nBinary image generated!\nthreshold:127.0\nBinary image generated!\nthreshold:127.0\nBinary image generated!\nthreshold:127.0\nBinary image generated!\nthreshold:127.0\nBinary image generated!\nthreshold:127.0\nBinary image generated!\nthreshold:127.0\nBinary image generated!\nthreshold:127.0\nBinary image generated!\nthreshold:127.0\nBinary image generated!\nthreshold:127.0\nBinary image generated!\nthreshold:127.0\nBinary image generated!\nthreshold:127.0\nBinary image generated!\nthreshold:127.0\nBinary image generated!\nthreshold:127.0\nBinary image generated!\nthreshold:127.0\nBinary image generated!\nthreshold:127.0\nBinary image generated!\nthreshold:127.0\nBinary image generated!\nthreshold:127.0\nBinary image generated!\nthreshold:127.0\nBinary image generated!\nthreshold:127.0\nBinary image generated!\nthreshold:127.0\nBinary image generated!\nthreshold:127.0\nBinary image generated!\nthreshold:127.0\nBinary image generated!\nthreshold:127.0\nBinary image generated!\nthreshold:127.0\nBinary image generated!\nthreshold:127.0\nBinary image generated!\nthreshold:127.0\nBinary image generated!\nthreshold:127.0\nBinary image generated!\nthreshold:127.0\nBinary image generated!\nthreshold:127.0\nBinary image generated!\nthreshold:127.0\nBinary image generated!\nthreshold:127.0\nBinary image generated!\nthreshold:127.0\nBinary image generated!\nthreshold:127.0\nBinary image generated!\nthreshold:127.0\nBinary image generated!\nthreshold:127.0\nBinary image generated!\nthreshold:127.0\nBinary image generated!\nthreshold:127.0\nBinary image generated!\nthreshold:127.0\nBinary image generated!\nthreshold:127.0\nBinary image generated!\nthreshold:127.0\nBinary image generated!\nthreshold:127.0\nBinary image generated!\nthreshold:127.0\nBinary image generated!\nthreshold:127.0\nBinary image generated!\nthreshold:127.0\nBinary image generated!\nthreshold:127.0\nBinary image generated!\nthreshold:127.0\nBinary image generated!\nthreshold:127.0\nBinary image generated!\nthreshold:127.0\nBinary image generated!\nthreshold:127.0\nBinary image generated!\nthreshold:127.0\nBinary image generated!\nthreshold:127.0\nBinary image generated!\nthreshold:127.0\nBinary image generated!\nthreshold:127.0\nBinary image generated!\nthreshold:127.0\nBinary image generated!\nthreshold:127.0\nBinary image generated!\nthreshold:127.0\nBinary image generated!\nthreshold:127.0\nBinary image generated!\nthreshold:127.0\nBinary image generated!\nthreshold:127.0\nBinary image generated!\nthreshold:127.0\nBinary image generated!\nthreshold:127.0\nBinary image generated!\nthreshold:127.0\nBinary image generated!\nthreshold:127.0\nBinary image generated!\nthreshold:127.0\nBinary image generated!\nthreshold:127.0\nBinary image generated!\nthreshold:127.0\nBinary image generated!\nthreshold:127.0\nBinary image generated!\nthreshold:127.0\nBinary image generated!\nthreshold:127.0\nBinary image generated!\nthreshold:127.0\nBinary image generated!\nthreshold:127.0\nBinary image generated!\nthreshold:127.0\nBinary image generated!\nthreshold:127.0\nBinary image generated!\nthreshold:127.0\nBinary image generated!\nthreshold:127.0\nBinary image generated!\nthreshold:127.0\nBinary image generated!\nthreshold:127.0\nBinary image generated!\nthreshold:127.0\nBinary image generated!\nthreshold:127.0\nBinary image generated!\nthreshold:127.0\nBinary image generated!\nthreshold:127.0\nBinary image generated!\nthreshold:127.0\nBinary image generated!\nthreshold:127.0\nBinary image generated!\nthreshold:127.0\nBinary image generated!\nthreshold:127.0\nBinary image generated!\nthreshold:127.0\nBinary image generated!\nthreshold:127.0\nBinary image generated!\nthreshold:127.0\nBinary image generated!\nthreshold:127.0\nBinary image generated!\nthreshold:127.0\nBinary image generated!\nthreshold:127.0\nBinary image generated!\nthreshold:127.0\nBinary image generated!\nthreshold:127.0\nBinary image generated!\nthreshold:127.0\nBinary image generated!\nthreshold:127.0\nBinary image generated!\nthreshold:127.0\nBinary image generated!\nthreshold:127.0\nBinary image generated!\nthreshold:127.0\nBinary image generated!\nthreshold:127.0\nBinary image generated!\nthreshold:127.0\nBinary image generated!\nthreshold:127.0\nBinary image generated!\nthreshold:127.0\nBinary image generated!\nthreshold:127.0\nBinary image generated!\nthreshold:127.0\nBinary image generated!\nthreshold:127.0\nBinary image generated!\nthreshold:127.0\nBinary image generated!\nthreshold:127.0\nBinary image generated!\nthreshold:127.0\nBinary image generated!\nthreshold:127.0\nBinary image generated!\nthreshold:127.0\nBinary image generated!\nthreshold:127.0\nBinary image generated!\nthreshold:127.0\nBinary image generated!\nthreshold:127.0\nBinary image generated!\nthreshold:127.0\nBinary image generated!\nthreshold:127.0\nBinary image generated!\nthreshold:127.0\nBinary image generated!\nthreshold:127.0\nBinary image generated!\nthreshold:127.0\nBinary image generated!\nthreshold:127.0\nBinary image generated!\nthreshold:127.0\nBinary image generated!\nthreshold:127.0\nBinary image generated!\nthreshold:127.0\nBinary image generated!\nthreshold:127.0\nBinary image generated!\nthreshold:127.0\nBinary image generated!\nthreshold:127.0\nBinary image generated!\nthreshold:127.0\nBinary image generated!\nthreshold:127.0\nBinary image generated!\nthreshold:127.0\nBinary image generated!\nthreshold:127.0\nBinary image generated!\nthreshold:127.0\nBinary image generated!\nthreshold:127.0\nBinary image generated!\nthreshold:127.0\nBinary image generated!\nthreshold:127.0\nBinary image generated!\nthreshold:127.0\nBinary image generated!\nthreshold:127.0\nBinary image generated!\nthreshold:127.0\nBinary image generated!\nthreshold:127.0\nBinary image generated!\nthreshold:127.0\nBinary image generated!\nthreshold:127.0\nBinary image generated!\nthreshold:127.0\nBinary image generated!\nthreshold:127.0\nBinary image generated!\nthreshold:127.0\nBinary image generated!\nthreshold:127.0\nBinary image generated!\nthreshold:127.0\nBinary image generated!\nthreshold:127.0\nBinary image generated!\nthreshold:127.0\nBinary image generated!\nthreshold:127.0\nBinary image generated!\nthreshold:127.0\nBinary image generated!\nthreshold:127.0\nBinary image generated!\nthreshold:127.0\nBinary image generated!\nthreshold:127.0\nBinary image generated!\nthreshold:127.0\nBinary image generated!\nthreshold:127.0\nBinary image generated!\nthreshold:127.0\nBinary image generated!\nthreshold:127.0\nBinary image generated!\nthreshold:127.0\nBinary image generated!\nthreshold:127.0\nBinary image generated!\nthreshold:127.0\nBinary image generated!\nthreshold:127.0\nBinary image generated!\nthreshold:127.0\nBinary image generated!\nthreshold:127.0\nBinary image generated!\nthreshold:127.0\nBinary image generated!\nthreshold:127.0\nBinary image generated!\nthreshold:127.0\nBinary image generated!\nthreshold:127.0\nBinary image generated!\nthreshold:127.0\nBinary image generated!\nthreshold:127.0\nBinary image generated!\nthreshold:127.0\nBinary image generated!\nthreshold:127.0\nBinary image generated!\nthreshold:127.0\nBinary image generated!\nthreshold:127.0\nBinary image generated!\nthreshold:127.0\nBinary image generated!\nthreshold:127.0\nBinary image generated!\nthreshold:127.0\nBinary image generated!\nthreshold:127.0\nBinary image generated!\nthreshold:127.0\nBinary image generated!\nthreshold:127.0\nBinary image generated!\nthreshold:127.0\nBinary image generated!\nthreshold:127.0\n"
    },
    {
     "output_type": "execute_result",
     "data": {
      "text/plain": "0      0\n1      0\n2      0\n3      0\n4      0\n      ..\n391    9\n392    9\n393    9\n394    9\n395    9\nLength: 396, dtype: object"
     },
     "metadata": {},
     "execution_count": 7
    }
   ],
   "source": [
    "X_test, y_test = gen_data_set(TEST_DATA_CHAR, binary=True)\n",
    "predicted_result = kNN_classifier.predict(X_test)\n",
    "predicted_result = pd.Series(predicted_result)\n",
    "predicted_result"
   ]
  },
  {
   "cell_type": "code",
   "execution_count": 8,
   "metadata": {},
   "outputs": [
    {
     "output_type": "execute_result",
     "data": {
      "text/plain": "0      0\n1      0\n2      0\n3      0\n4      0\n      ..\n391    9\n392    9\n393    9\n394    9\n395    9\nLength: 396, dtype: object"
     },
     "metadata": {},
     "execution_count": 8
    }
   ],
   "source": [
    "actual_result = pd.Series(y_test)\n",
    "actual_result"
   ]
  },
  {
   "cell_type": "code",
   "execution_count": 9,
   "metadata": {},
   "outputs": [],
   "source": [
    "def prediction_accuracy(predicted_results, actual_results):\n",
    "    '''\n",
    "    预测结果的正确率计算\n",
    "    predicted_results, actual_results都需要是pandas的Series对象\n",
    "    '''\n",
    "    compare = predicted_results == actual_results # 返回一个Series对象\n",
    "    if compare.value_counts().loc[False] == len(actual_results):\n",
    "        return 0\n",
    "    return compare.value_counts().loc[True] /  compare.count() # 预测和实际值匹配的占所有的比例"
   ]
  },
  {
   "cell_type": "code",
   "execution_count": 10,
   "metadata": {},
   "outputs": [
    {
     "output_type": "execute_result",
     "data": {
      "text/plain": "0.9848484848484849"
     },
     "metadata": {},
     "execution_count": 10
    }
   ],
   "source": [
    "prediction_accuracy(predicted_result, actual_result)"
   ]
  },
  {
   "cell_type": "markdown",
   "metadata": {},
   "source": [
    "### 下面我尝试自己实现一下kNN算法"
   ]
  },
  {
   "cell_type": "code",
   "execution_count": 11,
   "metadata": {},
   "outputs": [],
   "source": [
    "def judger(k_prediction):\n",
    "    '''\n",
    "    判决器，k_prediction是有权重的，索引最小代表该预测值和实际值相似度最大\n",
    "    但是，可能出现如：k=5，k_prediction=（7, 1, 2, 2, 2），这样的情况，我定预测结果为2\n",
    "    也就是，重复预测值个数 >= 预测值总数的2/3，则取该重复预测值\n",
    "    '''\n",
    "    k = len(k_prediction)\n",
    "    tmp = list(k_prediction)\n",
    "    [tmp.remove(i) for i in list(set(tmp))]\n",
    "    duplication = set(tmp) # 找出预测值中重复元素\n",
    "    if len(duplication) == 0:\n",
    "        return k_prediction[0] \n",
    "    if k_prediction[0] not in duplication: # 最接近的预测值不再重复出现的\n",
    "        top_dupli = tmp[ min([ tmp.index(d) for d in duplication]) ]# 找出重复预测值中接近程度最高的值\n",
    "        count = sum([ 1 for i in k_prediction if i==top_dupli]) # 统计较高相似度的重复预测值出现次数\n",
    "        if count >= int(2/3 * k): # 如果较高相似度的重复预测值出现次数 >= 预测值总数的2/3，则取该预测值\n",
    "            return top_dupli    \n",
    "    return k_prediction[0]\n",
    "\n",
    "# judger( (5,2,2,3,3,3) )"
   ]
  },
  {
   "cell_type": "markdown",
   "metadata": {},
   "source": [
    "解释一下`judger()`函数：    \n",
    "因为kNN计算的是与目标样本最接近的k个预测值，在`RG_kNN_classifier()`中，预测结果是一个tuple      \n",
    "结构为 $ (p_1, p_2, \\cdots, p_k)$，其中，$p_1$最接近目标样本的预测（距离最小），因此其预测价值应该最大  \n",
    "所以，为了给出最后的预测值，我写了该`judger()`判决函数。\n",
    "判决流程为：\n",
    "+ 从 $ k\\_prediction = (p_1, p_2, \\cdots, p_k)$ 中找出重复出现的预测值，保存到duplication中\n",
    "+ 如果 duplication 为空(即不存在重复预测值) 或者 $p_1 \\in duplication$ ，则直接返回 预测值 $p_1$，结束流程，否则继续接下来的流程\n",
    "+ 找出duplication中预测价值最大（也就是序号最小）的值 top_dupli\n",
    "+ 统计 top_dupli 出现的次数，记作 count\n",
    "+ 如果 $ count >= [ 2/3 \\cdot k]$，则返回 top_dupli，否则依旧返回 $p_1$ (其中[]为取整)\n",
    "至于为啥是 2/3， 是我设置的值，可以自行调整     \n",
    "举例：\n",
    "+ (3, 2, 1, 1, 1) 返回 1\n",
    "+ (1, 2, 3, 4) 返回 1\n",
    "+ (1, 2, 1, 1, 2) 返回 1"
   ]
  },
  {
   "cell_type": "code",
   "execution_count": 12,
   "metadata": {},
   "outputs": [],
   "source": [
    "def RG_kNN_classifier(feature_set_train, label_set_train, feature_set_test, k=3):\n",
    "    '''\n",
    "    所有的feature集合中的图像矩阵需要reshape成一维数组（传入前特征工程需要把图像先resize成20x20再reshape成（400,））\n",
    "    feature_set_train, label_set_train, feature_set_test都必须是np.array\n",
    "    '''\n",
    "    label_set_Kpredict, topK_list = [],[] # 增加topK_list记录最接近的图像编号\n",
    "    for test_feature in feature_set_test:\n",
    "        distances = []\n",
    "        for train_feature in feature_set_train:\n",
    "            distances.append(\n",
    "                np.sqrt(np.sum(np.square(test_feature - train_feature)))\n",
    "            )\n",
    "        # topK = np.argsort(distances)[-k:][::-1] # [-k:]是提取最后k个（因为argsort是升序排序）,[::-1]则是将其反序\n",
    "        topK = np.argsort(distances)[:k] # ummmm, 我感觉我昨天写代码脑袋写坏了，应该取距离最小的，我上面那句取了距离最大的k个\n",
    "        if k != 1:\n",
    "            label_set_Kpredict.append(\n",
    "                tuple(label_set_train[list(topK)]) # 保存最接近的k个预测值\n",
    "            )\n",
    "            topK_list.append(tuple(topK))\n",
    "        else:\n",
    "            label_set_Kpredict.append(\n",
    "                tuple(label_set_train[list(topK)])[0] # 保存最接近的k个预测值\n",
    "            )\n",
    "            topK_list.append(tuple(topK))\n",
    "    if k==1:\n",
    "        return label_set_Kpredict, topK_list\n",
    "    else:\n",
    "        # k个最接近的值，做一个投票器，利用投票器选出最终预测值\n",
    "        label_set_single = [ judger(labels) for labels in label_set_Kpredict]\n",
    "        return label_set_single, label_set_Kpredict, topK_list"
   ]
  },
  {
   "cell_type": "code",
   "execution_count": 13,
   "metadata": {},
   "outputs": [
    {
     "output_type": "execute_result",
     "data": {
      "text/plain": "0      0\n1      0\n2      0\n3      0\n4      0\n      ..\n391    9\n392    9\n393    9\n394    9\n395    9\nLength: 396, dtype: object"
     },
     "metadata": {},
     "execution_count": 13
    }
   ],
   "source": [
    "predicted_result_0 = pd.Series(RG_kNN_classifier(X_train,y_train,X_test, k=3)[0])\n",
    "predicted_result_0\n",
    "# t = RG_kNN_classifier(X_train,y_train,X_test, k=3)"
   ]
  },
  {
   "cell_type": "code",
   "execution_count": 14,
   "metadata": {},
   "outputs": [
    {
     "output_type": "execute_result",
     "data": {
      "text/plain": "0.9924242424242424"
     },
     "metadata": {},
     "execution_count": 14
    }
   ],
   "source": [
    "# 我自己写的kNN识别 每个单个字符 的识别率\n",
    "prediction_accuracy(predicted_result_0 , actual_result)"
   ]
  },
  {
   "cell_type": "markdown",
   "metadata": {},
   "source": [
    "### 以上是直接识别单个字符，下面开始写，送入一个4个字符的验证码，进行整体识别"
   ]
  },
  {
   "cell_type": "code",
   "execution_count": 15,
   "metadata": {},
   "outputs": [],
   "source": [
    "# captcha_path = {\n",
    "#     'text': captcha_name,\n",
    "#     'path': os.path.join(TEST_DATA_CAP, captcha_name)\n",
    "#     for captcha_name in os.listdir(TEST_DATA_CAP)\n",
    "# } # 试了试，python字典不能像list一样快速遍历生成\n",
    "captcha_paths = [ os.path.join(TEST_DATA_CAP, captcha_name) for captcha_name in os.listdir(TEST_DATA_CAP)] \n",
    "captcha_paths.sort()\n",
    "# captcha_path"
   ]
  },
  {
   "cell_type": "code",
   "execution_count": 23,
   "metadata": {},
   "outputs": [
    {
     "output_type": "stream",
     "name": "stdout",
     "text": "Binary image generated!\nthreshold:127.0\n"
    },
    {
     "output_type": "execute_result",
     "data": {
      "text/plain": "'0186'"
     },
     "metadata": {},
     "execution_count": 23
    }
   ],
   "source": [
    "def captcha_recognition(captcha_path, X_train, y_train, captcha_len=4, k=3):\n",
    "    '''\n",
    "    本函数用于识别传入的验证码，目前只写了识别4位的，后期可以改识别n位\n",
    "    X_train: 验证码单个字符的特征训练集\n",
    "    y_train: 验证码单个字符的标签训练集\n",
    "    '''\n",
    "    character_splited = captcha_char_detach(captcha_path, captcha_len=captcha_len) # 返回灰度图\n",
    "    binary_chars = [] # 存储二值化后的单个字符\n",
    "    for character in character_splited:\n",
    "        character = cv.resize(character, (20,20)) # 先归一成20x20大小\n",
    "        ret, char_binary = cv.threshold(character,127,255,cv.THRESH_BINARY_INV) # 再反二进制阈值化，生成二值图\n",
    "        binary_chars.append( char_binary.reshape(400,) )# 然后变成一维数组，这三步顺序不能有错\n",
    "    return ''.join(RG_kNN_classifier(X_train, y_train, binary_chars, k=k)[0])\n",
    "\n",
    "i = 2\n",
    "captcha_recognition(captcha_paths[i], X_train, y_train, captcha_len=4, k=3)"
   ]
  },
  {
   "cell_type": "code",
   "execution_count": 24,
   "metadata": {},
   "outputs": [
    {
     "output_type": "execute_result",
     "data": {
      "text/plain": "<matplotlib.image.AxesImage at 0x131574e90>"
     },
     "metadata": {},
     "execution_count": 24
    },
    {
     "output_type": "display_data",
     "data": {
      "text/plain": "<Figure size 432x288 with 1 Axes>",
      "image/svg+xml": "<?xml version=\"1.0\" encoding=\"utf-8\" standalone=\"no\"?>\n<!DOCTYPE svg PUBLIC \"-//W3C//DTD SVG 1.1//EN\"\n  \"http://www.w3.org/Graphics/SVG/1.1/DTD/svg11.dtd\">\n<!-- Created with matplotlib (https://matplotlib.org/) -->\n<svg height=\"167.681344pt\" version=\"1.1\" viewBox=\"0 0 368.925 167.681344\" width=\"368.925pt\" xmlns=\"http://www.w3.org/2000/svg\" xmlns:xlink=\"http://www.w3.org/1999/xlink\">\n <defs>\n  <style type=\"text/css\">\n*{stroke-linecap:butt;stroke-linejoin:round;}\n  </style>\n </defs>\n <g id=\"figure_1\">\n  <g id=\"patch_1\">\n   <path d=\"M -0 167.681344 \nL 368.925 167.681344 \nL 368.925 0 \nL -0 0 \nz\n\" style=\"fill:none;\"/>\n  </g>\n  <g id=\"axes_1\">\n   <g id=\"patch_2\">\n    <path d=\"M 26.925 143.803219 \nL 361.725 143.803219 \nL 361.725 9.883219 \nL 26.925 9.883219 \nz\n\" style=\"fill:#ffffff;\"/>\n   </g>\n   <g clip-path=\"url(#p2b369908bd)\">\n    <image height=\"134\" id=\"image27cacceaee\" transform=\"scale(1 -1)translate(0 -134)\" width=\"335\" x=\"26.925\" xlink:href=\"data:image/png;base64,\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\" y=\"-9.803219\"/>\n   </g>\n   <g id=\"matplotlib.axis_1\">\n    <g id=\"xtick_1\">\n     <g id=\"line2d_1\">\n      <defs>\n       <path d=\"M 0 0 \nL 0 3.5 \n\" id=\"m56d40b813f\" style=\"stroke:#000000;stroke-width:0.8;\"/>\n      </defs>\n      <g>\n       <use style=\"stroke:#000000;stroke-width:0.8;\" x=\"28.041\" xlink:href=\"#m56d40b813f\" y=\"143.803219\"/>\n      </g>\n     </g>\n     <g id=\"text_1\">\n      <!-- 0 -->\n      <defs>\n       <path d=\"M 31.78125 66.40625 \nQ 24.171875 66.40625 20.328125 58.90625 \nQ 16.5 51.421875 16.5 36.375 \nQ 16.5 21.390625 20.328125 13.890625 \nQ 24.171875 6.390625 31.78125 6.390625 \nQ 39.453125 6.390625 43.28125 13.890625 \nQ 47.125 21.390625 47.125 36.375 \nQ 47.125 51.421875 43.28125 58.90625 \nQ 39.453125 66.40625 31.78125 66.40625 \nz\nM 31.78125 74.21875 \nQ 44.046875 74.21875 50.515625 64.515625 \nQ 56.984375 54.828125 56.984375 36.375 \nQ 56.984375 17.96875 50.515625 8.265625 \nQ 44.046875 -1.421875 31.78125 -1.421875 \nQ 19.53125 -1.421875 13.0625 8.265625 \nQ 6.59375 17.96875 6.59375 36.375 \nQ 6.59375 54.828125 13.0625 64.515625 \nQ 19.53125 74.21875 31.78125 74.21875 \nz\n\" id=\"DejaVuSans-48\"/>\n      </defs>\n      <g transform=\"translate(24.85975 158.401656)scale(0.1 -0.1)\">\n       <use xlink:href=\"#DejaVuSans-48\"/>\n      </g>\n     </g>\n    </g>\n    <g id=\"xtick_2\">\n     <g id=\"line2d_2\">\n      <g>\n       <use style=\"stroke:#000000;stroke-width:0.8;\" x=\"72.681\" xlink:href=\"#m56d40b813f\" y=\"143.803219\"/>\n      </g>\n     </g>\n     <g id=\"text_2\">\n      <!-- 20 -->\n      <defs>\n       <path d=\"M 19.1875 8.296875 \nL 53.609375 8.296875 \nL 53.609375 0 \nL 7.328125 0 \nL 7.328125 8.296875 \nQ 12.9375 14.109375 22.625 23.890625 \nQ 32.328125 33.6875 34.8125 36.53125 \nQ 39.546875 41.84375 41.421875 45.53125 \nQ 43.3125 49.21875 43.3125 52.78125 \nQ 43.3125 58.59375 39.234375 62.25 \nQ 35.15625 65.921875 28.609375 65.921875 \nQ 23.96875 65.921875 18.8125 64.3125 \nQ 13.671875 62.703125 7.8125 59.421875 \nL 7.8125 69.390625 \nQ 13.765625 71.78125 18.9375 73 \nQ 24.125 74.21875 28.421875 74.21875 \nQ 39.75 74.21875 46.484375 68.546875 \nQ 53.21875 62.890625 53.21875 53.421875 \nQ 53.21875 48.921875 51.53125 44.890625 \nQ 49.859375 40.875 45.40625 35.40625 \nQ 44.1875 33.984375 37.640625 27.21875 \nQ 31.109375 20.453125 19.1875 8.296875 \nz\n\" id=\"DejaVuSans-50\"/>\n      </defs>\n      <g transform=\"translate(66.3185 158.401656)scale(0.1 -0.1)\">\n       <use xlink:href=\"#DejaVuSans-50\"/>\n       <use x=\"63.623047\" xlink:href=\"#DejaVuSans-48\"/>\n      </g>\n     </g>\n    </g>\n    <g id=\"xtick_3\">\n     <g id=\"line2d_3\">\n      <g>\n       <use style=\"stroke:#000000;stroke-width:0.8;\" x=\"117.321\" xlink:href=\"#m56d40b813f\" y=\"143.803219\"/>\n      </g>\n     </g>\n     <g id=\"text_3\">\n      <!-- 40 -->\n      <defs>\n       <path d=\"M 37.796875 64.3125 \nL 12.890625 25.390625 \nL 37.796875 25.390625 \nz\nM 35.203125 72.90625 \nL 47.609375 72.90625 \nL 47.609375 25.390625 \nL 58.015625 25.390625 \nL 58.015625 17.1875 \nL 47.609375 17.1875 \nL 47.609375 0 \nL 37.796875 0 \nL 37.796875 17.1875 \nL 4.890625 17.1875 \nL 4.890625 26.703125 \nz\n\" id=\"DejaVuSans-52\"/>\n      </defs>\n      <g transform=\"translate(110.9585 158.401656)scale(0.1 -0.1)\">\n       <use xlink:href=\"#DejaVuSans-52\"/>\n       <use x=\"63.623047\" xlink:href=\"#DejaVuSans-48\"/>\n      </g>\n     </g>\n    </g>\n    <g id=\"xtick_4\">\n     <g id=\"line2d_4\">\n      <g>\n       <use style=\"stroke:#000000;stroke-width:0.8;\" x=\"161.961\" xlink:href=\"#m56d40b813f\" y=\"143.803219\"/>\n      </g>\n     </g>\n     <g id=\"text_4\">\n      <!-- 60 -->\n      <defs>\n       <path d=\"M 33.015625 40.375 \nQ 26.375 40.375 22.484375 35.828125 \nQ 18.609375 31.296875 18.609375 23.390625 \nQ 18.609375 15.53125 22.484375 10.953125 \nQ 26.375 6.390625 33.015625 6.390625 \nQ 39.65625 6.390625 43.53125 10.953125 \nQ 47.40625 15.53125 47.40625 23.390625 \nQ 47.40625 31.296875 43.53125 35.828125 \nQ 39.65625 40.375 33.015625 40.375 \nz\nM 52.59375 71.296875 \nL 52.59375 62.3125 \nQ 48.875 64.0625 45.09375 64.984375 \nQ 41.3125 65.921875 37.59375 65.921875 \nQ 27.828125 65.921875 22.671875 59.328125 \nQ 17.53125 52.734375 16.796875 39.40625 \nQ 19.671875 43.65625 24.015625 45.921875 \nQ 28.375 48.1875 33.59375 48.1875 \nQ 44.578125 48.1875 50.953125 41.515625 \nQ 57.328125 34.859375 57.328125 23.390625 \nQ 57.328125 12.15625 50.6875 5.359375 \nQ 44.046875 -1.421875 33.015625 -1.421875 \nQ 20.359375 -1.421875 13.671875 8.265625 \nQ 6.984375 17.96875 6.984375 36.375 \nQ 6.984375 53.65625 15.1875 63.9375 \nQ 23.390625 74.21875 37.203125 74.21875 \nQ 40.921875 74.21875 44.703125 73.484375 \nQ 48.484375 72.75 52.59375 71.296875 \nz\n\" id=\"DejaVuSans-54\"/>\n      </defs>\n      <g transform=\"translate(155.5985 158.401656)scale(0.1 -0.1)\">\n       <use xlink:href=\"#DejaVuSans-54\"/>\n       <use x=\"63.623047\" xlink:href=\"#DejaVuSans-48\"/>\n      </g>\n     </g>\n    </g>\n    <g id=\"xtick_5\">\n     <g id=\"line2d_5\">\n      <g>\n       <use style=\"stroke:#000000;stroke-width:0.8;\" x=\"206.601\" xlink:href=\"#m56d40b813f\" y=\"143.803219\"/>\n      </g>\n     </g>\n     <g id=\"text_5\">\n      <!-- 80 -->\n      <defs>\n       <path d=\"M 31.78125 34.625 \nQ 24.75 34.625 20.71875 30.859375 \nQ 16.703125 27.09375 16.703125 20.515625 \nQ 16.703125 13.921875 20.71875 10.15625 \nQ 24.75 6.390625 31.78125 6.390625 \nQ 38.8125 6.390625 42.859375 10.171875 \nQ 46.921875 13.96875 46.921875 20.515625 \nQ 46.921875 27.09375 42.890625 30.859375 \nQ 38.875 34.625 31.78125 34.625 \nz\nM 21.921875 38.8125 \nQ 15.578125 40.375 12.03125 44.71875 \nQ 8.5 49.078125 8.5 55.328125 \nQ 8.5 64.0625 14.71875 69.140625 \nQ 20.953125 74.21875 31.78125 74.21875 \nQ 42.671875 74.21875 48.875 69.140625 \nQ 55.078125 64.0625 55.078125 55.328125 \nQ 55.078125 49.078125 51.53125 44.71875 \nQ 48 40.375 41.703125 38.8125 \nQ 48.828125 37.15625 52.796875 32.3125 \nQ 56.78125 27.484375 56.78125 20.515625 \nQ 56.78125 9.90625 50.3125 4.234375 \nQ 43.84375 -1.421875 31.78125 -1.421875 \nQ 19.734375 -1.421875 13.25 4.234375 \nQ 6.78125 9.90625 6.78125 20.515625 \nQ 6.78125 27.484375 10.78125 32.3125 \nQ 14.796875 37.15625 21.921875 38.8125 \nz\nM 18.3125 54.390625 \nQ 18.3125 48.734375 21.84375 45.5625 \nQ 25.390625 42.390625 31.78125 42.390625 \nQ 38.140625 42.390625 41.71875 45.5625 \nQ 45.3125 48.734375 45.3125 54.390625 \nQ 45.3125 60.0625 41.71875 63.234375 \nQ 38.140625 66.40625 31.78125 66.40625 \nQ 25.390625 66.40625 21.84375 63.234375 \nQ 18.3125 60.0625 18.3125 54.390625 \nz\n\" id=\"DejaVuSans-56\"/>\n      </defs>\n      <g transform=\"translate(200.2385 158.401656)scale(0.1 -0.1)\">\n       <use xlink:href=\"#DejaVuSans-56\"/>\n       <use x=\"63.623047\" xlink:href=\"#DejaVuSans-48\"/>\n      </g>\n     </g>\n    </g>\n    <g id=\"xtick_6\">\n     <g id=\"line2d_6\">\n      <g>\n       <use style=\"stroke:#000000;stroke-width:0.8;\" x=\"251.241\" xlink:href=\"#m56d40b813f\" y=\"143.803219\"/>\n      </g>\n     </g>\n     <g id=\"text_6\">\n      <!-- 100 -->\n      <defs>\n       <path d=\"M 12.40625 8.296875 \nL 28.515625 8.296875 \nL 28.515625 63.921875 \nL 10.984375 60.40625 \nL 10.984375 69.390625 \nL 28.421875 72.90625 \nL 38.28125 72.90625 \nL 38.28125 8.296875 \nL 54.390625 8.296875 \nL 54.390625 0 \nL 12.40625 0 \nz\n\" id=\"DejaVuSans-49\"/>\n      </defs>\n      <g transform=\"translate(241.69725 158.401656)scale(0.1 -0.1)\">\n       <use xlink:href=\"#DejaVuSans-49\"/>\n       <use x=\"63.623047\" xlink:href=\"#DejaVuSans-48\"/>\n       <use x=\"127.246094\" xlink:href=\"#DejaVuSans-48\"/>\n      </g>\n     </g>\n    </g>\n    <g id=\"xtick_7\">\n     <g id=\"line2d_7\">\n      <g>\n       <use style=\"stroke:#000000;stroke-width:0.8;\" x=\"295.881\" xlink:href=\"#m56d40b813f\" y=\"143.803219\"/>\n      </g>\n     </g>\n     <g id=\"text_7\">\n      <!-- 120 -->\n      <g transform=\"translate(286.33725 158.401656)scale(0.1 -0.1)\">\n       <use xlink:href=\"#DejaVuSans-49\"/>\n       <use x=\"63.623047\" xlink:href=\"#DejaVuSans-50\"/>\n       <use x=\"127.246094\" xlink:href=\"#DejaVuSans-48\"/>\n      </g>\n     </g>\n    </g>\n    <g id=\"xtick_8\">\n     <g id=\"line2d_8\">\n      <g>\n       <use style=\"stroke:#000000;stroke-width:0.8;\" x=\"340.521\" xlink:href=\"#m56d40b813f\" y=\"143.803219\"/>\n      </g>\n     </g>\n     <g id=\"text_8\">\n      <!-- 140 -->\n      <g transform=\"translate(330.97725 158.401656)scale(0.1 -0.1)\">\n       <use xlink:href=\"#DejaVuSans-49\"/>\n       <use x=\"63.623047\" xlink:href=\"#DejaVuSans-52\"/>\n       <use x=\"127.246094\" xlink:href=\"#DejaVuSans-48\"/>\n      </g>\n     </g>\n    </g>\n   </g>\n   <g id=\"matplotlib.axis_2\">\n    <g id=\"ytick_1\">\n     <g id=\"line2d_9\">\n      <defs>\n       <path d=\"M 0 0 \nL -3.5 0 \n\" id=\"me088c18909\" style=\"stroke:#000000;stroke-width:0.8;\"/>\n      </defs>\n      <g>\n       <use style=\"stroke:#000000;stroke-width:0.8;\" x=\"26.925\" xlink:href=\"#me088c18909\" y=\"10.999219\"/>\n      </g>\n     </g>\n     <g id=\"text_9\">\n      <!-- 0 -->\n      <g transform=\"translate(13.5625 14.798437)scale(0.1 -0.1)\">\n       <use xlink:href=\"#DejaVuSans-48\"/>\n      </g>\n     </g>\n    </g>\n    <g id=\"ytick_2\">\n     <g id=\"line2d_10\">\n      <g>\n       <use style=\"stroke:#000000;stroke-width:0.8;\" x=\"26.925\" xlink:href=\"#me088c18909\" y=\"33.319219\"/>\n      </g>\n     </g>\n     <g id=\"text_10\">\n      <!-- 10 -->\n      <g transform=\"translate(7.2 37.118437)scale(0.1 -0.1)\">\n       <use xlink:href=\"#DejaVuSans-49\"/>\n       <use x=\"63.623047\" xlink:href=\"#DejaVuSans-48\"/>\n      </g>\n     </g>\n    </g>\n    <g id=\"ytick_3\">\n     <g id=\"line2d_11\">\n      <g>\n       <use style=\"stroke:#000000;stroke-width:0.8;\" x=\"26.925\" xlink:href=\"#me088c18909\" y=\"55.639219\"/>\n      </g>\n     </g>\n     <g id=\"text_11\">\n      <!-- 20 -->\n      <g transform=\"translate(7.2 59.438437)scale(0.1 -0.1)\">\n       <use xlink:href=\"#DejaVuSans-50\"/>\n       <use x=\"63.623047\" xlink:href=\"#DejaVuSans-48\"/>\n      </g>\n     </g>\n    </g>\n    <g id=\"ytick_4\">\n     <g id=\"line2d_12\">\n      <g>\n       <use style=\"stroke:#000000;stroke-width:0.8;\" x=\"26.925\" xlink:href=\"#me088c18909\" y=\"77.959219\"/>\n      </g>\n     </g>\n     <g id=\"text_12\">\n      <!-- 30 -->\n      <defs>\n       <path d=\"M 40.578125 39.3125 \nQ 47.65625 37.796875 51.625 33 \nQ 55.609375 28.21875 55.609375 21.1875 \nQ 55.609375 10.40625 48.1875 4.484375 \nQ 40.765625 -1.421875 27.09375 -1.421875 \nQ 22.515625 -1.421875 17.65625 -0.515625 \nQ 12.796875 0.390625 7.625 2.203125 \nL 7.625 11.71875 \nQ 11.71875 9.328125 16.59375 8.109375 \nQ 21.484375 6.890625 26.8125 6.890625 \nQ 36.078125 6.890625 40.9375 10.546875 \nQ 45.796875 14.203125 45.796875 21.1875 \nQ 45.796875 27.640625 41.28125 31.265625 \nQ 36.765625 34.90625 28.71875 34.90625 \nL 20.21875 34.90625 \nL 20.21875 43.015625 \nL 29.109375 43.015625 \nQ 36.375 43.015625 40.234375 45.921875 \nQ 44.09375 48.828125 44.09375 54.296875 \nQ 44.09375 59.90625 40.109375 62.90625 \nQ 36.140625 65.921875 28.71875 65.921875 \nQ 24.65625 65.921875 20.015625 65.03125 \nQ 15.375 64.15625 9.8125 62.3125 \nL 9.8125 71.09375 \nQ 15.4375 72.65625 20.34375 73.4375 \nQ 25.25 74.21875 29.59375 74.21875 \nQ 40.828125 74.21875 47.359375 69.109375 \nQ 53.90625 64.015625 53.90625 55.328125 \nQ 53.90625 49.265625 50.4375 45.09375 \nQ 46.96875 40.921875 40.578125 39.3125 \nz\n\" id=\"DejaVuSans-51\"/>\n      </defs>\n      <g transform=\"translate(7.2 81.758437)scale(0.1 -0.1)\">\n       <use xlink:href=\"#DejaVuSans-51\"/>\n       <use x=\"63.623047\" xlink:href=\"#DejaVuSans-48\"/>\n      </g>\n     </g>\n    </g>\n    <g id=\"ytick_5\">\n     <g id=\"line2d_13\">\n      <g>\n       <use style=\"stroke:#000000;stroke-width:0.8;\" x=\"26.925\" xlink:href=\"#me088c18909\" y=\"100.279219\"/>\n      </g>\n     </g>\n     <g id=\"text_13\">\n      <!-- 40 -->\n      <g transform=\"translate(7.2 104.078438)scale(0.1 -0.1)\">\n       <use xlink:href=\"#DejaVuSans-52\"/>\n       <use x=\"63.623047\" xlink:href=\"#DejaVuSans-48\"/>\n      </g>\n     </g>\n    </g>\n    <g id=\"ytick_6\">\n     <g id=\"line2d_14\">\n      <g>\n       <use style=\"stroke:#000000;stroke-width:0.8;\" x=\"26.925\" xlink:href=\"#me088c18909\" y=\"122.599219\"/>\n      </g>\n     </g>\n     <g id=\"text_14\">\n      <!-- 50 -->\n      <defs>\n       <path d=\"M 10.796875 72.90625 \nL 49.515625 72.90625 \nL 49.515625 64.59375 \nL 19.828125 64.59375 \nL 19.828125 46.734375 \nQ 21.96875 47.46875 24.109375 47.828125 \nQ 26.265625 48.1875 28.421875 48.1875 \nQ 40.625 48.1875 47.75 41.5 \nQ 54.890625 34.8125 54.890625 23.390625 \nQ 54.890625 11.625 47.5625 5.09375 \nQ 40.234375 -1.421875 26.90625 -1.421875 \nQ 22.3125 -1.421875 17.546875 -0.640625 \nQ 12.796875 0.140625 7.71875 1.703125 \nL 7.71875 11.625 \nQ 12.109375 9.234375 16.796875 8.0625 \nQ 21.484375 6.890625 26.703125 6.890625 \nQ 35.15625 6.890625 40.078125 11.328125 \nQ 45.015625 15.765625 45.015625 23.390625 \nQ 45.015625 31 40.078125 35.4375 \nQ 35.15625 39.890625 26.703125 39.890625 \nQ 22.75 39.890625 18.8125 39.015625 \nQ 14.890625 38.140625 10.796875 36.28125 \nz\n\" id=\"DejaVuSans-53\"/>\n      </defs>\n      <g transform=\"translate(7.2 126.398438)scale(0.1 -0.1)\">\n       <use xlink:href=\"#DejaVuSans-53\"/>\n       <use x=\"63.623047\" xlink:href=\"#DejaVuSans-48\"/>\n      </g>\n     </g>\n    </g>\n   </g>\n   <g id=\"patch_3\">\n    <path d=\"M 26.925 143.803219 \nL 26.925 9.883219 \n\" style=\"fill:none;stroke:#000000;stroke-linecap:square;stroke-linejoin:miter;stroke-width:0.8;\"/>\n   </g>\n   <g id=\"patch_4\">\n    <path d=\"M 361.725 143.803219 \nL 361.725 9.883219 \n\" style=\"fill:none;stroke:#000000;stroke-linecap:square;stroke-linejoin:miter;stroke-width:0.8;\"/>\n   </g>\n   <g id=\"patch_5\">\n    <path d=\"M 26.925 143.803219 \nL 361.725 143.803219 \n\" style=\"fill:none;stroke:#000000;stroke-linecap:square;stroke-linejoin:miter;stroke-width:0.8;\"/>\n   </g>\n   <g id=\"patch_6\">\n    <path d=\"M 26.925 9.883219 \nL 361.725 9.883219 \n\" style=\"fill:none;stroke:#000000;stroke-linecap:square;stroke-linejoin:miter;stroke-width:0.8;\"/>\n   </g>\n  </g>\n </g>\n <defs>\n  <clipPath id=\"p2b369908bd\">\n   <rect height=\"133.92\" width=\"334.8\" x=\"26.925\" y=\"9.883219\"/>\n  </clipPath>\n </defs>\n</svg>\n",
      "image/png": "[encoded data removed]"
     },
     "metadata": {
      "needs_background": "light"
     }
    }
   ],
   "source": [
    "img = cv.imread(captcha_paths[i])\n",
    "plt.imshow(img)"
   ]
  },
  {
   "cell_type": "code",
   "execution_count": 18,
   "metadata": {},
   "outputs": [
    {
     "output_type": "stream",
     "name": "stdout",
     "text": "Binary image generated!\nthreshold:127.0\nBinary image generated!\nthreshold:127.0\nBinary image generated!\nthreshold:127.0\nBinary image generated!\nthreshold:127.0\nBinary image generated!\nthreshold:127.0\nBinary image generated!\nthreshold:127.0\nBinary image generated!\nthreshold:127.0\nBinary image generated!\nthreshold:127.0\nBinary image generated!\nthreshold:127.0\nBinary image generated!\nthreshold:127.0\nBinary image generated!\nthreshold:127.0\nBinary image generated!\nthreshold:127.0\nBinary image generated!\nthreshold:127.0\nBinary image generated!\nthreshold:127.0\nBinary image generated!\nthreshold:127.0\nBinary image generated!\nthreshold:127.0\nBinary image generated!\nthreshold:127.0\nBinary image generated!\nthreshold:127.0\nBinary image generated!\nthreshold:127.0\nBinary image generated!\nthreshold:127.0\nBinary image generated!\nthreshold:127.0\nBinary image generated!\nthreshold:127.0\nBinary image generated!\nthreshold:127.0\nBinary image generated!\nthreshold:127.0\nBinary image generated!\nthreshold:127.0\nBinary image generated!\nthreshold:127.0\nBinary image generated!\nthreshold:127.0\nBinary image generated!\nthreshold:127.0\nBinary image generated!\nthreshold:127.0\nBinary image generated!\nthreshold:127.0\nBinary image generated!\nthreshold:127.0\nBinary image generated!\nthreshold:127.0\nBinary image generated!\nthreshold:127.0\nBinary image generated!\nthreshold:127.0\nBinary image generated!\nthreshold:127.0\nBinary image generated!\nthreshold:127.0\nBinary image generated!\nthreshold:127.0\nBinary image generated!\nthreshold:127.0\nBinary image generated!\nthreshold:127.0\nBinary image generated!\nthreshold:127.0\nBinary image generated!\nthreshold:127.0\nBinary image generated!\nthreshold:127.0\nBinary image generated!\nthreshold:127.0\nBinary image generated!\nthreshold:127.0\nBinary image generated!\nthreshold:127.0\nBinary image generated!\nthreshold:127.0\nBinary image generated!\nthreshold:127.0\nBinary image generated!\nthreshold:127.0\nBinary image generated!\nthreshold:127.0\nBinary image generated!\nthreshold:127.0\nBinary image generated!\nthreshold:127.0\nBinary image generated!\nthreshold:127.0\nBinary image generated!\nthreshold:127.0\nBinary image generated!\nthreshold:127.0\nBinary image generated!\nthreshold:127.0\nBinary image generated!\nthreshold:127.0\nBinary image generated!\nthreshold:127.0\nBinary image generated!\nthreshold:127.0\nBinary image generated!\nthreshold:127.0\nBinary image generated!\nthreshold:127.0\nBinary image generated!\nthreshold:127.0\nBinary image generated!\nthreshold:127.0\nBinary image generated!\nthreshold:127.0\nBinary image generated!\nthreshold:127.0\nBinary image generated!\nthreshold:127.0\nBinary image generated!\nthreshold:127.0\nBinary image generated!\nthreshold:127.0\nBinary image generated!\nthreshold:127.0\nBinary image generated!\nthreshold:127.0\nBinary image generated!\nthreshold:127.0\nBinary image generated!\nthreshold:127.0\nBinary image generated!\nthreshold:127.0\nBinary image generated!\nthreshold:127.0\nBinary image generated!\nthreshold:127.0\nBinary image generated!\nthreshold:127.0\nBinary image generated!\nthreshold:127.0\nBinary image generated!\nthreshold:127.0\nBinary image generated!\nthreshold:127.0\nBinary image generated!\nthreshold:127.0\nBinary image generated!\nthreshold:127.0\nBinary image generated!\nthreshold:127.0\nBinary image generated!\nthreshold:127.0\nBinary image generated!\nthreshold:127.0\nBinary image generated!\nthreshold:127.0\nBinary image generated!\nthreshold:127.0\nBinary image generated!\nthreshold:127.0\nBinary image generated!\nthreshold:127.0\nBinary image generated!\nthreshold:127.0\nBinary image generated!\nthreshold:127.0\nBinary image generated!\nthreshold:127.0\nBinary image generated!\nthreshold:127.0\nBinary image generated!\nthreshold:127.0\nBinary image generated!\nthreshold:127.0\nBinary image generated!\nthreshold:127.0\nBinary image generated!\nthreshold:127.0\nBinary image generated!\nthreshold:127.0\nBinary image generated!\nthreshold:127.0\nBinary image generated!\nthreshold:127.0\nBinary image generated!\nthreshold:127.0\n"
    }
   ],
   "source": [
    "captcha_text_predict = [ \n",
    "    captcha_recognition(cap, X_train, y_train, captcha_len=4, k=3)\n",
    "    for cap in captcha_paths\n",
    "]"
   ]
  },
  {
   "cell_type": "code",
   "execution_count": 19,
   "metadata": {},
   "outputs": [],
   "source": [
    "captcha_text_actual = [ # 获取测试集的实际标签\n",
    "    os.path.splitext(os.path.basename(cap))[0]\n",
    "    for cap in captcha_paths\n",
    "]"
   ]
  },
  {
   "cell_type": "code",
   "execution_count": 20,
   "metadata": {},
   "outputs": [
    {
     "output_type": "execute_result",
     "data": {
      "text/plain": "0.9797979797979798"
     },
     "metadata": {},
     "execution_count": 20
    }
   ],
   "source": [
    "# 计算 验证码 的预测准确率（识别率）\n",
    "captcha_text_predict = pd.Series(captcha_text_predict)\n",
    "captcha_text_actual = pd.Series(captcha_text_actual)\n",
    "prediction_accuracy(captcha_text_predict, captcha_text_actual)"
   ]
  }
 ],
 "metadata": {
  "language_info": {
   "codemirror_mode": {
    "name": "ipython",
    "version": 3
   },
   "file_extension": ".py",
   "mimetype": "text/x-python",
   "name": "python",
   "nbconvert_exporter": "python",
   "pygments_lexer": "ipython3",
   "version": "3.7.5-final"
  },
  "orig_nbformat": 2,
  "kernelspec": {
   "name": "python37564bit7864ce697006450d81c3f54dae018d4c",
   "display_name": "Python 3.7.5 64-bit"
  }
 },
 "nbformat": 4,
 "nbformat_minor": 2
}