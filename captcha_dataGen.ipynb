{
 "cells": [
  {
   "cell_type": "code",
   "execution_count": 1,
   "metadata": {},
   "outputs": [],
   "source": [
    "import os\n",
    "import numpy as np \n",
    "import pandas as pd \n",
    "from cv2 import cv2 as cv\n",
    "import matplotlib\n",
    "import matplotlib.pyplot as plt \n",
    "from captcha.image import ImageCaptcha # 验证码生成库\n",
    "import random\n",
    "import string\n",
    "\n",
    "ROOT_DIR = os.getcwd()\n",
    "DATA = os.path.join(ROOT_DIR, 'data')\n",
    "FONT = [r'/System/Library/Fonts/Avenir Next.ttc'] #  SFCompactDisplay.ttf"
   ]
  },
  {
   "cell_type": "code",
   "execution_count": 2,
   "metadata": {},
   "outputs": [
    {
     "output_type": "execute_result",
     "data": {
      "text/plain": "'0123456789abcdefghijklmnopqrstuvwxyzABCDEFGHIJKLMNOPQRSTUVWXYZ'"
     },
     "metadata": {},
     "execution_count": 2
    }
   ],
   "source": [
    "# 我自己写的生成字符集\n",
    "character_set_all = ''.join(\n",
    "    [ str(i) for i in range(0,10)] + [chr(i) for i in range(ord('a'), ord('z') + 1)] \n",
    "    + [chr(i) for i in range(ord('A'), ord('Z') + 1)]\n",
    ")\n",
    "character_set_all"
   ]
  },
  {
   "cell_type": "code",
   "execution_count": 3,
   "metadata": {},
   "outputs": [
    {
     "output_type": "execute_result",
     "data": {
      "text/plain": "'0123456789'"
     },
     "metadata": {},
     "execution_count": 3
    }
   ],
   "source": [
    "# 先做简单点的，纯数字的验证码\n",
    "character_set_digit = string.digits\n",
    "character_set_digit"
   ]
  },
  {
   "cell_type": "code",
   "execution_count": 4,
   "metadata": {},
   "outputs": [],
   "source": [
    "def captcha_generator(character_set:str, font_set=None, save_path='./', size=(170,80),\n",
    "                         style=((255, 0, 0), (255, 255, 255)), captcha_len=4):\n",
    "    '''\n",
    "    验证码生成器\n",
    "    character_set: 用于生成验证码的字符集，字符集以str类型传入\n",
    "    font_set: 字体集，必须要list类型，本机的字体路径，['path/to/font.ttf', 'path/to/font2.ttf']\n",
    "    save_path: 验证码图片的保存位置，默认为当前文件夹\n",
    "    size: 生成验证码图片的尺寸，tuple类型，格式：（长，宽)，默认（170，80）\n",
    "    style: 生成验证码的样式，tuple类型，格式：(text_color, background_color), _color均为三元tuple\n",
    "    captcha_len: 要生成的验证码长度，即验证码字符个数\n",
    "    '''\n",
    "    captcha_text = ''.join(random.sample(character_set, captcha_len))\n",
    "    imgCap = ImageCaptcha(width=size[0], height=size[1], fonts=font_set)\n",
    "    captcha_img = imgCap.create_captcha_image(\n",
    "        captcha_text, style[0], style[1]\n",
    "    ) # create_captcha_image(chars, color, background)\n",
    "    # plt.savefig(os.path.join(save_path, '{}.png'.format(captcha_text)))\n",
    "    # captcha_img.savefig(os.path.join(save_path, '{}.png'.format(captcha_text)))\n",
    "    # plt.imsave(os.path.join(save_path, '{}.png'.format(captcha_text)), captcha_img)\n",
    "    # 以上保存不了\n",
    "    # return captcha_img\n",
    "    if not os.path.exists(save_path):\n",
    "        os.makedirs(save_path)\n",
    "    captcha_img.save(os.path.join(save_path, '{}.png'.format(captcha_text)))\n",
    "    # 可以用以下方法代替实现，同时保存本地\n",
    "    # captcha_img = imgCap.write(captcha_text, \n",
    "    #                 os.path.join(save_path, '{}.png'.format(captcha_text)),\n",
    "    #                 format='png') # 这个会有加背景噪点\n",
    "    # ------------------------------------------------------------------------------\n",
    "    print('Captcha {} generated!'.format(captcha_text))\n",
    "    return captcha_text\n",
    "\n",
    "# captcha_generator(character_set_digit, captcha_len=4, font_set=FONT)"
   ]
  },
  {
   "cell_type": "code",
   "execution_count": 5,
   "metadata": {},
   "outputs": [
    {
     "output_type": "stream",
     "name": "stdout",
     "text": "Captcha 2873 generated!\nCaptcha 7458 generated!\nCaptcha 8469 generated!\nCaptcha 0694 generated!\nCaptcha 2580 generated!\nCaptcha 5142 generated!\nCaptcha 3407 generated!\nCaptcha 9480 generated!\nCaptcha 2359 generated!\nCaptcha 3465 generated!\n"
    }
   ],
   "source": [
    "amount = 10\n",
    "for i in range(amount):\n",
    "    captcha_generator(character_set_digit, captcha_len=4, font_set=FONT, save_path=DATA)\n"
   ]
  }
 ],
 "metadata": {
  "language_info": {
   "codemirror_mode": {
    "name": "ipython",
    "version": 3
   },
   "file_extension": ".py",
   "mimetype": "text/x-python",
   "name": "python",
   "nbconvert_exporter": "python",
   "pygments_lexer": "ipython3",
   "version": "3.7.5-final"
  },
  "orig_nbformat": 2,
  "kernelspec": {
   "name": "python37564bit7864ce697006450d81c3f54dae018d4c",
   "display_name": "Python 3.7.5 64-bit"
  }
 },
 "nbformat": 4,
 "nbformat_minor": 2
}