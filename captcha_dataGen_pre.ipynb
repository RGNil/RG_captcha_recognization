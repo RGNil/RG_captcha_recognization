{
 "cells": [
  {
   "cell_type": "markdown",
   "metadata": {},
   "source": [
    "# 本文件用于创建验证码数据集，带标签的数据集"
   ]
  },
  {
   "cell_type": "code",
   "execution_count": 87,
   "metadata": {},
   "outputs": [],
   "source": [
    "import os\n",
    "import numpy as np \n",
    "import pandas as pd \n",
    "from cv2 import cv2 as cv\n",
    "import matplotlib\n",
    "import matplotlib.pyplot as plt \n",
    "from captcha.image import ImageCaptcha # 验证码生成库\n",
    "import random\n",
    "import string\n",
    "\n",
    "ROOT_DIR = os.getcwd()\n",
    "DATA = os.path.join(ROOT_DIR, 'data')\n",
    "FONT = [r'/System/Library/Fonts/Avenir Next.ttc'] #  SFCompactDisplay.ttf"
   ]
  },
  {
   "cell_type": "code",
   "execution_count": 88,
   "metadata": {},
   "outputs": [
    {
     "output_type": "execute_result",
     "data": {
      "text/plain": "'0123456789abcdefghijklmnopqrstuvwxyzABCDEFGHIJKLMNOPQRSTUVWXYZ'"
     },
     "metadata": {},
     "execution_count": 88
    }
   ],
   "source": [
    "# 我自己写的生成字符集\n",
    "character_set_all = ''.join(\n",
    "    [ str(i) for i in range(0,10)] + [chr(i) for i in range(ord('a'), ord('z') + 1)] \n",
    "    + [chr(i) for i in range(ord('A'), ord('Z') + 1)]\n",
    ")\n",
    "character_set_all"
   ]
  },
  {
   "cell_type": "code",
   "execution_count": 89,
   "metadata": {},
   "outputs": [
    {
     "output_type": "execute_result",
     "data": {
      "text/plain": "'0123456789abcdefghijklmnopqrstuvwxyzABCDEFGHIJKLMNOPQRSTUVWXYZ'"
     },
     "metadata": {},
     "execution_count": 89
    }
   ],
   "source": [
    "# 直接用 string 库生成字符集\n",
    "character_set_all0 = string.digits + string.ascii_letters\n",
    "character_set_all0"
   ]
  },
  {
   "cell_type": "code",
   "execution_count": 90,
   "metadata": {},
   "outputs": [
    {
     "output_type": "execute_result",
     "data": {
      "text/plain": "'0123456789'"
     },
     "metadata": {},
     "execution_count": 90
    }
   ],
   "source": [
    "# 先做简单点的，纯数字的验证码\n",
    "character_set_digit = string.digits\n",
    "character_set_digit"
   ]
  },
  {
   "cell_type": "markdown",
   "metadata": {},
   "source": [
    "+ [Python choices()函数详解、random模块下的常用函数](https://blog.csdn.net/ckk727/article/details/99548223)\n",
    "+ https://www.csdn.net/gather_2d/MtjaEgxsNzI0LWJsb2cO0O0O.html\n",
    "+ [python的captcha验证码生成](https://www.cnblogs.com/the-wolf-sky/articles/10106812.html)\n",
    "+ https://blog.csdn.net/qq_37781464/article/details/89919821\n"
   ]
  },
  {
   "cell_type": "code",
   "execution_count": 120,
   "metadata": {},
   "outputs": [
    {
     "output_type": "execute_result",
     "data": {
      "text/plain": "'2974'"
     },
     "metadata": {},
     "execution_count": 120
    }
   ],
   "source": [
    "def captcha_generator(character_set:str, font_set=None, save_path='./', size=(170,80),\n",
    "                         style=((255, 0, 0), (255, 255, 255)), captcha_len=4):\n",
    "    '''\n",
    "    验证码生成器\n",
    "    character_set: 用于生成验证码的字符集，字符集以str类型传入\n",
    "    font_set: 字体集，必须要list类型，本机的字体路径，['path/to/font.ttf', 'path/to/font2.ttf']\n",
    "    save_path: 验证码图片的保存位置，默认为当前文件夹\n",
    "    size: 生成验证码图片的尺寸，tuple类型，格式：（长，宽)，默认（170，80）\n",
    "    style: 生成验证码的样式，tuple类型，格式：(color, background), 其中color和background均为三元tuple，默认为\n",
    "    captcha_len: 要生成的验证码长度，即验证码字符个数\n",
    "    '''\n",
    "    captcha_text = ''.join(random.sample(character_set, captcha_len))\n",
    "    imgCap = ImageCaptcha(width=size[0], height=size[1], fonts=font_set)\n",
    "    captcha_img = imgCap.create_captcha_image(\n",
    "        captcha_text, style[0], style[1]\n",
    "    ) # create_captcha_image(chars, color, background)\n",
    "    # plt.savefig(os.path.join(save_path, '{}.png'.format(captcha_text)))\n",
    "    # captcha_img.savefig(os.path.join(save_path, '{}.png'.format(captcha_text)))\n",
    "    # plt.imsave(os.path.join(save_path, '{}.png'.format(captcha_text)), captcha_img)\n",
    "    # 以上保存不了\n",
    "    # return captcha_img\n",
    "    captcha_img.save(os.path.join(save_path, '{}.png'.format(captcha_text)))\n",
    "    # 可以用以下方法代替实现，同时保存本地\n",
    "    # captcha_img = imgCap.write(captcha_text, \n",
    "    #                 os.path.join(save_path, '{}.png'.format(captcha_text)),\n",
    "    #                 format='png') # 这个会有加背景噪点\n",
    "    # ------------------------------------------------------------------------------\n",
    "    return captcha_text\n",
    "\n",
    "captcha_generator(character_set_digit, captcha_len=4, font_set=FONT)"
   ]
  },
  {
   "cell_type": "code",
   "execution_count": null,
   "metadata": {},
   "outputs": [],
   "source": [
    "# amount = 10\n",
    "# for i in range(amount):\n",
    "#     captcha_generator(character_set_digit, save_path=DATA, captcha_len=4)\n",
    "# print('{} captcha generated !'.format(amount))"
   ]
  },
  {
   "cell_type": "code",
   "execution_count": null,
   "metadata": {},
   "outputs": [],
   "source": [
    "imgCap = ImageCaptcha()\n",
    "imgCap.generate_image('1234')"
   ]
  }
 ],
 "metadata": {
  "language_info": {
   "codemirror_mode": {
    "name": "ipython",
    "version": 3
   },
   "file_extension": ".py",
   "mimetype": "text/x-python",
   "name": "python",
   "nbconvert_exporter": "python",
   "pygments_lexer": "ipython3",
   "version": "3.7.5-final"
  },
  "orig_nbformat": 2,
  "kernelspec": {
   "name": "python37564bit7864ce697006450d81c3f54dae018d4c",
   "display_name": "Python 3.7.5 64-bit"
  }
 },
 "nbformat": 4,
 "nbformat_minor": 2
}